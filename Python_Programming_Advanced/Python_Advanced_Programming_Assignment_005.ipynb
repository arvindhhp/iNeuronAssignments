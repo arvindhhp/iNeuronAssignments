{
 "cells": [
  {
   "cell_type": "markdown",
   "id": "ca0ef033",
   "metadata": {},
   "source": [
    "# Question 1:\n",
    "\n",
    "#### Create a function that takes a number n (integer greater than zero) as an argument, and returns 2 if n is odd and 8 if n is even.\n",
    "\n",
    "#### You can only use the following arithmetic operators: addition of numbers +,subtraction of numbers -, multiplication of number *, division of number /, and exponentiation ***."
   ]
  },
  {
   "cell_type": "code",
   "execution_count": 4,
   "id": "79893257",
   "metadata": {},
   "outputs": [
    {
     "name": "stdout",
     "output_type": "stream",
     "text": [
      "Function Returns 2 if entered integer is ODD, Returns 8 if entered integer is EVEN\n",
      "\n",
      "Enter the integer : 3\n",
      "\n",
      "2\n"
     ]
    }
   ],
   "source": [
    "def odd_even(num):\n",
    "    \n",
    "    odd_even_pred = [2, 8]\n",
    "    \n",
    "    return odd_even_pred[num%2-1]\n",
    "\n",
    "print('Function Returns 2 if entered integer is ODD, Returns 8 if entered integer is EVEN\\n')\n",
    "\n",
    "num = int(input('Enter the integer : '))\n",
    "\n",
    "print(f'\\n{odd_even(num)}')"
   ]
  },
  {
   "cell_type": "markdown",
   "id": "97f20f4a",
   "metadata": {},
   "source": [
    "# Question 2:\n",
    "\n",
    "#### Create a function that returns the majority vote in a list. A majority vote is an element that occurs &gt; N/2 times in a list (where N is the length of the list)."
   ]
  },
  {
   "cell_type": "code",
   "execution_count": 13,
   "id": "49d065d5",
   "metadata": {},
   "outputs": [
    {
     "name": "stdout",
     "output_type": "stream",
     "text": [
      "Enter the number of elements in the list : 6\n",
      "\n",
      "\n",
      "Enter the 1th element of the list: A\n",
      "Enter the 2th element of the list: A\n",
      "Enter the 3th element of the list: A\n",
      "Enter the 4th element of the list: B\n",
      "Enter the 5th element of the list: C\n",
      "Enter the 6th element of the list: A\n",
      "\n",
      "Majority Vote : A\n"
     ]
    }
   ],
   "source": [
    "def majority_vote(list_):\n",
    "    \n",
    "    maj_vot = None\n",
    "    \n",
    "    for ele in list_:\n",
    "        if list_.count(ele) > len(list_)/2:\n",
    "            maj_vot = ele\n",
    "            \n",
    "    return maj_vot\n",
    "\n",
    "#main program\n",
    "\n",
    "list_ = []\n",
    "num = int(input('Enter the number of elements in the list : '))\n",
    "\n",
    "print('\\n')\n",
    "\n",
    "for k in range(num):\n",
    "    list_.append(input(f'Enter the {k+1}th element of the list: '))\n",
    "\n",
    "print(f'\\nMajority Vote : {majority_vote(list_)}')"
   ]
  },
  {
   "cell_type": "markdown",
   "id": "cabe98c0",
   "metadata": {},
   "source": [
    "# Question 3:\n",
    "\n",
    "#### Create a function that takes a string txt and censors any word from a given list lst. The text removed must be replaced by the given character char."
   ]
  },
  {
   "cell_type": "code",
   "execution_count": 20,
   "id": "940f0f27",
   "metadata": {},
   "outputs": [
    {
     "name": "stdout",
     "output_type": "stream",
     "text": [
      "Enter the string : The cow jumped over the moon.\n",
      "\n",
      "\n",
      "Enter the list of sub strings to be sensored : cow over\n",
      "Enter the censor replacement :*\n",
      "\n",
      "Censored String is : The *** jumped **** the moon.\n"
     ]
    }
   ],
   "source": [
    "def censor_String(string, censor_substring, censor_term):\n",
    "    \n",
    "    #censored_string = ''\n",
    "    \n",
    "    for word in censor_substring:\n",
    "        string = string.replace(word, censor_term*len(word))\n",
    "        \n",
    "    return string\n",
    "\n",
    "string = input('Enter the string : ')\n",
    "\n",
    "print('\\n')\n",
    "\n",
    "censor_substring = input('Enter the list of sub strings to be sensored : ').split()\n",
    "\n",
    "censor_term = input('Enter the censor replacement :')\n",
    "\n",
    "print(f'\\nCensored String is : {censor_String(string, censor_substring, censor_term)}')"
   ]
  },
  {
   "cell_type": "markdown",
   "id": "6a574494",
   "metadata": {},
   "source": [
    "# Question 4:\n",
    "\n",
    "#### Create a function which takes an integer n and returns True if the given number is a Polydivisible Number and False otherwise."
   ]
  },
  {
   "cell_type": "code",
   "execution_count": 34,
   "id": "fbe0dc82",
   "metadata": {},
   "outputs": [
    {
     "name": "stdout",
     "output_type": "stream",
     "text": [
      "Enter the number : 123220\n",
      "\n",
      "Is 123220 polydivisible : False\n"
     ]
    }
   ],
   "source": [
    "def is_polydivisible(num):\n",
    "    \n",
    "    flag = True\n",
    "    index = 2\n",
    "    \n",
    "    while index<=len(str(num)):\n",
    "        if int(str(num)[0:index])%index != 0:\n",
    "            flag = False\n",
    "            break\n",
    "        index += 1\n",
    "        \n",
    "    return flag\n",
    "\n",
    "num = int(input('Enter the number : '))\n",
    "\n",
    "print(f'\\nIs {num} polydivisible : {is_polydivisible(num)}')"
   ]
  },
  {
   "cell_type": "markdown",
   "id": "36ef4a59",
   "metadata": {},
   "source": [
    "# Question 5:\n",
    "\n",
    "#### Create a function that takes a list of numbers and returns the sum of all prime numbers in the list."
   ]
  },
  {
   "cell_type": "code",
   "execution_count": 80,
   "id": "aa6b889d",
   "metadata": {},
   "outputs": [
    {
     "name": "stdout",
     "output_type": "stream",
     "text": [
      "Enter the number of elements in the list : 7\n",
      "\n",
      "\n",
      "Enter the 0th element of the list : 2\n",
      "Enter the 1th element of the list : 3\n",
      "Enter the 2th element of the list : 4\n",
      "Enter the 3th element of the list : 11\n",
      "Enter the 4th element of the list : 20\n",
      "Enter the 5th element of the list : 50\n",
      "Enter the 6th element of the list : 71\n",
      "\n",
      "Sum of Primes : 87\n"
     ]
    }
   ],
   "source": [
    "def prime_check(num):\n",
    "    \n",
    "    flag = True\n",
    "    if num < 2:\n",
    "        flag = False\n",
    "        \n",
    "    for i in range(2, num):\n",
    "        if num%i == 0:\n",
    "            flag = False\n",
    "    \n",
    "    return flag\n",
    "\n",
    "def prime_sum(list_):\n",
    "    \n",
    "    sum_ = 0\n",
    "    \n",
    "    for ele in list_:\n",
    "        if prime_check(ele):\n",
    "            sum_+=ele\n",
    "        elif ele == 2:\n",
    "            sum_+=ele\n",
    "    \n",
    "    if sum_ == 0:\n",
    "        return None\n",
    "    else:\n",
    "        return sum_\n",
    "\n",
    "num_elements = int(input('Enter the number of elements in the list : '))\n",
    "\n",
    "list_ =[]\n",
    "\n",
    "print('\\n')\n",
    "\n",
    "for k in range(num_elements):\n",
    "    list_.append(int(input(f'Enter the {k}th element of the list : ')))\n",
    "    \n",
    "print(f'\\nSum of Primes : {prime_sum(list_)}')"
   ]
  }
 ],
 "metadata": {
  "kernelspec": {
   "display_name": "Python 3",
   "language": "python",
   "name": "python3"
  },
  "language_info": {
   "codemirror_mode": {
    "name": "ipython",
    "version": 3
   },
   "file_extension": ".py",
   "mimetype": "text/x-python",
   "name": "python",
   "nbconvert_exporter": "python",
   "pygments_lexer": "ipython3",
   "version": "3.8.8"
  }
 },
 "nbformat": 4,
 "nbformat_minor": 5
}
