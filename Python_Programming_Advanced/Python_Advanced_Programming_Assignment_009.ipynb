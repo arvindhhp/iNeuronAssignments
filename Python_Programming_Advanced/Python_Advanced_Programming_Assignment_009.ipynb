{
 "cells": [
  {
   "cell_type": "markdown",
   "id": "f26a1bd6",
   "metadata": {},
   "source": [
    "# Question 1:\n",
    "\n",
    "YouTube offers different playback speed options for users. This allows users to increase or decrease the speed of the video content. Given the actual duration and playback speed of the video, calculate the playback duration of the video."
   ]
  },
  {
   "cell_type": "code",
   "execution_count": 1,
   "id": "66f236da",
   "metadata": {},
   "outputs": [],
   "source": [
    "def playback_duration(vid_len, speed):\n",
    "    \n",
    "    len_split = vid_len.split(':')\n",
    "    \n",
    "    #converting total video length to seconds and then applying playback speed ratio\n",
    "    \n",
    "    tot_time = (int(len_split[0])*3600 + int(len_split[1])*60 + int(len_split[2]))/speed\n",
    "    duration = []\n",
    "    \n",
    "    hours = int(tot_time/3600)\n",
    "    mins = int((tot_time%3600)//60)\n",
    "    secs = int(((tot_time%3600)%60)%60)\n",
    "    \n",
    "    duration.append(hours)\n",
    "    duration.append(mins)\n",
    "    duration.append(secs)\n",
    "    \n",
    "    for index, time in enumerate(duration):\n",
    "        if time > 9:\n",
    "            duration[index] = str(time)\n",
    "        elif time > 0:\n",
    "            duration[index] = '0'+str(time)\n",
    "        else:\n",
    "            duration[index] = '00'\n",
    "            \n",
    "    return ':'.join(duration)"
   ]
  },
  {
   "cell_type": "code",
   "execution_count": 4,
   "id": "e738f4de",
   "metadata": {},
   "outputs": [
    {
     "name": "stdout",
     "output_type": "stream",
     "text": [
      "Enter the video length and the speed : 01:20:00, 1.5\n",
      "\n",
      "Playback duration is : 00:53:20\n"
     ]
    }
   ],
   "source": [
    "vid_len, speed = input('Enter the video length and the speed : ').split(', ')\n",
    "\n",
    "print(f'\\nPlayback duration is : {playback_duration(vid_len, float(speed))}')"
   ]
  },
  {
   "cell_type": "markdown",
   "id": "9f67a45f",
   "metadata": {},
   "source": [
    "# Question 2:\n",
    "We needs your help to construct a building which will be a pile of n cubes. The cube at the bottom will have a volume of n^3, the cube above will have volume of (n-1)^3 and so on until the top which will have a volume of 1^3.\n",
    "\n",
    "Given the total volume m of the building, can you find the number of cubes n required for the building?"
   ]
  },
  {
   "cell_type": "code",
   "execution_count": 1,
   "id": "123b3a24",
   "metadata": {},
   "outputs": [
    {
     "name": "stdout",
     "output_type": "stream",
     "text": [
      "Enter the total volume :4183059834009\n",
      "Number of Cubes : 2022\n"
     ]
    }
   ],
   "source": [
    "def pile_of_cubes(volume):\n",
    "    \n",
    "    max_limit = int(volume**(1/3))\n",
    "    \n",
    "    for num in range(max_limit):\n",
    "        if ((num*(num+1))**2)/4 == volume:\n",
    "            return num\n",
    "        elif ((num*(num+1))**2)/4 > volume:\n",
    "            return None\n",
    "\n",
    "volume = int(input('Enter the total volume :'))\n",
    "print(f'Number of Cubes : {pile_of_cubes(volume)}')"
   ]
  },
  {
   "cell_type": "markdown",
   "id": "3eb940f0",
   "metadata": {},
   "source": [
    "# Question 3:\n",
    "\n",
    "A fulcrum of a list is an integer such that all elements to the left of it and all elements to the right of it sum to the same value. Write a function that finds the fulcrum of a list."
   ]
  },
  {
   "cell_type": "code",
   "execution_count": 2,
   "id": "459cc662",
   "metadata": {},
   "outputs": [
    {
     "name": "stdout",
     "output_type": "stream",
     "text": [
      "Fulcrum of the array [1, 2, 4, 9, 10, -10, -9, 3] : 4\n"
     ]
    }
   ],
   "source": [
    "def find_fulcrum(array):\n",
    "    \n",
    "    flag = False\n",
    "    \n",
    "    for index, ele in enumerate(array):\n",
    "        \n",
    "        if index < len(array)-1:\n",
    "            if sum(array[:index]) == sum(array[index+1:]):\n",
    "                flag = True\n",
    "                return ele\n",
    "    \n",
    "    return flag\n",
    "\n",
    "#Main program\n",
    "array = [1, 2, 4, 9, 10, -10, -9, 3]\n",
    "print(f'Fulcrum of the array {array} : {find_fulcrum(array)}')"
   ]
  },
  {
   "cell_type": "markdown",
   "id": "ed370e38",
   "metadata": {},
   "source": [
    "# Question 4:\n",
    "\n",
    "Given a list of integers representing the color of each sock, determine how many pairs of socks with matching colors there are. For example, there are 7 socks with colors [1, 2, 1, 2, 1, 3, 2]. There is one pair of color 1 and one of color 2. There are three odd socks left, one of each color. The number of pairs is 2.\n",
    "\n",
    "Create a function that returns an integer representing the number of matching pairs of socks that are available."
   ]
  },
  {
   "cell_type": "code",
   "execution_count": 3,
   "id": "b1e06141",
   "metadata": {},
   "outputs": [
    {
     "name": "stdout",
     "output_type": "stream",
     "text": [
      "Total pairs of socks : 3\n"
     ]
    }
   ],
   "source": [
    "def sock_merchant(sock_list):\n",
    "    \n",
    "    sock_colors = set(sock_list)\n",
    "    pair_count = 0\n",
    "    \n",
    "    for ele in sock_colors:\n",
    "        pair_count += int(sock_list.count(ele)/2)\n",
    "        \n",
    "    return pair_count\n",
    "\n",
    "#Main program\n",
    "sock_list = [10, 20, 20, 10, 10, 30, 50, 10, 20]\n",
    "print(f'Total pairs of socks : {sock_merchant(sock_list)}')\n",
    "        "
   ]
  },
  {
   "cell_type": "markdown",
   "id": "d3b6b980",
   "metadata": {},
   "source": [
    "# Question 5:\n",
    "\n",
    "Create a function that takes a string containing integers as well as other characters and return the sum of the negative integers only."
   ]
  },
  {
   "cell_type": "code",
   "execution_count": 3,
   "id": "5cf49774",
   "metadata": {},
   "outputs": [
    {
     "name": "stdout",
     "output_type": "stream",
     "text": [
      "Enter the string : 22 13%14&-11-22 13 12\n",
      "\n",
      "List of negative inetegers : [-11, -22], Sum : -33\n"
     ]
    }
   ],
   "source": [
    "def negative_sum(string):\n",
    "    \n",
    "    negative_int_pos = []\n",
    "    \n",
    "    for index, char in enumerate(string):\n",
    "        if char == '-':\n",
    "            negative_int_pos.append(index)\n",
    "    \n",
    "    negative_int = []\n",
    "    neg_int_str = ''\n",
    "    \n",
    "    for index in negative_int_pos:\n",
    "        for k in range(index+1,len(string)):\n",
    "            try:\n",
    "                neg_int_str += str(int(string[k]))\n",
    "            except:\n",
    "                break\n",
    "        if len(neg_int_str) != 0:\n",
    "            negative_int.append(int('-'+neg_int_str))\n",
    "        \n",
    "        neg_int_str = ''\n",
    "        \n",
    "    \n",
    "    return negative_int, sum(negative_int)\n",
    "\n",
    "#Main Program\n",
    "\n",
    "string = input('Enter the string : ')\n",
    "print(f'\\nList of negative inetegers : {negative_sum(string)[0]}, Sum : {negative_sum(string)[1]}' )"
   ]
  }
 ],
 "metadata": {
  "kernelspec": {
   "display_name": "Python 3",
   "language": "python",
   "name": "python3"
  },
  "language_info": {
   "codemirror_mode": {
    "name": "ipython",
    "version": 3
   },
   "file_extension": ".py",
   "mimetype": "text/x-python",
   "name": "python",
   "nbconvert_exporter": "python",
   "pygments_lexer": "ipython3",
   "version": "3.8.8"
  }
 },
 "nbformat": 4,
 "nbformat_minor": 5
}
