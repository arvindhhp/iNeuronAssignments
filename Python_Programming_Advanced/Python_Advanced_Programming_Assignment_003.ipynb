{
 "cells": [
  {
   "cell_type": "markdown",
   "id": "f40fa68d",
   "metadata": {},
   "source": [
    "# Question 1:\n",
    "\n",
    "Create a function to perform basic arithmetic operations that includes addition, subtraction, multiplication and division on a string number \n",
    "\n",
    "(e.g. \"12 + 24\" or \"23 - 21\" or \"12 // 12\" or \"12 * 21\").\n",
    "\n",
    "Here, we have 1 followed by a space, operator followed by another space and 2. \n",
    "\n",
    "For the challenge, we are going to have only two numbers between 1 valid operator. The return value should be a number."
   ]
  },
  {
   "cell_type": "code",
   "execution_count": 1,
   "id": "5c46cc7b",
   "metadata": {},
   "outputs": [
    {
     "name": "stdout",
     "output_type": "stream",
     "text": [
      "Enter the expression : 12*12\n",
      "\n",
      "Evaluation of 12*12 is 144\n"
     ]
    }
   ],
   "source": [
    "import re\n",
    "\n",
    "import operator\n",
    "\n",
    "operator_list = {\n",
    "    '+' : operator.add,\n",
    "    '-' : operator.sub,\n",
    "    '*' : operator.mul,\n",
    "    '/' : operator.truediv,\n",
    "    '%' : operator.mod,\n",
    "    '^' : operator.xor,\n",
    "    '//': operator.floordiv\n",
    "}\n",
    " \n",
    "def arithemetic_operation(expression):\n",
    "    \n",
    "    space_stripped = ''\n",
    "    \n",
    "    for char in expression:\n",
    "        if char != ' ':\n",
    "            space_stripped += char\n",
    "    \n",
    "    num1 = int(re.findall('\\d+', space_stripped)[0])\n",
    "    num2 = int(re.findall('\\d+', space_stripped)[1])\n",
    "    \n",
    "    \n",
    "    opr = ''\n",
    "    \n",
    "    for char in space_stripped:\n",
    "        if not re.search('\\d',char):\n",
    "            opr += char\n",
    "    \n",
    "    if opr == '//' and num2 == 0:\n",
    "        return -1\n",
    "    \n",
    "    if opr == '/' and num2 == 0:\n",
    "        return -1\n",
    "    \n",
    "    if opr == '%' and num2 == 0:\n",
    "        return -1\n",
    "    \n",
    "    return  operator_list[opr](num1, num2)\n",
    "    \n",
    "expression = input('Enter the expression : ')\n",
    "\n",
    "print(f'\\nEvaluation of {expression} is {arithemetic_operation(expression)}')"
   ]
  },
  {
   "cell_type": "markdown",
   "id": "f6bd3b72",
   "metadata": {},
   "source": [
    "# Question 2:\n",
    "\n",
    "Write a function that takes the coordinates of three points in the form of a 2d0 array and returns the perimeter of the triangle. The given points are the vertices of a triangle on a two-dimensional plane."
   ]
  },
  {
   "cell_type": "code",
   "execution_count": 2,
   "id": "e7171e0d",
   "metadata": {},
   "outputs": [
    {
     "name": "stdout",
     "output_type": "stream",
     "text": [
      "Enter the vertex 1 coordinate's 1th value : -10\n",
      "Enter the vertex 1 coordinate's 2th value : -10\n",
      "Enter the vertex 2 coordinate's 1th value : 10\n",
      "Enter the vertex 2 coordinate's 2th value : 10\n",
      "Enter the vertex 3 coordinate's 1th value : -10\n",
      "Enter the vertex 3 coordinate's 2th value : 10\n",
      "\n",
      "Perimeter of the triangle is : 68.28\n"
     ]
    }
   ],
   "source": [
    "#function to calculate distance between any two coordinates\n",
    "\n",
    "def distance(coord):\n",
    "    return (((coord[1][0] - coord[0][0])**2)+((coord[1][1] - coord[0][1])**2))**0.5\n",
    "\n",
    "#perimeter of triangle function\n",
    "\n",
    "def perimeter(vertices):\n",
    "    side_3 = [vertices[2]]+[vertices[0]]\n",
    "    return distance(vertices[0:2]) + distance(vertices[1:]) + distance(side_3)\n",
    "\n",
    "#main program\n",
    "vertices = []\n",
    "temp_coord = []\n",
    "\n",
    "for i in range(3):\n",
    "    for j in range(2):\n",
    "        temp_coord.append(int(input(f\"Enter the vertex {i+1} coordinate's {j+1}th value : \")))\n",
    "    vertices.append(temp_coord)\n",
    "    temp_coord = []\n",
    "    \n",
    "print(f'\\nPerimeter of the triangle is : {round(perimeter(vertices), 2)}')"
   ]
  },
  {
   "cell_type": "markdown",
   "id": "fb2bc225",
   "metadata": {},
   "source": [
    "# Question 3:\n",
    "\n",
    "A city skyline can be represented as a 2-D list with 1s representing buildings.\n",
    "\n",
    "Create a function that takes a skyline (2-D list of 0&#39;s and 1&#39;s) and returns the height of the tallest skyscraper."
   ]
  },
  {
   "cell_type": "code",
   "execution_count": 3,
   "id": "98eaff2e",
   "metadata": {},
   "outputs": [
    {
     "name": "stdout",
     "output_type": "stream",
     "text": [
      "Height of the tallest skyscrapper is : 4\n"
     ]
    }
   ],
   "source": [
    "def tallest_skyscrapper(skyline):\n",
    "    \n",
    "    rows = len(skyline)\n",
    "    num_build = len(skyline[0])\n",
    "    \n",
    "    #variables for induvidual building heights\n",
    "    \n",
    "    for i in range(1, num_build+1):\n",
    "        globals()[f'building{i}']=0\n",
    "    \n",
    "    for col in range(num_build):\n",
    "        for r in range(rows):\n",
    "            \n",
    "            if skyline[r][col] == 1:\n",
    "                globals()[f'building{col+1}']+=1\n",
    "                \n",
    "    max =  building1\n",
    "    \n",
    "    for i in range(num_build):\n",
    "    \n",
    "        if globals()[f'building{i+1}'] > max:\n",
    "            max = globals()[f'building{i+1}']\n",
    "    \n",
    "    return max\n",
    "\n",
    "skyline = [[0,0,0,1], [1,1,1,1], [0,0,1,1], [0,0,0,1]]\n",
    "\n",
    "print(f'Height of the tallest skyscrapper is : {tallest_skyscrapper(skyline)}')"
   ]
  },
  {
   "cell_type": "markdown",
   "id": "3089bfcc",
   "metadata": {},
   "source": [
    "# Question 4:\n",
    "\n",
    "\n",
    "A financial institution provides professional services to banks and claims charges from the customers based on the number of man-days provided. Internally, it has set a scheme to motivate and reward staff to meet and exceed targeted billable utilization and revenues by paying a bonus for each day claimed from customers in excess of a threshold target.\n",
    "\n",
    "This quarterly scheme is calculated with a threshold target of 32 days per quarter, and the incentive payment for each billable day in excess of such threshold target is shown as follows:\n",
    "\n",
    "Days\t                             Bonus\n",
    "\n",
    "0 to 32 days\t                   Zero\n",
    "\n",
    "33 to 40 days\t         SGD$325 per billable day\n",
    "\n",
    "41 to 48 days\t         SGD$550 per billable day\n",
    "\n",
    "Greater than 48 days      SGD$600 per billable day"
   ]
  },
  {
   "cell_type": "code",
   "execution_count": 6,
   "id": "fc3c5633",
   "metadata": {},
   "outputs": [
    {
     "name": "stdout",
     "output_type": "stream",
     "text": [
      "Enter the number of billable days : 50\n",
      "Total Bonus : 8200\n"
     ]
    }
   ],
   "source": [
    "def bonus33to40(days):\n",
    "    \n",
    "    if days > 32 and days <= 40:\n",
    "        return (days-32)*325\n",
    "    elif days > 40:\n",
    "        return 8*325\n",
    "    else:\n",
    "        return 0\n",
    "\n",
    "def bonus41to48(days):\n",
    "    if days > 40 and days <= 48:\n",
    "        return (days-40)*550\n",
    "    elif days > 48:\n",
    "        return 8*550\n",
    "    else:\n",
    "        return 0\n",
    "\n",
    "def bonus49plus(days):\n",
    "    if days > 48:\n",
    "        return (days-48)*600\n",
    "    else:\n",
    "        return 0\n",
    "    \n",
    "def bonus(days):\n",
    "    return bonus33to40(days) + bonus41to48(days) + bonus49plus(days)\n",
    "\n",
    "days = int(input('Enter the number of billable days : '))\n",
    "\n",
    "print(f'Total Bonus : {bonus(days)}')"
   ]
  },
  {
   "cell_type": "markdown",
   "id": "5ad87f87",
   "metadata": {},
   "source": [
    "# Question 5:\n",
    "\n",
    "\n",
    "A number is said to be Disarium if the sum of its digits raised to their respective positions is the number itself.\n",
    "\n",
    "Create a function that determines whether a number is a Disarium or not.\n"
   ]
  },
  {
   "cell_type": "code",
   "execution_count": 17,
   "id": "866db819",
   "metadata": {},
   "outputs": [
    {
     "name": "stdout",
     "output_type": "stream",
     "text": [
      "Enter the number : 518\n",
      "\n",
      "518 is a Disarium Number\n"
     ]
    }
   ],
   "source": [
    "def disarium(num):\n",
    "    \n",
    "    rev_num = str(num)\n",
    "    disarium = 0\n",
    "    \n",
    "    for pos, i in enumerate(rev_num):\n",
    "        disarium += int(i)**(pos+1)\n",
    "        \n",
    "    return disarium\n",
    "\n",
    "num = int(input('Enter the number : '))\n",
    "\n",
    "if disarium(num) == num:\n",
    "    print(f'\\n{num} is a Disarium Number')\n",
    "else:\n",
    "    print(f'\\n{num} is NOT A Disarium Number')"
   ]
  }
 ],
 "metadata": {
  "kernelspec": {
   "display_name": "Python 3",
   "language": "python",
   "name": "python3"
  },
  "language_info": {
   "codemirror_mode": {
    "name": "ipython",
    "version": 3
   },
   "file_extension": ".py",
   "mimetype": "text/x-python",
   "name": "python",
   "nbconvert_exporter": "python",
   "pygments_lexer": "ipython3",
   "version": "3.8.8"
  }
 },
 "nbformat": 4,
 "nbformat_minor": 5
}
