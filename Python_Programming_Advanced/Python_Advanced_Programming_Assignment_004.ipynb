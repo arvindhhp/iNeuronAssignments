{
 "cells": [
  {
   "cell_type": "markdown",
   "id": "44031c98",
   "metadata": {},
   "source": [
    "# Question 1:\n",
    "\n",
    "#### The function fastFib(num) returns the fibonacci number Fn, of the given num as an argument."
   ]
  },
  {
   "cell_type": "code",
   "execution_count": 1,
   "id": "7a53caf3",
   "metadata": {},
   "outputs": [
    {
     "name": "stdout",
     "output_type": "stream",
     "text": [
      "Enter the Fibonacci index : 20\n",
      "Fibonacci Number 20 is 6765\n"
     ]
    }
   ],
   "source": [
    "def fastFib(num):\n",
    "    \n",
    "    if num == 0:\n",
    "        return 0\n",
    "    \n",
    "    elif num == 1:\n",
    "        return 1\n",
    "    \n",
    "    else:\n",
    "        return fastFib(num-1) + fastFib(num-2)\n",
    "    \n",
    "num = int(input('Enter the Fibonacci index : '))\n",
    "\n",
    "print(f'Fibonacci Number {num} is {fastFib(num)}')"
   ]
  },
  {
   "cell_type": "markdown",
   "id": "bdf1640c",
   "metadata": {},
   "source": [
    "# Question 2:\n",
    "\n",
    "#### Given a censored string and a string of the censored vowels, return the original uncensored string."
   ]
  },
  {
   "cell_type": "code",
   "execution_count": 19,
   "id": "2227a2ac",
   "metadata": {},
   "outputs": [
    {
     "name": "stdout",
     "output_type": "stream",
     "text": [
      "Enter the string : Marty Poppinson\n",
      "\n",
      "Hexadecimal Equivalent : 4D 61 72 74 79 20 50 6F 70 70 69 6E 73 6F 6E\n"
     ]
    }
   ],
   "source": [
    "hex_dict = {0:0, 1:1, 2:2, 3:3, 4:4, 5:5, 6:6, 7:7, 8:8, 9:9, 10:'A', 11:'B', 12:'C', 13:'D', 14:'E', 15:'F'}\n",
    "\n",
    "def dectohex(num):\n",
    "    \n",
    "    num_str = str(num)\n",
    "    hex_ = ''\n",
    "    \n",
    "    while num//16 !=0:\n",
    "        hex_ += str(hex_dict[num%16])\n",
    "        num = num//16\n",
    "    \n",
    "    hex_ += str(hex_dict[num%16])\n",
    "    \n",
    "    hex_ = hex_[::-1]\n",
    "    \n",
    "    return(hex_)\n",
    "\n",
    "def stringtohex(string):\n",
    "    \n",
    "    hex_string = ''\n",
    "    \n",
    "    for char in string:\n",
    "        hex_string += dectohex(ord(char))+' '\n",
    "        \n",
    "    return hex_string.strip()\n",
    "    \n",
    "string = input('Enter the string : ')\n",
    "print(f'\\nHexadecimal Equivalent : {stringtohex(string)}')"
   ]
  },
  {
   "cell_type": "markdown",
   "id": "f8801c7d",
   "metadata": {},
   "source": [
    "# Question 3:\n",
    "\n",
    "### Given a censored string and a string of the censored vowels, return the original uncensored string."
   ]
  },
  {
   "cell_type": "code",
   "execution_count": 42,
   "id": "308ab20f",
   "metadata": {},
   "outputs": [
    {
     "name": "stdout",
     "output_type": "stream",
     "text": [
      "Enter the censored string and missing vowels : Wh*r* d*d my v*w*ls g*?,eeioeo\n",
      "Uncensored String : Where did my vowels go?\n"
     ]
    }
   ],
   "source": [
    "def uncensor(string, censor):\n",
    "    \n",
    "    censor_index = 0\n",
    "    \n",
    "    for char in censor:\n",
    "        string = string.replace('*', char, 1)\n",
    "    \n",
    "    return string\n",
    "\n",
    "string, censor = input('Enter the censored string and missing vowels : ').split(sep = ',')\n",
    "\n",
    "print(f'Uncensored String : {uncensor(string, censor)}')"
   ]
  },
  {
   "cell_type": "markdown",
   "id": "f19eb264",
   "metadata": {},
   "source": [
    "# Question 4:\n",
    "\n",
    "#### Write a function that takes an IP address and returns the domain name using PTR DNS records."
   ]
  },
  {
   "cell_type": "code",
   "execution_count": 51,
   "id": "abdd8ad4",
   "metadata": {},
   "outputs": [
    {
     "name": "stdout",
     "output_type": "stream",
     "text": [
      "Domain name using PTR DNS:\n",
      "\n",
      "8.8.8.8 : dns.google\n",
      "\n",
      "8.8.4.4 : dns.google\n"
     ]
    }
   ],
   "source": [
    "import socket\n",
    "\n",
    "def get_domain_name(ip_address):\n",
    "    result=socket.gethostbyaddr(ip_address)\n",
    "    return list(result)[0]\n",
    "\n",
    "print(\"Domain name using PTR DNS:\")\n",
    "print(f'\\n8.8.8.8 : {get_domain_name(\"8.8.8.8\")}')\n",
    "print(f'\\n8.8.4.4 : {get_domain_name(\"8.8.4.4\")}')"
   ]
  },
  {
   "cell_type": "markdown",
   "id": "b5a4abee",
   "metadata": {},
   "source": [
    "# Question 5:\n",
    "\n",
    "#### Create a function that takes an integer n and returns the factorial of factorials."
   ]
  },
  {
   "cell_type": "code",
   "execution_count": 56,
   "id": "f4a8b567",
   "metadata": {},
   "outputs": [
    {
     "name": "stdout",
     "output_type": "stream",
     "text": [
      "Enter the number : 6\n",
      "\n",
      "Factorial of factorial : 24883200\n"
     ]
    }
   ],
   "source": [
    "def factoffact(num):\n",
    "    \n",
    "    if num == 0 or num == 1:\n",
    "        return 1\n",
    "    \n",
    "    else:\n",
    "        return factorial(num)*factoffact(num-1)\n",
    "\n",
    "def factorial(num):\n",
    "    \n",
    "    if num == 0 or num == 1:\n",
    "        return 1\n",
    "    \n",
    "    else:\n",
    "        return num*factorial(num-1)\n",
    "    \n",
    "num = int(input('Enter the number : '))\n",
    "\n",
    "print(f'\\nFactorial of factorial : {factoffact(num)}')"
   ]
  }
 ],
 "metadata": {
  "kernelspec": {
   "display_name": "Python 3",
   "language": "python",
   "name": "python3"
  },
  "language_info": {
   "codemirror_mode": {
    "name": "ipython",
    "version": 3
   },
   "file_extension": ".py",
   "mimetype": "text/x-python",
   "name": "python",
   "nbconvert_exporter": "python",
   "pygments_lexer": "ipython3",
   "version": "3.8.8"
  }
 },
 "nbformat": 4,
 "nbformat_minor": 5
}
