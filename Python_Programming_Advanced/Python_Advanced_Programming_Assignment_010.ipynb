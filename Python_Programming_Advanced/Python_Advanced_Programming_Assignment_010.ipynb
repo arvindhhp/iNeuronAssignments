{
 "cells": [
  {
   "cell_type": "markdown",
   "id": "8e1a2d7e",
   "metadata": {},
   "source": [
    "# Question 1:\n",
    "\n",
    "Create a function that takes the width, height and character and returns a picture frame as a 2D list."
   ]
  },
  {
   "cell_type": "code",
   "execution_count": 1,
   "id": "8d764689",
   "metadata": {},
   "outputs": [],
   "source": [
    "def get_frame(rows, cols, char):\n",
    "    \n",
    "    frame = []\n",
    "    frame_rows = []\n",
    "    \n",
    "    for i in range(rows):\n",
    "        for j in range(cols):\n",
    "            if i == 0 or i == rows-1 or j==0 or j == cols-1:\n",
    "                frame_rows.append(char)\n",
    "            else:\n",
    "                frame_rows.append(\" \")\n",
    "                \n",
    "        frame.append(frame_rows)\n",
    "        frame_rows = []\n",
    "    \n",
    "    return frame\n",
    "\n",
    "def display_frame(frame):\n",
    "    \n",
    "    for row in range(len(frame)):\n",
    "        for col in range(len(frame[0])):\n",
    "            print(frame[row][col], end = ' ')\n",
    "            \n",
    "        print('')"
   ]
  },
  {
   "cell_type": "code",
   "execution_count": 2,
   "id": "62993854",
   "metadata": {},
   "outputs": [
    {
     "name": "stdout",
     "output_type": "stream",
     "text": [
      "Enter the number of rows, columns and character of the frame : 5,5,@\n",
      "\n",
      "Frame\n",
      "\n",
      "@ @ @ @ @ \n",
      "@       @ \n",
      "@       @ \n",
      "@       @ \n",
      "@ @ @ @ @ \n"
     ]
    }
   ],
   "source": [
    "#Main Program\n",
    "\n",
    "rows, cols, char = input('Enter the number of rows, columns and character of the frame : ').split(',')\n",
    "\n",
    "rows = int(rows)\n",
    "cols = int(cols)\n",
    "\n",
    "print(f'\\nFrame\\n')\n",
    "display_frame(get_frame(rows, cols, char))"
   ]
  },
  {
   "cell_type": "markdown",
   "id": "cba2aaf6",
   "metadata": {},
   "source": [
    "# Question 2:\n",
    "\n",
    "Write three functions:\n",
    "\n",
    "  1. boolean_and\n",
    "  2. boolean_or\n",
    "  3. boolean_xor\n",
    "  \n",
    "These functions should evaluate a list of True and False values, starting from the leftmost element and evaluating pairwise."
   ]
  },
  {
   "cell_type": "code",
   "execution_count": 3,
   "id": "28edcefd",
   "metadata": {},
   "outputs": [],
   "source": [
    "#functions to evaluate boolean expressions, AND/OR/XOR\n",
    "\n",
    "def and_(a,b):\n",
    "    return a and b\n",
    "\n",
    "def or_(a,b):\n",
    "    return a or b\n",
    "\n",
    "def xor_(a,b):\n",
    "    if a == b:\n",
    "        return False\n",
    "    else:\n",
    "        return True"
   ]
  },
  {
   "cell_type": "code",
   "execution_count": 4,
   "id": "b05bd2a6",
   "metadata": {},
   "outputs": [],
   "source": [
    "#list boolean function - boolean_and\n",
    "\n",
    "def boolean_and(array):\n",
    "    \n",
    "    if len(array) == 2:\n",
    "        return and_(array[0], array[1])\n",
    "    \n",
    "    else:\n",
    "        temp_list = []\n",
    "        temp_list.append(and_(array[0], array[1]))\n",
    "        return boolean_and(temp_list + array[2:])"
   ]
  },
  {
   "cell_type": "code",
   "execution_count": 5,
   "id": "7c7497e3",
   "metadata": {},
   "outputs": [],
   "source": [
    "#list boolean function - boolean_or\n",
    "\n",
    "def boolean_or(array):\n",
    "    \n",
    "    if len(array) == 2:\n",
    "        return or_(array[0], array[1])\n",
    "    \n",
    "    else:\n",
    "        temp_list = []\n",
    "        temp_list.append(or_(array[0], array[1]))\n",
    "        return boolean_or(temp_list + array[2:])"
   ]
  },
  {
   "cell_type": "code",
   "execution_count": 6,
   "id": "fbfaad30",
   "metadata": {},
   "outputs": [],
   "source": [
    "#list boolean function - boolean_xor\n",
    "\n",
    "def boolean_xor(array):\n",
    "    \n",
    "    if len(array) == 2:\n",
    "        return xor_(array[0], array[1])\n",
    "    \n",
    "    else:\n",
    "        temp_list = []\n",
    "        temp_list.append(xor_(array[0], array[1]))\n",
    "        return boolean_xor(temp_list + array[2:])"
   ]
  },
  {
   "cell_type": "code",
   "execution_count": 7,
   "id": "00474e24",
   "metadata": {},
   "outputs": [
    {
     "name": "stdout",
     "output_type": "stream",
     "text": [
      "\n",
      "\n",
      "False\n",
      "\n",
      "\n",
      "True\n",
      "\n",
      "\n",
      "False\n",
      "\n",
      "\n"
     ]
    }
   ],
   "source": [
    "array1 = [True, True, False, True]\n",
    "array2 = [True, True, False, False]\n",
    "array3 = [True, True, False, False]\n",
    "\n",
    "print('\\n')\n",
    "print(boolean_and(array1[:]))\n",
    "print('\\n')\n",
    "print(boolean_or(array2[:]))\n",
    "print('\\n')\n",
    "print(boolean_xor(array3[:]))\n",
    "print('\\n')"
   ]
  },
  {
   "cell_type": "markdown",
   "id": "4656c606",
   "metadata": {},
   "source": [
    "# Question 3:\n",
    "\n",
    "Create a function that creates a box based on dimension n"
   ]
  },
  {
   "cell_type": "code",
   "execution_count": 8,
   "id": "291cd25f",
   "metadata": {},
   "outputs": [],
   "source": [
    "def make_box(n, char='#'):\n",
    "    \n",
    "    frame = []\n",
    "    frame_rows = ''\n",
    "    \n",
    "    for i in range(n):\n",
    "        for j in range(n):\n",
    "            if i == 0 or i == n-1 or j==0 or j == n-1:\n",
    "                frame_rows+=char\n",
    "            else:\n",
    "                frame_rows+=\" \"\n",
    "                \n",
    "        frame.append(frame_rows)\n",
    "        frame_rows = \"\"\n",
    "    \n",
    "    return frame\n",
    "\n",
    "def display_box(frame):\n",
    "    \n",
    "    for row in range(len(frame)):\n",
    "        for index in range(len(frame[0])):\n",
    "            print(frame[row][index], end = \" \")\n",
    "        print(\"\")"
   ]
  },
  {
   "cell_type": "code",
   "execution_count": 9,
   "id": "13b88ae4",
   "metadata": {},
   "outputs": [
    {
     "name": "stdout",
     "output_type": "stream",
     "text": [
      "Enter the dimension of the box : 10\n",
      "\n",
      "Formatted Box\n",
      "\n",
      "# # # # # # # # # # \n",
      "#                 # \n",
      "#                 # \n",
      "#                 # \n",
      "#                 # \n",
      "#                 # \n",
      "#                 # \n",
      "#                 # \n",
      "#                 # \n",
      "# # # # # # # # # # \n"
     ]
    }
   ],
   "source": [
    "#Main Program\n",
    "\n",
    "n = int(input('Enter the dimension of the box : '))\n",
    "\n",
    "print('\\nFormatted Box\\n')\n",
    "\n",
    "display_box(make_box(n))"
   ]
  },
  {
   "cell_type": "markdown",
   "id": "40df027e",
   "metadata": {},
   "source": [
    "# Question 4:\n",
    "\n",
    "Given a common phrase, return False if any individual word in the phrase contains duplicate letters. Return True otherwise."
   ]
  },
  {
   "cell_type": "code",
   "execution_count": 10,
   "id": "20028b4f",
   "metadata": {},
   "outputs": [],
   "source": [
    "def no_duplicate_letters(sentence):\n",
    "    \n",
    "    flag = True\n",
    "    \n",
    "    for word in sentence.split(' '):\n",
    "        for char in word:\n",
    "            if word.count(char) > 1:\n",
    "                flag = False\n",
    "                break\n",
    "    \n",
    "    return flag"
   ]
  },
  {
   "cell_type": "code",
   "execution_count": 11,
   "id": "8e70365e",
   "metadata": {},
   "outputs": [
    {
     "name": "stdout",
     "output_type": "stream",
     "text": [
      "\n",
      "Enter the sentence : An apple a day keeps the doctor away.\n",
      "\n",
      "Duplication Check : False\n"
     ]
    }
   ],
   "source": [
    "sentence = input('\\nEnter the sentence : ')\n",
    "\n",
    "print(f'\\nDuplication Check : {no_duplicate_letters(sentence)}')"
   ]
  },
  {
   "cell_type": "markdown",
   "id": "ae7ae4bb",
   "metadata": {},
   "source": [
    "# Question 5:\n",
    "\n",
    "Write a regular expression that will match the states that voted yes to President Trump's impeachment."
   ]
  },
  {
   "cell_type": "code",
   "execution_count": 12,
   "id": "0d96611b",
   "metadata": {},
   "outputs": [
    {
     "name": "stdout",
     "output_type": "stream",
     "text": [
      "['California', 'Florida']\n"
     ]
    }
   ],
   "source": [
    "import re\n",
    "\n",
    "pattern = '\\w+(?= = yes)'\n",
    "txt = \"Texas = no, California = yes, Florida = yes, Michigan = no\"\n",
    "\n",
    "print(re.findall(pattern,txt))"
   ]
  }
 ],
 "metadata": {
  "kernelspec": {
   "display_name": "Python 3",
   "language": "python",
   "name": "python3"
  },
  "language_info": {
   "codemirror_mode": {
    "name": "ipython",
    "version": 3
   },
   "file_extension": ".py",
   "mimetype": "text/x-python",
   "name": "python",
   "nbconvert_exporter": "python",
   "pygments_lexer": "ipython3",
   "version": "3.8.8"
  }
 },
 "nbformat": 4,
 "nbformat_minor": 5
}
