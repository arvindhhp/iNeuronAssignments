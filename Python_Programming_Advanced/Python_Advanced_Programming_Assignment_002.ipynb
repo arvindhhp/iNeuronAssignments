{
 "cells": [
  {
   "cell_type": "markdown",
   "id": "2918ac69",
   "metadata": {},
   "source": [
    "# Question 1:\n",
    "\n",
    "### Write a function that takes a positive integer num and calculates how many dots exist in a pentagonal shape around the center dot on the Nth iteration."
   ]
  },
  {
   "cell_type": "code",
   "execution_count": 11,
   "id": "fe3c5a03",
   "metadata": {},
   "outputs": [
    {
     "name": "stdout",
     "output_type": "stream",
     "text": [
      "Enter the Iteration :8\n",
      "Number of Dots : 141\n"
     ]
    }
   ],
   "source": [
    "#when the exact equation is known : Number of dots = (5n^2 - 5n + 2)/2\n",
    "\n",
    "def pentagonal(N):\n",
    "    \n",
    "    return int((5*(N**2) - 5*N + 2)/2)\n",
    "\n",
    "N = int(input('Enter the Iteration :'))\n",
    "\n",
    "print(f'Number of Dots : {pentagonal(N)}')"
   ]
  },
  {
   "cell_type": "code",
   "execution_count": 9,
   "id": "ec2f6e03",
   "metadata": {},
   "outputs": [
    {
     "name": "stdout",
     "output_type": "stream",
     "text": [
      "Enter the Iteration :8\n",
      "Number of Dots : 141\n"
     ]
    }
   ],
   "source": [
    "#when the excat equation is unknown\n",
    "\n",
    "def pentagonal(N):\n",
    "    \n",
    "    dots = [1]\n",
    "\n",
    "    for i in range(1, N):\n",
    "        dots.append(dots[i-1]+(5*i))\n",
    "    \n",
    "    return dots[-1]\n",
    "    \n",
    "\n",
    "N = int(input('Enter the Iteration :'))\n",
    "\n",
    "print(f'Number of Dots : {pentagonal(N)}')"
   ]
  },
  {
   "cell_type": "markdown",
   "id": "39baa15d",
   "metadata": {},
   "source": [
    "# Question 2:\n",
    "\n",
    "### Make a function that encrypts a given input with these steps:\n",
    "\n",
    "Input: \"apple\"\n",
    "\n",
    "Step 1: Reverse the input: \"elppa\"\n",
    "\n",
    "Step 2: Replace all vowels using the following chart:\n",
    "\n",
    "1. a => 0\n",
    "2. e => 1\n",
    "3. i => 2\n",
    "4. o => 3 (2 repeated twice in the assignment question, changed to 3)\n",
    "5. u => 4 (changed to 4)\n",
    "\n",
    "\n",
    "\"1lpp0\"\n",
    "\n",
    "Step 3: Add \"aca\" to the end of the word: \"1lpp0aca\"\n",
    "\n",
    "Output: \"1lpp0aca\""
   ]
  },
  {
   "cell_type": "code",
   "execution_count": 5,
   "id": "606f56a0",
   "metadata": {},
   "outputs": [
    {
     "name": "stdout",
     "output_type": "stream",
     "text": [
      "Enter ths string : burak\n",
      "\n",
      "Encrypted String is : k0r4baca\n"
     ]
    }
   ],
   "source": [
    "def encrypt(string):\n",
    "    \n",
    "    encryption = {'a': 0, 'e': 1, 'i': 2, 'o': 3, 'u': 4}\n",
    "    \n",
    "    encrypted_String = ''\n",
    "    \n",
    "    for char in string[::-1]:\n",
    "        if char in encryption:\n",
    "            encrypted_String += str(encryption[char])\n",
    "        else:\n",
    "            encrypted_String += char\n",
    "   \n",
    "    final_encryption = 'aca'\n",
    "    \n",
    "    encrypted_String = encrypted_String + final_encryption\n",
    "    \n",
    "    return encrypted_String\n",
    "\n",
    "string = input('Enter ths string : ')\n",
    "\n",
    "print(f'\\nEncrypted String is : {encrypt(string)}')"
   ]
  },
  {
   "cell_type": "markdown",
   "id": "38e586e1",
   "metadata": {},
   "source": [
    "# Question 3:\n",
    "\n",
    "### Given the month and year as numbers, return whether that month contains a Friday 13th."
   ]
  },
  {
   "cell_type": "code",
   "execution_count": 40,
   "id": "80e25a46",
   "metadata": {},
   "outputs": [
    {
     "name": "stdout",
     "output_type": "stream",
     "text": [
      "Enter the month and year : 10 2017\n",
      "\n",
      "Has Friday the 13th : True\n"
     ]
    }
   ],
   "source": [
    "# import datetime as dt\n",
    "from calendar import monthrange\n",
    "\n",
    "def has_friday_13(mon, year):\n",
    "    \n",
    "    num_days = monthrange(year, mon)[1] \n",
    "    \n",
    "    for date in range(1, num_days+1):\n",
    "        if dt.date(year, mon, date).day == 13 and dt.date(year, mon, date).strftime('%A') == 'Friday':\n",
    "            return True\n",
    "    \n",
    "    else:\n",
    "        return False\n",
    "    \n",
    "\n",
    "mon, year = input('Enter the month and year : ').split()\n",
    "\n",
    "mon = int(mon)\n",
    "year = int(year)\n",
    "\n",
    "print(f'\\nHas Friday the 13th : {has_friday_13(mon, year)}')"
   ]
  },
  {
   "cell_type": "markdown",
   "id": "d2daef27",
   "metadata": {},
   "source": [
    "# Question 4:\n",
    "\n",
    "### Write a regular expression that will help us count how many bad cookies are produced every day. You must use RegEx negative lookbehind."
   ]
  },
  {
   "cell_type": "code",
   "execution_count": 42,
   "id": "8af67917",
   "metadata": {},
   "outputs": [
    {
     "name": "stdout",
     "output_type": "stream",
     "text": [
      "Enter the list of strings : bad cookie,good cookie,bad cookie,good cookie\n",
      "Enter the pattern : bad cookie\n",
      "\n",
      "Number of bad cookies are : 2\n"
     ]
    }
   ],
   "source": [
    "import re\n",
    "\n",
    "def regex(lst, expressiom):\n",
    "    return len(re.findall(expression, \", \".join(lst)))\n",
    "\n",
    "lst = input('Enter the list of strings : ').split(',')\n",
    "expression = input('Enter the pattern : ')\n",
    "\n",
    "print(f'\\nNumber of bad cookies are : {regex(lst, expression)}')"
   ]
  },
  {
   "cell_type": "markdown",
   "id": "bf4cabf1",
   "metadata": {},
   "source": [
    "# Question 5:\n",
    "\n",
    "### Given a list of words in the singular form, return a set of those words in the plural form if they appear more than once in the list."
   ]
  },
  {
   "cell_type": "code",
   "execution_count": 49,
   "id": "9a44b24a",
   "metadata": {},
   "outputs": [
    {
     "name": "stdout",
     "output_type": "stream",
     "text": [
      "Enter the list of words : cow pig cow cow\n",
      "\n",
      "Pluralized Set is : {'cows', 'pig'}\n"
     ]
    }
   ],
   "source": [
    "#assumption : pluralized words are appened by 's'. Pluralized spelling maybe wrong for some exceptional works\n",
    "\n",
    "def pluralize(lst):\n",
    "    \n",
    "    count = dict()\n",
    "    \n",
    "    for word in lst:\n",
    "        count[word] = lst.count(word)\n",
    "     \n",
    "    pluralized = set()\n",
    "    \n",
    "    for key in count:\n",
    "        if count[key] > 1:\n",
    "            pluralized.add(key+'s')\n",
    "        else:\n",
    "            pluralized.add(key)\n",
    "    \n",
    "    return pluralized\n",
    "\n",
    "lst = input('Enter the list of words : ').split()\n",
    "\n",
    "print(f'\\nPluralized Set is : {pluralize(lst)}')"
   ]
  }
 ],
 "metadata": {
  "kernelspec": {
   "display_name": "Python 3",
   "language": "python",
   "name": "python3"
  },
  "language_info": {
   "codemirror_mode": {
    "name": "ipython",
    "version": 3
   },
   "file_extension": ".py",
   "mimetype": "text/x-python",
   "name": "python",
   "nbconvert_exporter": "python",
   "pygments_lexer": "ipython3",
   "version": "3.8.8"
  }
 },
 "nbformat": 4,
 "nbformat_minor": 5
}
