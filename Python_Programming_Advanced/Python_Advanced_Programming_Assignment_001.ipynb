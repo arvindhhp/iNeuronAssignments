{
 "cells": [
  {
   "cell_type": "markdown",
   "id": "fd9aab29",
   "metadata": {},
   "source": [
    "# Question 1:\n",
    "\n",
    "### Write a function that takes a list of lists and returns the value of all of the symbols in it, where each symbol adds or takes something from the total score. Symbol values:\n",
    "\n",
    " 1. '#' = 5\n",
    " 2. O = 3\n",
    " 3. X = 1\n",
    " 4. ! = -1\n",
    " 5. !! = -3\n",
    " 6. !!! = -5"
   ]
  },
  {
   "cell_type": "code",
   "execution_count": 4,
   "id": "f5846251",
   "metadata": {},
   "outputs": [
    {
     "name": "stdout",
     "output_type": "stream",
     "text": [
      "Final score is : 0\n"
     ]
    }
   ],
   "source": [
    "def check_score(lists):\n",
    "    \n",
    "    symbol_score = {'#': 5, 'O': 3, 'X': 1, '!': -1, '!!': -3, '!!!': -5}\n",
    "    \n",
    "    list_score = 0\n",
    "    \n",
    "    for list_ in lists:\n",
    "        for ele in list_:\n",
    "            if ele in symbol_score:\n",
    "                list_score += symbol_score[ele]\n",
    "                \n",
    "    if list_score > 0:\n",
    "        return list_score\n",
    "    \n",
    "    else:\n",
    "        return 0\n",
    "    \n",
    "lists = [[\"!!!\", \"O\", \"!\"], [\"X\", \"#\", \"!!!\"], [\"!!\", \"X\", \"O\"]]\n",
    "\n",
    "print(f'Final score is : {check_score(lists)}')"
   ]
  },
  {
   "cell_type": "markdown",
   "id": "e54be8f6",
   "metadata": {},
   "source": [
    "# Question 2:\n",
    "\n",
    "### Create a function that takes a variable number of arguments, each argument representing the number of items in a group, and returns the number of permutations (combinations) of items that you could get by taking one item from each group."
   ]
  },
  {
   "cell_type": "code",
   "execution_count": 24,
   "id": "1aeebf5a",
   "metadata": {},
   "outputs": [
    {
     "name": "stdout",
     "output_type": "stream",
     "text": [
      "Enter the number of items: 4\n",
      "Enter the 1th item value : 5\n",
      "Enter the 2th item value : 4\n",
      "Enter the 3th item value : 3\n",
      "Enter the 4th item value : 2\n",
      "\n",
      "Total permutations possible are : 120\n"
     ]
    }
   ],
   "source": [
    "#the code can automatically create n dynamic arguments and assign them to n varibales based on user request\n",
    "#function takes inputs as **kwargs including all the dynamically created variable name and their values\n",
    "\n",
    "def combinations(**items):\n",
    "    \n",
    "    combo = 1\n",
    "    \n",
    "    for item in items:\n",
    "        combo *= items[item]\n",
    "        \n",
    "    return combo\n",
    "\n",
    "num_items = int(input('Enter the number of items: '))\n",
    "dic = dict()\n",
    "\n",
    "for i in range(1, num_items+1):\n",
    "    globals()[f'item{i}']=int(input(f'Enter the {i}th item value : '))\n",
    "    dic[f'item{i}'] = globals()[f'item{i}']\n",
    "    \n",
    "print(f'\\nTotal permutations possible are : {combinations(**dic)}')"
   ]
  },
  {
   "cell_type": "markdown",
   "id": "7be2b445",
   "metadata": {},
   "source": [
    "# Question 3:\n",
    "\n",
    "### Create a function that takes a string as an argument and returns the Morse code equivalent."
   ]
  },
  {
   "cell_type": "code",
   "execution_count": 55,
   "id": "e8f867dc",
   "metadata": {},
   "outputs": [
    {
     "name": "stdout",
     "output_type": "stream",
     "text": [
      "Enter the string : HELP ME !\n",
      "\n",
      "Morse Code Equivalent : ......-...--. --. -.-.--\n"
     ]
    }
   ],
   "source": [
    "def encode_morse(string):\n",
    "    \n",
    "    string = string.upper()\n",
    "    \n",
    "    char_to_dots = {\n",
    "  'A': '.-', 'B': '-...', 'C': '-.-.', 'D': '-..', 'E': '.', 'F': '..-.',\n",
    "  'G': '--.', 'H': '....', 'I': '..', 'J': '.---', 'K': '-.-', 'L': '.-..',\n",
    "  'M': '--', 'N': '-.', 'O': '---', 'P': '.--.', 'Q': '--.-', 'R': '.-.',\n",
    "  'S': '...', 'T': '-', 'U': '..-', 'V': '...-', 'W': '.--', 'X': '-..-',\n",
    "  'Y': '-.--', 'Z': '--..', ' ': ' ', '0': '-----',\n",
    "  '1': '.----', '2': '..---', '3': '...--', '4': '....-', '5': '.....',\n",
    "  '6': '-....', '7': '--...', '8': '---..', '9': '----.',\n",
    "  '&': '.-...', \"'\": '.----.', '@': '.--.-.', ')': '-.--.-', '(': '-.--.',\n",
    "  ':': '---...', ',': '--..--', '=': '-...-', '!': '-.-.--', '.': '.-.-.-',\n",
    "  '-': '-....-', '+': '.-.-.', '\"': '.-..-.', '?': '..--..', '/': '-..-.'}\n",
    "    \n",
    "    morse = ''\n",
    "    \n",
    "    for char in string:\n",
    "        morse += char_to_dots[char]\n",
    "        \n",
    "    return morse\n",
    "\n",
    "string = input('Enter the string : ')\n",
    "\n",
    "print(f'\\nMorse Code Equivalent : {encode_morse(string)}')"
   ]
  },
  {
   "cell_type": "markdown",
   "id": "e732e942",
   "metadata": {},
   "source": [
    "# Question 4:\n",
    "\n",
    "\n",
    "### Write a function that takes a number and returns True if it's a prime; False otherwise. Max number can be 2^63"
   ]
  },
  {
   "cell_type": "code",
   "execution_count": 85,
   "id": "32b1365b",
   "metadata": {},
   "outputs": [
    {
     "name": "stdout",
     "output_type": "stream",
     "text": [
      "Enter the number : 56963\n",
      "Prime Check : True\n"
     ]
    }
   ],
   "source": [
    "def prime(num):\n",
    "    \n",
    "    factors = []\n",
    "    \n",
    "    if num > (2**63) or num <= 1:\n",
    "        return False\n",
    "    \n",
    "    for i in range(1,int((num**0.5)+1)):\n",
    "        if num%i == 0:\n",
    "            factors.append(i)\n",
    "            \n",
    "    if len(factors) == 1:\n",
    "        return True\n",
    "    else:\n",
    "        return False\n",
    "\n",
    "num = int(input('Enter the number : '))\n",
    "\n",
    "print(f'Prime Check : {prime(num)}')"
   ]
  },
  {
   "cell_type": "markdown",
   "id": "9b7b3096",
   "metadata": {},
   "source": [
    "# Question 5:\n",
    "\n",
    "### Create a function that converts a word to a bitstring and then to a boolean list based on the following criteria:\n",
    "\n",
    "    1. Locate the position of the letter in the English alphabet (from 1 to 26).\n",
    "    2. Odd positions will be represented as 1 and 0 otherwise.\n",
    "    3. Convert the represented positions to boolean values, 1 for True and 0 for False.\n",
    "    4. Store the conversions into an array.\n"
   ]
  },
  {
   "cell_type": "code",
   "execution_count": 102,
   "id": "177c2eaa",
   "metadata": {},
   "outputs": [
    {
     "name": "stdout",
     "output_type": "stream",
     "text": [
      "Enter the string : loves\n",
      "\n",
      " Boolean List : [False, True, False, True, True]\n"
     ]
    }
   ],
   "source": [
    "def to_boolean_list(string):\n",
    "    \n",
    "    int_list = [1 if ord(char) % 2 == 1 else 0 for char in string.lower()]\n",
    "    \n",
    "    bool_list = [bool(ele) for ele in int_list]\n",
    "    \n",
    "    return bool_list\n",
    "\n",
    "string = input('Enter the string : ')\n",
    "\n",
    "print(f'\\n Boolean List : {to_boolean_list(string)}')"
   ]
  }
 ],
 "metadata": {
  "kernelspec": {
   "display_name": "Python 3",
   "language": "python",
   "name": "python3"
  },
  "language_info": {
   "codemirror_mode": {
    "name": "ipython",
    "version": 3
   },
   "file_extension": ".py",
   "mimetype": "text/x-python",
   "name": "python",
   "nbconvert_exporter": "python",
   "pygments_lexer": "ipython3",
   "version": "3.8.8"
  }
 },
 "nbformat": 4,
 "nbformat_minor": 5
}
