{
 "cells": [
  {
   "cell_type": "markdown",
   "id": "1e962c14",
   "metadata": {},
   "source": [
    "# Question 1:\n",
    "\n",
    "#### Write a function that counts how many concentric layers a rug."
   ]
  },
  {
   "cell_type": "code",
   "execution_count": 1,
   "id": "4bcbe84e",
   "metadata": {},
   "outputs": [],
   "source": [
    "def contotwoD(oneD):\n",
    "    \n",
    "    twoD = []\n",
    "    rows = []\n",
    "    \n",
    "    for row_index, ele in enumerate(oneD):\n",
    "        for col_index, char in enumerate(ele):\n",
    "            rows.append(char)\n",
    "        twoD.append(rows)\n",
    "        rows = []\n",
    "        \n",
    "    return twoD\n",
    "\n",
    "def print2Dfrom1D(oneD):\n",
    "    \n",
    "    twoD = contotwoD(oneD)\n",
    "    \n",
    "    for i in range(len(twoD)):\n",
    "        for j in range(len(twoD[0])):\n",
    "            print(twoD[i][j], end = '  ')\n",
    "        print(\"\")\n",
    "        \n",
    "def print2D(twoD):\n",
    "    \n",
    "    for i in range(len(twoD)):\n",
    "        for j in range(len(twoD[0])):\n",
    "            print(twoD[i][j], end = '  ')\n",
    "        print(\"\")"
   ]
  },
  {
   "cell_type": "code",
   "execution_count": 2,
   "id": "31e4ea47",
   "metadata": {},
   "outputs": [],
   "source": [
    "def layer_count(twoD, layer=1):\n",
    "    \n",
    "    new=[] \n",
    "    row_new=[]\n",
    "    \n",
    "    print(f'\\nUnwrapping Layer {layer}\\n')\n",
    "    print2D(twoD)\n",
    "    \n",
    "    if len(twoD) > 1:\n",
    "        \n",
    "        for x in range(1,len(twoD)-1):\n",
    "            for y in range(1,len(twoD[0])-1):\n",
    "                row_new.append(twoD[x][y])\n",
    "            new.append(row_new)\n",
    "            row_new = []\n",
    "        \n",
    "        layer = layer+1\n",
    "\n",
    "        #return layer_count(new, p=p+1, q=q+1, layer=layer)\n",
    "        return layer_count(new, layer=layer)\n",
    "    \n",
    "    else:\n",
    "        return layer"
   ]
  },
  {
   "cell_type": "code",
   "execution_count": 3,
   "id": "97dd8af5",
   "metadata": {},
   "outputs": [
    {
     "name": "stdout",
     "output_type": "stream",
     "text": [
      "\n",
      "Unwrapping Layer 1\n",
      "\n",
      "A  A  A  A  A  A  A  A  A  A  A  \n",
      "A  A  B  B  B  B  B  B  B  A  A  \n",
      "A  A  B  C  C  C  C  C  B  A  A  \n",
      "A  A  B  C  A  A  A  C  B  A  A  \n",
      "A  A  B  C  A  D  A  C  B  A  A  \n",
      "A  A  B  C  A  A  A  C  B  A  A  \n",
      "A  A  B  C  C  C  C  C  B  A  A  \n",
      "A  A  B  B  B  B  B  B  B  A  A  \n",
      "A  A  A  A  A  A  A  A  A  A  A  \n",
      "\n",
      "Unwrapping Layer 2\n",
      "\n",
      "A  B  B  B  B  B  B  B  A  \n",
      "A  B  C  C  C  C  C  B  A  \n",
      "A  B  C  A  A  A  C  B  A  \n",
      "A  B  C  A  D  A  C  B  A  \n",
      "A  B  C  A  A  A  C  B  A  \n",
      "A  B  C  C  C  C  C  B  A  \n",
      "A  B  B  B  B  B  B  B  A  \n",
      "\n",
      "Unwrapping Layer 3\n",
      "\n",
      "B  C  C  C  C  C  B  \n",
      "B  C  A  A  A  C  B  \n",
      "B  C  A  D  A  C  B  \n",
      "B  C  A  A  A  C  B  \n",
      "B  C  C  C  C  C  B  \n",
      "\n",
      "Unwrapping Layer 4\n",
      "\n",
      "C  A  A  A  C  \n",
      "C  A  D  A  C  \n",
      "C  A  A  A  C  \n",
      "\n",
      "Unwrapping Layer 5\n",
      "\n",
      "A  D  A  \n",
      "\n",
      "\n",
      "Total Layers : 5\n"
     ]
    }
   ],
   "source": [
    "#main program\n",
    "\n",
    "oneD = [\n",
    "  \"AAAAAAAAAAA\",\n",
    "  \"AABBBBBBBAA\",\n",
    "  \"AABCCCCCBAA\",\n",
    "  \"AABCAAACBAA\",\n",
    "  \"AABCADACBAA\",\n",
    "  \"AABCAAACBAA\",\n",
    "  \"AABCCCCCBAA\",\n",
    "  \"AABBBBBBBAA\",\n",
    "  \"AAAAAAAAAAA\"\n",
    "]\n",
    "\n",
    "twoD = contotwoD(oneD)\n",
    "num_layers = layer_count(twoD)\n",
    "\n",
    "print(f'\\n\\nTotal Layers : {num_layers}')"
   ]
  },
  {
   "cell_type": "markdown",
   "id": "cf0b74d9",
   "metadata": {},
   "source": [
    "# Question 2:\n",
    "\n",
    "#### There are many different styles of music and many albums exhibit multiple styles. Create a function that takes a list of musical styles from albums and returns how many styles are unique."
   ]
  },
  {
   "cell_type": "code",
   "execution_count": 4,
   "id": "742798c3",
   "metadata": {},
   "outputs": [],
   "source": [
    "#function to identify the index positions in album strings with commas to split styles\n",
    "\n",
    "def comma_index(albums):\n",
    "    \n",
    "    twoD = [] #list of indexes of commas in all albums as a 2D list\n",
    "    rows = []\n",
    "\n",
    "    for row_index, ele in enumerate(albums):\n",
    "        for col_index, char in enumerate(ele):\n",
    "            if char == ',':\n",
    "                rows.append(col_index)\n",
    "        twoD.append(rows)\n",
    "        rows = []\n",
    "    \n",
    "    return twoD"
   ]
  },
  {
   "cell_type": "code",
   "execution_count": 5,
   "id": "1a1aad7f",
   "metadata": {},
   "outputs": [],
   "source": [
    "#function to split the albums into music styles and using a SET datatype to indentify unique items\n",
    "\n",
    "def unique_style(albums):\n",
    "    \n",
    "    twoD = comma_index(albums)\n",
    "    styles = set()\n",
    "\n",
    "    for index, a in enumerate(twoD):\n",
    "        if len(a) == 0:\n",
    "            styles.add(albums[index])\n",
    "        else:\n",
    "            for p,q in enumerate(a):\n",
    "                if p == 0:\n",
    "                    styles.add(albums[index][:q])\n",
    "                if p!= len(a)-1 and len(a) !=1:\n",
    "                    styles.add(albums[index][q+1:a[p+1]])\n",
    "                elif p == len(a)-1:\n",
    "                    styles.add(albums[index][q+1:])\n",
    "                    \n",
    "    return styles"
   ]
  },
  {
   "cell_type": "code",
   "execution_count": 6,
   "id": "7a708630",
   "metadata": {},
   "outputs": [
    {
     "name": "stdout",
     "output_type": "stream",
     "text": [
      "Unique Styles are : {'Deep House', 'Folk', 'Trance', 'Soul', 'Big Beat', 'House', 'Downtempo'}\n",
      "\n",
      "NUmber of Unique styles : 7\n"
     ]
    }
   ],
   "source": [
    "#main program\n",
    "\n",
    "albums = [\n",
    "  \"Soul\",\n",
    "  \"House,Folk\",\n",
    "  \"Trance,Downtempo,Big Beat,House\",\n",
    "  \"Deep House\",\n",
    "  \"Soul\"\n",
    "]\n",
    "\n",
    "print(f'Unique Styles are : {unique_style(albums)}\\n\\nNUmber of Unique styles : {len(unique_style(albums))}')"
   ]
  },
  {
   "cell_type": "markdown",
   "id": "00eb707e",
   "metadata": {},
   "source": [
    "# Question 3:\n",
    "\n",
    "#### Create a function that finds a target number in a list of prime numbers. Implement a binary search algorithm in your function. The target number will be from 2 through 97. If the target is prime then return &quot;yes&quot; else return &quot;no&quot;."
   ]
  },
  {
   "cell_type": "markdown",
   "id": "d93d2f79",
   "metadata": {},
   "source": [
    "As a part of this question, an iterator has been implemented that can be used to create a list of prime numbers between 2 to a specified number. The desired number will searched for in this number using binary search."
   ]
  },
  {
   "cell_type": "code",
   "execution_count": 1,
   "id": "cad5b7b9",
   "metadata": {},
   "outputs": [],
   "source": [
    "#prime number list generation\n",
    "\n",
    "class prime_check():\n",
    "    \n",
    "    def __init__(self, num):\n",
    "        self.num = 1\n",
    "        self.max = num\n",
    "        self.flag = True\n",
    "        \n",
    "    def check(self, k):\n",
    "        self.flag = True\n",
    "        for i in range(2, k):\n",
    "            if k%i == 0 and k !=2:\n",
    "                self.flag = False\n",
    "        return self.flag\n",
    "                \n",
    "    def __iter__(self):\n",
    "        return self\n",
    "    \n",
    "    def __next__(self):\n",
    "        self.num += 1\n",
    "        if self.num <= self.max:\n",
    "            self.flag = self.check(self.num)\n",
    "            if self.flag:\n",
    "                return self.num\n",
    "            else:\n",
    "                return self.flag\n",
    "        else:\n",
    "            raise StopIteration\n",
    "            \n",
    "prime = prime_check(100)\n",
    "prime_list = []\n",
    "\n",
    "for i in prime:\n",
    "    if i:\n",
    "        prime_list.append(i)"
   ]
  },
  {
   "cell_type": "code",
   "execution_count": 3,
   "id": "86c38a4d",
   "metadata": {},
   "outputs": [
    {
     "name": "stdout",
     "output_type": "stream",
     "text": [
      "Is the number Prime : NO\n"
     ]
    }
   ],
   "source": [
    "# Returns index of x in arr if present, else -1\n",
    "def binary_search(arr, low, high, x):\n",
    " \n",
    "    # Check base case\n",
    "    if high >= low:\n",
    " \n",
    "        mid = (high + low) // 2\n",
    " \n",
    "        # If element is present at the middle itself\n",
    "        if arr[mid] == x:\n",
    "            return mid\n",
    " \n",
    "        # If element is smaller than mid, then it can only\n",
    "        # be present in left subarray\n",
    "        elif arr[mid] > x:\n",
    "            return binary_search(arr, low, mid - 1, x)\n",
    " \n",
    "        # Else the element can only be present in right subarray\n",
    "        else:\n",
    "            return binary_search(arr, mid + 1, high, x)\n",
    " \n",
    "    else:\n",
    "        # Element is not present in the array\n",
    "        return -1\n",
    "\n",
    "# Test array\n",
    "arr = prime_list\n",
    "x = 36\n",
    " \n",
    "# Function call\n",
    "result = binary_search(arr, 0, len(arr)-1, x)\n",
    " \n",
    "if result != -1:\n",
    "    print(\"Is the number Prime : YES\")\n",
    "else:\n",
    "    print(\"Is the number Prime : NO\")"
   ]
  },
  {
   "cell_type": "markdown",
   "id": "30c3b0b8",
   "metadata": {},
   "source": [
    "# Question 4:\n",
    "\n",
    "#### Create a function that takes in n, a, b and returns the number of positive values raised to the nth power that lie in the range [a, b], inclusive."
   ]
  },
  {
   "cell_type": "code",
   "execution_count": 9,
   "id": "34eb7f6e",
   "metadata": {},
   "outputs": [
    {
     "name": "stdout",
     "output_type": "stream",
     "text": [
      "Enter the power, minimum and maximum numbers : 4 250 1300\n",
      "\n",
      "Power Ranger : 3\n"
     ]
    }
   ],
   "source": [
    "def power_ranger(n,a,b):\n",
    "    \n",
    "    num = 1\n",
    "    count = 0\n",
    "    \n",
    "    while True:\n",
    "        if num**n >= a and num**n <= b:\n",
    "            count += 1\n",
    "        elif num^n > b:\n",
    "            break\n",
    "        num += 1\n",
    "    \n",
    "    return count\n",
    "\n",
    "#main program\n",
    "\n",
    "n, a, b = input('Enter the power, minimum and maximum numbers : ').split()\n",
    "\n",
    "n = int(n)\n",
    "a = int(a)\n",
    "b = int(b)\n",
    "\n",
    "print(f'\\nPower Ranger : {power_ranger(n, a, b)}')"
   ]
  },
  {
   "cell_type": "markdown",
   "id": "e4c1128a",
   "metadata": {},
   "source": [
    "# Question 5:\n",
    "\n",
    "#### Given a number, return the difference between the maximum and minimum numbers that can be formed when the digits are rearranged."
   ]
  },
  {
   "cell_type": "code",
   "execution_count": 14,
   "id": "9e3b9199",
   "metadata": {},
   "outputs": [
    {
     "name": "stdout",
     "output_type": "stream",
     "text": [
      "Enter the number : 3320707\n",
      "The difference is : 7709823\n"
     ]
    }
   ],
   "source": [
    "def rearranged_difference(num):\n",
    "    \n",
    "    #converting number to a string of numbers\n",
    "    str_num = str(num)\n",
    "    \n",
    "    #converting the string to a list of sorted digits - Minimum/Max Number\n",
    "    min_num_list = sorted(list(str_num))\n",
    "    max_num_list = sorted(list(str_num), reverse = True)\n",
    "    \n",
    "    #Converting list of sorted digits to number - Minimum/Max Number\n",
    "    min_num = int(''.join(min_num_list))\n",
    "    max_num = int(''.join(max_num_list))\n",
    "    \n",
    "    return max_num - min_num\n",
    "\n",
    "#main program\n",
    "num = int(input('Enter the number : '))\n",
    "print(f'The difference is : {rearranged_difference(num)}')"
   ]
  }
 ],
 "metadata": {
  "kernelspec": {
   "display_name": "Python 3",
   "language": "python",
   "name": "python3"
  },
  "language_info": {
   "codemirror_mode": {
    "name": "ipython",
    "version": 3
   },
   "file_extension": ".py",
   "mimetype": "text/x-python",
   "name": "python",
   "nbconvert_exporter": "python",
   "pygments_lexer": "ipython3",
   "version": "3.8.8"
  }
 },
 "nbformat": 4,
 "nbformat_minor": 5
}
