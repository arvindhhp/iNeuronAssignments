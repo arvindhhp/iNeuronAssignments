{
 "cells": [
  {
   "cell_type": "markdown",
   "id": "57314373",
   "metadata": {},
   "source": [
    "# Question 1:\n",
    "\n",
    "#### Given a sentence as txt, return True if any two adjacent words have this property: One word ends with a vowel, while the word immediately after begins with a vowel (a e i o u)"
   ]
  },
  {
   "cell_type": "code",
   "execution_count": 5,
   "id": "b75018d6",
   "metadata": {},
   "outputs": [
    {
     "name": "stdout",
     "output_type": "stream",
     "text": [
      "Enter the sentence : a very large appliance\n",
      "True\n",
      "\n",
      "Enter the sentence : a sudden applause\n",
      "False\n"
     ]
    }
   ],
   "source": [
    "def vowel_links(string):\n",
    "\n",
    "    vowels = 'aeiouAEIOU'\n",
    "    \n",
    "    for index, char in enumerate(string):\n",
    "        if char == ' ':\n",
    "            if string[index-1] in vowels:\n",
    "                if string[index+1] in vowels:\n",
    "                    return True\n",
    "    \n",
    "    return False\n",
    "\n",
    "#main program\n",
    "\n",
    "string1 = input('Enter the sentence : ')\n",
    "print(vowel_links(string1))\n",
    "\n",
    "string1 = input('\\nEnter the sentence : ')\n",
    "print(vowel_links(string1))"
   ]
  },
  {
   "cell_type": "markdown",
   "id": "9b988120",
   "metadata": {},
   "source": [
    "# Question 2:\n",
    "\n",
    "#### You are given three inputs: a string, one letter, and a second letter. Write a function that returns True if every instance of the first letter occurs before every instance of the second letter.\n"
   ]
  },
  {
   "cell_type": "code",
   "execution_count": 21,
   "id": "e4756a0e",
   "metadata": {},
   "outputs": [
    {
     "name": "stdout",
     "output_type": "stream",
     "text": [
      "Enter the sentence and letters : a rabbit jumps joyfully,a,j\n",
      "True\n",
      "\n",
      "Enter the sentence and letters : happy birthday,a,y\n",
      "False\n"
     ]
    }
   ],
   "source": [
    "def first_before_second(string, letter1, letter2):\n",
    "    \n",
    "    letter1_pos = []\n",
    "    letter2_pos = []\n",
    "    \n",
    "    for pos, char in enumerate(string):\n",
    "        if char == letter1:\n",
    "            letter1_pos.append(pos)\n",
    "            \n",
    "        elif char == letter2:\n",
    "            letter2_pos.append(pos)\n",
    "    \n",
    "    if letter1_pos[-1] < letter2_pos[0]:\n",
    "        return True\n",
    "    else:\n",
    "        return False\n",
    "\n",
    "#main program\n",
    "\n",
    "string1, letter1, letter2 = input('Enter the sentence and letters : ').split(',')\n",
    "print(first_before_second(string1, letter1, letter2))\n",
    "\n",
    "string2, letter1, letter2 = input('\\nEnter the sentence and letters : ').split(',')\n",
    "print(first_before_second(string2, letter1, letter2))"
   ]
  },
  {
   "cell_type": "markdown",
   "id": "4638c62a",
   "metadata": {},
   "source": [
    "# Question 3:\n",
    "\n",
    "#### Create a function that returns the characters from a list or string r on odd or even positions, depending on the specifier s. The specifier will be \"odd\" for items on odd positions (1, 3, 5, ...) and \"even\" for items on even positions (2, 4, 6, ...)"
   ]
  },
  {
   "cell_type": "code",
   "execution_count": 22,
   "id": "17008b2a",
   "metadata": {},
   "outputs": [
    {
     "data": {
      "text/plain": [
       "['A', 'B', 'T', 'A', 'I', 'Y']"
      ]
     },
     "execution_count": 22,
     "metadata": {},
     "output_type": "execute_result"
    }
   ],
   "source": [
    "def char_at_pos(arr,s):\n",
    "    specifier = {'odd':1, 'even':0}\n",
    "    ret_arr = [ele for pos, ele in enumerate(arr,start = 1) if pos%2==specifier[s]]\n",
    "    return ret_arr\n",
    "\n",
    "arr = list('ARBITRARILY')\n",
    "\n",
    "char_at_pos(arr,'odd')"
   ]
  },
  {
   "cell_type": "markdown",
   "id": "618b93dd",
   "metadata": {},
   "source": [
    "# Question 4:\n",
    "\n",
    "#### Write a function that returns the greatest common divisor of all list elements. If the greatest common divisor is 1, return 1."
   ]
  },
  {
   "cell_type": "code",
   "execution_count": 30,
   "id": "e30f9fc2",
   "metadata": {},
   "outputs": [
    {
     "name": "stdout",
     "output_type": "stream",
     "text": [
      "GCD of the elements of [1024, 192, 2048, 512] is 64\n"
     ]
    }
   ],
   "source": [
    "def gcd(a,b):\n",
    "        \n",
    "    if b == 0:\n",
    "        return a\n",
    "    else:\n",
    "        return gcd(b, a%b)\n",
    "\n",
    "def gcd_list(arr):\n",
    "    \n",
    "    #removing duplicates\n",
    "    arr_set = list(set(arr)) \n",
    "    \n",
    "    arr_set.sort()\n",
    "    \n",
    "    min_num = arr_set[0]\n",
    "    gcd_list = []\n",
    "    \n",
    "    #estimating gcd across the list\n",
    "    #gcd of all elements wrt minimum number in the list\n",
    "    \n",
    "    for num in range(len(arr_set)):\n",
    "        gcd_list.append(gcd(arr_set[num], min_num))\n",
    "        \n",
    "    return min(gcd_list)\n",
    "\n",
    "#main program\n",
    "\n",
    "arr = [1024, 192, 2048, 512]\n",
    "print(f'GCD of the elements of {arr} is {gcd_list(arr)}')"
   ]
  },
  {
   "cell_type": "markdown",
   "id": "f679728b",
   "metadata": {},
   "source": [
    "# Question 5:\n",
    "A number/string is a palindrome if the digits/characters are the same when read both forward and backward. Examples include \"racecar\" and 12321. Given a positive number n, check if n or the binary representation of n is palindromic. Return the following:\n",
    "\n",
    "- \"Decimal only.\" if only n is a palindrome.\n",
    "- \"Binary only.\" if only the binary representation of n is a palindrome.\n",
    "- \"Decimal and binary.\" if both are palindromes.\n",
    "- \"Neither!\" if neither are palindromes."
   ]
  },
  {
   "cell_type": "code",
   "execution_count": 35,
   "id": "62018ffc",
   "metadata": {},
   "outputs": [
    {
     "name": "stdout",
     "output_type": "stream",
     "text": [
      "\n",
      "Enter the decimal number : 1306031\n",
      "\n",
      "Palindrome inference is : Decimal Only\n"
     ]
    }
   ],
   "source": [
    "def dectobinary(num, binary_str = ''):\n",
    "    \n",
    "    if num//2 == 0:\n",
    "        binary_str += str(num%2)\n",
    "        return int(binary_str[::-1])\n",
    "    \n",
    "    else:\n",
    "        binary_str += str(num%2)\n",
    "        return dectobinary(num//2, binary_str)\n",
    "    \n",
    "def palindrome(num):\n",
    "    if str(num) == str(num)[::-1]:\n",
    "        return 1\n",
    "    else:\n",
    "        return 0\n",
    "    \n",
    "def palindrome_type(num):\n",
    "    return str(palindrome(num))+str(palindrome(dectobinary(num)))\n",
    "\n",
    "\n",
    "#main program:\n",
    "\n",
    "palin_infer = {'00': 'Neither', '01': 'Binary Only', '10': 'Decimal Only', '11': 'Decimal and Binary'}\n",
    "\n",
    "num = int(input('\\nEnter the decimal number : '))\n",
    "\n",
    "print(f'\\nPalindrome inference is : {palin_infer[palindrome_type(num)]}')"
   ]
  }
 ],
 "metadata": {
  "kernelspec": {
   "display_name": "Python 3",
   "language": "python",
   "name": "python3"
  },
  "language_info": {
   "codemirror_mode": {
    "name": "ipython",
    "version": 3
   },
   "file_extension": ".py",
   "mimetype": "text/x-python",
   "name": "python",
   "nbconvert_exporter": "python",
   "pygments_lexer": "ipython3",
   "version": "3.8.8"
  }
 },
 "nbformat": 4,
 "nbformat_minor": 5
}
