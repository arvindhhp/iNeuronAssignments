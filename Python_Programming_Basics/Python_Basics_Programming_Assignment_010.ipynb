{
 "cells": [
  {
   "cell_type": "code",
   "execution_count": 1,
   "id": "e1e245fb",
   "metadata": {},
   "outputs": [],
   "source": [
    "#Common List to be used for this assignment\n",
    "\n",
    "list_num = [3,4,5,1,9]"
   ]
  },
  {
   "cell_type": "markdown",
   "id": "436c47b2",
   "metadata": {},
   "source": [
    "# Question 1: Python Program to find SUM of elements in a List"
   ]
  },
  {
   "cell_type": "markdown",
   "id": "2ffc302a",
   "metadata": {},
   "source": [
    "#### Using Looping Method"
   ]
  },
  {
   "cell_type": "code",
   "execution_count": 2,
   "id": "0af0a813",
   "metadata": {},
   "outputs": [
    {
     "name": "stdout",
     "output_type": "stream",
     "text": [
      "Sum of elements of [3, 4, 5, 1, 9] is 22\n"
     ]
    }
   ],
   "source": [
    "sum_elements_loop = 0\n",
    "\n",
    "for i in list_num:\n",
    "    sum_elements_loop += i\n",
    "\n",
    "print(f'Sum of elements of {list_num} is {sum_elements_loop}')"
   ]
  },
  {
   "cell_type": "markdown",
   "id": "b410c8cf",
   "metadata": {},
   "source": [
    "#### Using sum()"
   ]
  },
  {
   "cell_type": "code",
   "execution_count": 3,
   "id": "62c81c6f",
   "metadata": {},
   "outputs": [
    {
     "name": "stdout",
     "output_type": "stream",
     "text": [
      "Sum of elements of [3, 4, 5, 1, 9] is 22\n"
     ]
    }
   ],
   "source": [
    "sum_elements = sum(list_num)\n",
    "\n",
    "print(f'Sum of elements of {list_num} is {sum_elements}')"
   ]
  },
  {
   "cell_type": "markdown",
   "id": "f682a750",
   "metadata": {},
   "source": [
    "# Question 2: Python Program to find Product of elements in a List"
   ]
  },
  {
   "cell_type": "code",
   "execution_count": 4,
   "id": "ba636425",
   "metadata": {},
   "outputs": [
    {
     "name": "stdout",
     "output_type": "stream",
     "text": [
      "Product of elements of [3, 4, 5, 1, 9] is 540\n"
     ]
    }
   ],
   "source": [
    "#Using Looping\n",
    "\n",
    "prod_elements_loop = 1\n",
    "\n",
    "for i in list_num:\n",
    "    prod_elements_loop *= i\n",
    "\n",
    "print(f'Product of elements of {list_num} is {prod_elements_loop}')"
   ]
  },
  {
   "cell_type": "markdown",
   "id": "9fd2ed3d",
   "metadata": {},
   "source": [
    "# Question 3: Python Program to find Smallest Element in a List"
   ]
  },
  {
   "cell_type": "code",
   "execution_count": 5,
   "id": "5eed6002",
   "metadata": {},
   "outputs": [
    {
     "name": "stdout",
     "output_type": "stream",
     "text": [
      "Smallest element of [3, 4, 5, 1, 9] is 1\n"
     ]
    }
   ],
   "source": [
    "smallest = list_num[0]\n",
    "\n",
    "for i in list_num:\n",
    "    if i < smallest:\n",
    "        smallest = i\n",
    "        \n",
    "print(f'Smallest element of {list_num} is {smallest}')"
   ]
  },
  {
   "cell_type": "markdown",
   "id": "63296116",
   "metadata": {},
   "source": [
    "# Question 4: Python Program to find Largest Element in a List"
   ]
  },
  {
   "cell_type": "code",
   "execution_count": 6,
   "id": "5802e7b4",
   "metadata": {},
   "outputs": [
    {
     "name": "stdout",
     "output_type": "stream",
     "text": [
      "Largest element of [3, 4, 5, 1, 9] is 9\n"
     ]
    }
   ],
   "source": [
    "largest = list_num[0]\n",
    "\n",
    "for i in list_num:\n",
    "    if i > largest:\n",
    "        largest = i\n",
    "        \n",
    "print(f'Largest element of {list_num} is {largest}')"
   ]
  },
  {
   "cell_type": "markdown",
   "id": "6c3facf4",
   "metadata": {},
   "source": [
    "# Question 5: Python Program to find Second Largest Element in a List"
   ]
  },
  {
   "cell_type": "code",
   "execution_count": 7,
   "id": "b01b54ef",
   "metadata": {},
   "outputs": [
    {
     "name": "stdout",
     "output_type": "stream",
     "text": [
      "Second Largest element of [3, 4, 5, 1, 9] is 5\n"
     ]
    }
   ],
   "source": [
    "sec_largest = list_num[0]\n",
    "\n",
    "for i in list_num:\n",
    "    if i < largest and i >= sec_largest:\n",
    "        sec_largest = i\n",
    "        \n",
    "print(f'Second Largest element of {list_num} is {sec_largest}')"
   ]
  },
  {
   "cell_type": "markdown",
   "id": "0339e34c",
   "metadata": {},
   "source": [
    "# Question 6: Python Program to find N Largest Element in a List"
   ]
  },
  {
   "cell_type": "markdown",
   "id": "28f486de",
   "metadata": {},
   "source": [
    "#### Using Recursion"
   ]
  },
  {
   "cell_type": "code",
   "execution_count": 8,
   "id": "6996c8d1",
   "metadata": {},
   "outputs": [
    {
     "name": "stdout",
     "output_type": "stream",
     "text": [
      "Enter the number of largest elements required: 3\n",
      "\n",
      "Top 3 largest elements of the list [3, 4, 5, 1, 9] is [9, 5, 4]\n"
     ]
    }
   ],
   "source": [
    "#Algorithm uses recursion to find the largest element\n",
    "#Pop the largest element, appends to a new list, then finds largest from new list\n",
    "\n",
    "def largest_element(list_temp,largest_nums, req_counter, current_counter = 1):\n",
    "    index = 0\n",
    "    lar_ind = 0\n",
    "    \n",
    "    if list_temp:\n",
    "        largest = list_temp[0]\n",
    "\n",
    "    for i in list_temp:\n",
    "        if i > largest:\n",
    "            largest = i\n",
    "            lar_ind = index\n",
    "        index += 1\n",
    "    largest_nums.append(largest)\n",
    "    list_temp.pop(lar_ind)\n",
    "    current_counter += 1\n",
    "    if current_counter <= req_counter:\n",
    "        largest_element(list_temp, largest_nums, req_counter, current_counter)\n",
    "    \n",
    "    return largest_nums\n",
    "\n",
    "req_counter = int(input('Enter the number of largest elements required: '))\n",
    "n_largest_elements = largest_element(list_num[:],[],req_counter)\n",
    "\n",
    "print(f'\\nTop {req_counter} largest elements of the list {list_num} is {n_largest_elements}')"
   ]
  },
  {
   "cell_type": "markdown",
   "id": "8aed71bc",
   "metadata": {},
   "source": [
    "#### Using sort() method"
   ]
  },
  {
   "cell_type": "code",
   "execution_count": 9,
   "id": "a76683f9",
   "metadata": {},
   "outputs": [
    {
     "name": "stdout",
     "output_type": "stream",
     "text": [
      "Enter the number of largest elements required: 3\n",
      "\n",
      "Top 3 largest elements of the list [3, 4, 5, 1, 9] is [9, 5, 4]\n"
     ]
    }
   ],
   "source": [
    "req_counter = int(input('Enter the number of largest elements required: '))\n",
    "\n",
    "sorted_list = sorted(list_num, reverse =True)\n",
    "\n",
    "n_largest_elements_sort = sorted_list[:req_counter]\n",
    "\n",
    "print(f'\\nTop {req_counter} largest elements of the list {list_num} is {n_largest_elements_sort}')"
   ]
  },
  {
   "cell_type": "markdown",
   "id": "e552eddb",
   "metadata": {},
   "source": [
    "# Question 7: Python Program to extract EVEN numbers from a List"
   ]
  },
  {
   "cell_type": "code",
   "execution_count": 10,
   "id": "48e64108",
   "metadata": {},
   "outputs": [
    {
     "name": "stdout",
     "output_type": "stream",
     "text": [
      "Even numbers of the list [3, 4, 5, 1, 9] is [4]\n"
     ]
    }
   ],
   "source": [
    "even_num = [num for num in list_num if num % 2 == 0]\n",
    "\n",
    "print(f'Even numbers of the list {list_num} is {even_num}')"
   ]
  },
  {
   "cell_type": "markdown",
   "id": "549ed82e",
   "metadata": {},
   "source": [
    " # Question 8: Python Program to extract ODD numbers from a List"
   ]
  },
  {
   "cell_type": "code",
   "execution_count": 11,
   "id": "08ab3753",
   "metadata": {},
   "outputs": [
    {
     "name": "stdout",
     "output_type": "stream",
     "text": [
      "Odd numbers of the list [3, 4, 5, 1, 9] is [3, 5, 1, 9]\n"
     ]
    }
   ],
   "source": [
    "odd_num = [num for num in list_num if num % 2 != 0]\n",
    "\n",
    "print(f'Odd numbers of the list {list_num} is {odd_num}')"
   ]
  },
  {
   "cell_type": "markdown",
   "id": "a90d5928",
   "metadata": {},
   "source": [
    "# Question 9: Python Program to remove EMPTY LISTS from a List"
   ]
  },
  {
   "cell_type": "code",
   "execution_count": 12,
   "id": "6fc0ebb9",
   "metadata": {},
   "outputs": [
    {
     "name": "stdout",
     "output_type": "stream",
     "text": [
      "Original List is [1, 2, '%', (2, 3), [4, 5], [], {1, 2}, [], [], 'a', 'f']\n",
      "\n",
      "List without empty lists is [1, 2, '%', (2, 3), [4, 5], {1, 2}, 'a', 'f']\n"
     ]
    }
   ],
   "source": [
    "new_list = [1, 2, '%', (2,3), [4,5], [], {1,2}, [], [], 'a', 'f']\n",
    "\n",
    "\n",
    "def remove_empty(new_list):\n",
    "    \n",
    "    new_list.remove([])\n",
    "    \n",
    "    if [] in new_list:\n",
    "        remove_empty(new_list)\n",
    "    \n",
    "    return new_list\n",
    "\n",
    "final_list = remove_empty(new_list[:])\n",
    "\n",
    "print(f'Original List is {new_list}')\n",
    "\n",
    "print(f'\\nList without empty lists is {final_list}')"
   ]
  },
  {
   "cell_type": "markdown",
   "id": "b214090b",
   "metadata": {},
   "source": [
    "# Question 10: Python Program to copy a LIST"
   ]
  },
  {
   "cell_type": "markdown",
   "id": "e0cb795c",
   "metadata": {},
   "source": [
    "#### Using copy()"
   ]
  },
  {
   "cell_type": "code",
   "execution_count": 13,
   "id": "1a831877",
   "metadata": {},
   "outputs": [
    {
     "name": "stdout",
     "output_type": "stream",
     "text": [
      "Copied List os [3, 4, 5, 1, 9]\n",
      "\n",
      "Original List is [3, 4, 5, 1, 9]\n",
      "\n",
      "Copied List os [3, 4, 5, 1]\n"
     ]
    }
   ],
   "source": [
    "import copy\n",
    "\n",
    "copied_list = copy.copy(list_num)\n",
    "\n",
    "print(f'Copied List os {copied_list}')\n",
    "\n",
    "#Any operation on the copied list does not affect the original list\n",
    "\n",
    "copied_list.pop()\n",
    "\n",
    "print(f'\\nOriginal List is {list_num}')\n",
    "\n",
    "print(f'\\nCopied List os {copied_list}')"
   ]
  },
  {
   "cell_type": "markdown",
   "id": "f74fdcc2",
   "metadata": {},
   "source": [
    "#### Using subsetting"
   ]
  },
  {
   "cell_type": "code",
   "execution_count": 14,
   "id": "e92a4665",
   "metadata": {},
   "outputs": [
    {
     "name": "stdout",
     "output_type": "stream",
     "text": [
      "Copied List os [3, 4, 5, 1, 9]\n",
      "\n",
      "Original List is [3, 4, 5, 1, 9]\n",
      "\n",
      "Copied List os [3, 4, 5, 1]\n"
     ]
    }
   ],
   "source": [
    "copied_list = list_num[:]\n",
    "\n",
    "print(f'Copied List os {copied_list}')\n",
    "\n",
    "#Any operation on the copied list does not affect the original list\n",
    "\n",
    "copied_list.pop()\n",
    "\n",
    "print(f'\\nOriginal List is {list_num}')\n",
    "\n",
    "print(f'\\nCopied List os {copied_list}')"
   ]
  },
  {
   "cell_type": "markdown",
   "id": "82c1c8b9",
   "metadata": {},
   "source": [
    "# Question 11: Python Program to Count occurrences of an element in a list?"
   ]
  },
  {
   "cell_type": "code",
   "execution_count": 15,
   "id": "b1569eb4",
   "metadata": {},
   "outputs": [
    {
     "name": "stdout",
     "output_type": "stream",
     "text": [
      "Number of occurences of 1 is 3\n",
      "Number of occurences of 1 is 3\n",
      "Number of occurences of 1 is 3\n",
      "Number of occurences of 2 is 1\n",
      "Number of occurences of % is 1\n",
      "Number of occurences of (2, 3) is 1\n",
      "Number of occurences of [4, 5] is 2\n",
      "Number of occurences of [4, 5] is 2\n",
      "Number of occurences of [] is 3\n",
      "Number of occurences of {1, 2} is 2\n",
      "Number of occurences of {1, 2} is 2\n",
      "Number of occurences of [] is 3\n",
      "Number of occurences of [] is 3\n",
      "Number of occurences of a is 1\n",
      "Number of occurences of f is 3\n",
      "Number of occurences of f is 3\n",
      "Number of occurences of f is 3\n"
     ]
    }
   ],
   "source": [
    "new_list2 = [1, 1, 1, 2, '%', (2,3), [4,5], [4,5], [], {1,2}, {1,2}, [], [], 'a', 'f', 'f', 'f']\n",
    "\n",
    "for element in new_list2:\n",
    "    print(f'Number of occurences of {element} is {new_list2.count(element)}')"
   ]
  }
 ],
 "metadata": {
  "kernelspec": {
   "display_name": "Python 3",
   "language": "python",
   "name": "python3"
  },
  "language_info": {
   "codemirror_mode": {
    "name": "ipython",
    "version": 3
   },
   "file_extension": ".py",
   "mimetype": "text/x-python",
   "name": "python",
   "nbconvert_exporter": "python",
   "pygments_lexer": "ipython3",
   "version": "3.8.8"
  }
 },
 "nbformat": 4,
 "nbformat_minor": 5
}
