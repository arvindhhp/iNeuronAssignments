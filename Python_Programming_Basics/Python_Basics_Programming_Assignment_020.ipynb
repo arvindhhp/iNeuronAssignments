{
 "cells": [
  {
   "cell_type": "markdown",
   "id": "a9528c92",
   "metadata": {},
   "source": [
    "# Question 1:\n",
    "\n",
    "### Create a function that takes a list of strings and integers, and filters out the list so that it returns a list of integers only."
   ]
  },
  {
   "cell_type": "code",
   "execution_count": 3,
   "id": "e0244324",
   "metadata": {},
   "outputs": [
    {
     "name": "stdout",
     "output_type": "stream",
     "text": [
      "Filtered integer list is: [1, 2, 3, 4, 4]\n"
     ]
    }
   ],
   "source": [
    "def filter_int(lst):\n",
    "    \n",
    "    non_int = []\n",
    "    \n",
    "    for ele in lst:\n",
    "        if type(ele) != int:\n",
    "            non_int.append(ele)            \n",
    "    \n",
    "    for ele in non_int:\n",
    "        lst.remove(ele)\n",
    "    \n",
    "    return lst\n",
    "\n",
    "input_list = [1, 2, 3, 4, 'a', 'a', 'c', 'b', 4]\n",
    "\n",
    "print(f'Filtered integer list is: {filter_int(input_list)}')"
   ]
  },
  {
   "cell_type": "markdown",
   "id": "5b2e6c2c",
   "metadata": {},
   "source": [
    "# Question 2:\n",
    "\n",
    "### Given a list of numbers, create a function which returns the list but with each element's index in the list added to itself. This means you add 0 to the number at index 0, add 1 to the number at index 1, etc..."
   ]
  },
  {
   "cell_type": "code",
   "execution_count": 5,
   "id": "94ac5d25",
   "metadata": {},
   "outputs": [
    {
     "name": "stdout",
     "output_type": "stream",
     "text": [
      "\n",
      " New List is : [0, 1, 2, 3, 4]\n",
      "\n",
      " New List is : [1, 3, 5, 7, 9]\n",
      "\n",
      " New List is : [5, 5, 5, 5, 5]\n"
     ]
    }
   ],
   "source": [
    "def index_add(lst):\n",
    "    \n",
    "    for index, ele in enumerate(lst):\n",
    "        lst[index] = lst[index] + index\n",
    "        \n",
    "    return lst\n",
    "\n",
    "lists = [[0, 0, 0, 0, 0], [1, 2, 3, 4, 5], [5, 4, 3, 2, 1]]\n",
    "\n",
    "for list_ in lists:\n",
    "    print(f'\\n New List is : {index_add(list_)}')"
   ]
  },
  {
   "cell_type": "markdown",
   "id": "780b245b",
   "metadata": {},
   "source": [
    "# Question 3:\n",
    "\n",
    "### Create a function that takes the height and radius of a cone as arguments and returns the volume of the cone rounded to the nearest hundredth."
   ]
  },
  {
   "cell_type": "code",
   "execution_count": 16,
   "id": "96f582ee",
   "metadata": {},
   "outputs": [
    {
     "name": "stdout",
     "output_type": "stream",
     "text": [
      "Enter the radius and height of the cone: 15 6\n",
      "\n",
      "Volume of the Cone is : 565.49\n"
     ]
    }
   ],
   "source": [
    "def vol_cone(height, rad):\n",
    "    return round(3.1416*(rad**2)*height/3, 2)\n",
    "height, rad = input('Enter the radius and height of the cone: ').split()\n",
    "\n",
    "rad = float(rad)\n",
    "height = float(height)\n",
    "\n",
    "print(f'\\nVolume of the Cone is : {vol_cone(height, rad)}')"
   ]
  },
  {
   "cell_type": "markdown",
   "id": "f06d85ac",
   "metadata": {},
   "source": [
    "# Question 4:\n",
    "\n",
    "### Write a function that gives the number of dots with its corresponding triangle number of the sequence."
   ]
  },
  {
   "cell_type": "code",
   "execution_count": 19,
   "id": "d03f15eb",
   "metadata": {},
   "outputs": [
    {
     "name": "stdout",
     "output_type": "stream",
     "text": [
      "Enter the Sequence number: 215\n",
      "Number of dots : 23220\n"
     ]
    }
   ],
   "source": [
    "def tri_seq(num):\n",
    "    return int(num*(num+1)/2)\n",
    "\n",
    "num = int(input('Enter the Sequence number: '))\n",
    "\n",
    "print(f'Number of dots : {tri_seq(num)}')"
   ]
  },
  {
   "cell_type": "markdown",
   "id": "27ab4dac",
   "metadata": {},
   "source": [
    "# Question 5:\n",
    "\n",
    "### Create a function that takes a list of numbers between 1 and 10 (excluding one number) and returns the missing number."
   ]
  },
  {
   "cell_type": "code",
   "execution_count": 23,
   "id": "665d4bb7",
   "metadata": {},
   "outputs": [
    {
     "name": "stdout",
     "output_type": "stream",
     "text": [
      "Missing element in [1, 2, 3, 4, 6, 7, 8, 9, 10] is 5\n",
      "\n",
      "Missing element in [7, 2, 3, 6, 5, 9, 1, 4, 8] is 10\n",
      "\n",
      "Missing element in [10, 5, 1, 2, 4, 6, 8, 3, 9] is 7\n",
      "\n"
     ]
    }
   ],
   "source": [
    "def missing(lst):\n",
    "    \n",
    "    miss = [1, 2, 3, 4, 5, 6, 7, 8, 9, 10]\n",
    "    \n",
    "    for ele in miss:\n",
    "        if ele not in lst:\n",
    "            return ele\n",
    "        \n",
    "incomplete_lists = [[1, 2, 3, 4, 6, 7, 8, 9, 10], [7, 2, 3, 6, 5, 9, 1, 4, 8], [10, 5, 1, 2, 4, 6, 8, 3, 9]]\n",
    "\n",
    "for list_ in incomplete_lists:\n",
    "    print(f'Missing element in {list_} is {missing(list_)}\\n')"
   ]
  }
 ],
 "metadata": {
  "kernelspec": {
   "display_name": "Python 3",
   "language": "python",
   "name": "python3"
  },
  "language_info": {
   "codemirror_mode": {
    "name": "ipython",
    "version": 3
   },
   "file_extension": ".py",
   "mimetype": "text/x-python",
   "name": "python",
   "nbconvert_exporter": "python",
   "pygments_lexer": "ipython3",
   "version": "3.8.8"
  }
 },
 "nbformat": 4,
 "nbformat_minor": 5
}
