{
 "cells": [
  {
   "cell_type": "markdown",
   "id": "079d2af5",
   "metadata": {},
   "source": [
    "# Question 1:\n",
    "\n",
    "### Create a function that takes a string and returns a string in which each character is repeated once."
   ]
  },
  {
   "cell_type": "code",
   "execution_count": 2,
   "id": "8a18e3cd",
   "metadata": {},
   "outputs": [
    {
     "name": "stdout",
     "output_type": "stream",
     "text": [
      "Enter the string: Hello World!\n",
      "\n",
      "Repeated string is: HHeelllloo  WWoorrlldd!!\n"
     ]
    }
   ],
   "source": [
    "def repeat(string):\n",
    "    \n",
    "    repeat_str = ''\n",
    "    \n",
    "    for aplha in string:\n",
    "        repeat_str+= 2*aplha\n",
    "        \n",
    "    return repeat_str\n",
    "\n",
    "string = input('Enter the string: ')\n",
    "\n",
    "print(f'\\nRepeated string is: {repeat(string)}')"
   ]
  },
  {
   "cell_type": "markdown",
   "id": "353f87f6",
   "metadata": {},
   "source": [
    "# Question 2:\n",
    "\n",
    "### Create a function that reverses a boolean value and returns the string \"boolean expected\" if another variable type is given."
   ]
  },
  {
   "cell_type": "code",
   "execution_count": 4,
   "id": "f3883386",
   "metadata": {},
   "outputs": [
    {
     "name": "stdout",
     "output_type": "stream",
     "text": [
      "Enter the boolean: True\n",
      "Reversed boolean is : False\n"
     ]
    }
   ],
   "source": [
    "def rev_bool(boolean):\n",
    "    \n",
    "    if type(boolean) == bool:\n",
    "        return not boolean\n",
    "    \n",
    "    else:\n",
    "        return 'boolean expected'\n",
    "    \n",
    "boolean = input('Enter the boolean: ')\n",
    "\n",
    "print(f'Reversed boolean is : {rev_bool(bool(boolean))}')"
   ]
  },
  {
   "cell_type": "markdown",
   "id": "824fab83",
   "metadata": {},
   "source": [
    "# Question 3:\n",
    "\n",
    "### Create a function that returns the thickness (in meters) of a piece of paper after folding it n number of times. The paper starts off with a thickness of 0.5mm."
   ]
  },
  {
   "cell_type": "code",
   "execution_count": 8,
   "id": "8da3a088",
   "metadata": {},
   "outputs": [
    {
     "name": "stdout",
     "output_type": "stream",
     "text": [
      "Enter the number of folds: 21\n",
      "\n",
      "Thickness (in meters) after 21 folds is: 1048.576 m\n"
     ]
    }
   ],
   "source": [
    "def fold_thickness(fold, thickness = 0.5):\n",
    "    return thickness*(2**fold)/1000\n",
    "\n",
    "fold = int(input('Enter the number of folds: '))\n",
    "\n",
    "print(f'\\nThickness (in meters) after {fold} folds is: {fold_thickness(fold)} m')"
   ]
  },
  {
   "cell_type": "markdown",
   "id": "ad5b04af",
   "metadata": {},
   "source": [
    "# Question 4:\n",
    "\n",
    "### Create a function that takes a single string as argument and returns an ordered list containing the indices of all capital letters in the string."
   ]
  },
  {
   "cell_type": "code",
   "execution_count": 10,
   "id": "b7445ff1",
   "metadata": {},
   "outputs": [
    {
     "name": "stdout",
     "output_type": "stream",
     "text": [
      "Enter the string : eQuINoX\n",
      "\n",
      "List of indices of upper case letters : [1, 3, 4, 6]\n"
     ]
    }
   ],
   "source": [
    "def upper_indices(string):\n",
    "    \n",
    "    upper = []\n",
    "    \n",
    "    for index,alpha in enumerate(string):\n",
    "        if alpha.isupper():\n",
    "            upper.append(index)\n",
    "    \n",
    "    return upper\n",
    "\n",
    "string = input('Enter the string : ')\n",
    "print(f'\\nList of indices of upper case letters : {upper_indices(string)}')"
   ]
  },
  {
   "cell_type": "markdown",
   "id": "961f2e77",
   "metadata": {},
   "source": [
    "# Question 5:\n",
    "\n",
    "### Using list comprehensions, create a function that finds all even numbers from 1 to the given number."
   ]
  },
  {
   "cell_type": "code",
   "execution_count": 14,
   "id": "d2ee96c9",
   "metadata": {},
   "outputs": [
    {
     "name": "stdout",
     "output_type": "stream",
     "text": [
      "Enter the maxium number: 8\n",
      "\n",
      "List of even numbers is : [2, 4, 6, 8]\n"
     ]
    }
   ],
   "source": [
    "def even_list(max_num):\n",
    "    even = [k for k in range(1,max_num+1) if k%2 == 0]\n",
    "    return even\n",
    "\n",
    "max_num = int(input('Enter the maxium number: '))\n",
    "print(f'\\nList of even numbers is : {even_list(max_num)}')"
   ]
  }
 ],
 "metadata": {
  "kernelspec": {
   "display_name": "Python 3",
   "language": "python",
   "name": "python3"
  },
  "language_info": {
   "codemirror_mode": {
    "name": "ipython",
    "version": 3
   },
   "file_extension": ".py",
   "mimetype": "text/x-python",
   "name": "python",
   "nbconvert_exporter": "python",
   "pygments_lexer": "ipython3",
   "version": "3.8.8"
  }
 },
 "nbformat": 4,
 "nbformat_minor": 5
}
