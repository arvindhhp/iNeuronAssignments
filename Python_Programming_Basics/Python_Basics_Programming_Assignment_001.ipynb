{
 "cells": [
  {
   "cell_type": "markdown",
   "metadata": {},
   "source": [
    "## Question 1 : Write a Python program to print \"Hello Python\""
   ]
  },
  {
   "cell_type": "code",
   "execution_count": 1,
   "metadata": {},
   "outputs": [
    {
     "name": "stdout",
     "output_type": "stream",
     "text": [
      "Hello Python\n"
     ]
    }
   ],
   "source": [
    "print('Hello Python')"
   ]
  },
  {
   "cell_type": "markdown",
   "metadata": {},
   "source": [
    "## Question 2 : Write a Python program to do arithmetical operations addition and division"
   ]
  },
  {
   "cell_type": "code",
   "execution_count": 2,
   "metadata": {},
   "outputs": [
    {
     "name": "stdout",
     "output_type": "stream",
     "text": [
      "Sum of 10 and 25 is 35 \n",
      "Ratio of 10 and 25 is 0.4 \n"
     ]
    }
   ],
   "source": [
    "#Addition\n",
    "\n",
    "a=10\n",
    "b=25\n",
    "\n",
    "add=a+b\n",
    "\n",
    "print(f'Sum of {a} and {b} is {add} ')\n",
    "\n",
    "#Division\n",
    "\n",
    "div=a/b\n",
    "\n",
    "print(f'Ratio of {a} and {b} is {div} ')\n"
   ]
  },
  {
   "cell_type": "markdown",
   "metadata": {},
   "source": [
    "## Question 3 : Write a Python program to find the area of a triangle"
   ]
  },
  {
   "cell_type": "code",
   "execution_count": 3,
   "metadata": {},
   "outputs": [
    {
     "name": "stdout",
     "output_type": "stream",
     "text": [
      "Area of a right triangle with height 10 mm and base 15 mm is 75.0 mm2\n",
      "Area of a triangle with side1 6 mm and side2 8 mm and side3 12 mm is 21.330729007701542 mm2\n"
     ]
    }
   ],
   "source": [
    "#Area of Right Triangle\n",
    "\n",
    "height = 10\n",
    "base = 15\n",
    "\n",
    "area_right=(0.5)*base*height\n",
    "\n",
    "print(f'Area of a right triangle with height {height} mm and base {base} mm is {area_right} mm2')\n",
    "      \n",
    "\n",
    "#Area of non-right triangle\n",
    "      \n",
    "side1=6\n",
    "side2=8\n",
    "side3=12\n",
    "\n",
    "semi=(side1+side2+side3)/2\n",
    "      \n",
    "area_nonright=(semi*(semi-side1)*(semi-side2)*(semi-side3))**0.5\n",
    "      \n",
    "print(f'Area of a triangle with side1 {side1} mm and side2 {side2} mm and side3 {side3} mm is {area_nonright} mm2')"
   ]
  },
  {
   "cell_type": "markdown",
   "metadata": {},
   "source": [
    "## Question 4 : Write a Python program to swap two variables"
   ]
  },
  {
   "cell_type": "code",
   "execution_count": 4,
   "metadata": {},
   "outputs": [
    {
     "name": "stdout",
     "output_type": "stream",
     "text": [
      "Current value of a is 3 and b is 7\n",
      "After swapping, value of a is 7 and b is 3\n"
     ]
    }
   ],
   "source": [
    "#Swapping using temporary variable\n",
    "\n",
    "a=3\n",
    "b=7\n",
    "temp=0\n",
    "\n",
    "print(f'Current value of a is {a} and b is {b}')\n",
    "\n",
    "#Swapping\n",
    "temp=a\n",
    "a=b\n",
    "b=temp\n",
    "\n",
    "print(f'After swapping, value of a is {a} and b is {b}')"
   ]
  },
  {
   "cell_type": "code",
   "execution_count": 5,
   "metadata": {},
   "outputs": [
    {
     "name": "stdout",
     "output_type": "stream",
     "text": [
      "Current value of a is 3 and b is 7\n",
      "After swapping, value of a is 7 and b is 3\n"
     ]
    }
   ],
   "source": [
    "#Swapping without using a temporary variable\n",
    "\n",
    "a=3\n",
    "b=7\n",
    "print(f'Current value of a is {a} and b is {b}')\n",
    "\n",
    "#Swapping\n",
    "\n",
    "a=a+b\n",
    "b=a-b\n",
    "a=a-b\n",
    "\n",
    "print(f'After swapping, value of a is {a} and b is {b}')"
   ]
  },
  {
   "cell_type": "markdown",
   "metadata": {},
   "source": [
    "## Question 5 : Write a Python program to generate a random number"
   ]
  },
  {
   "cell_type": "code",
   "execution_count": 6,
   "metadata": {},
   "outputs": [
    {
     "name": "stdout",
     "output_type": "stream",
     "text": [
      "Random number generated using random() is 0.25961689736324867\n",
      "Random integer generated using randint() between 6 and 14 is 6\n"
     ]
    }
   ],
   "source": [
    "#Random numbers can be generated in Python using the random module\n",
    "\n",
    "import random\n",
    "\n",
    "n=random.random()\n",
    "\n",
    "print(f'Random number generated using random() is {n}')\n",
    "\n",
    "#Generating an random integer within a specified limit\n",
    "\n",
    "p=random.randint(6,14)\n",
    "\n",
    "print(f'Random integer generated using randint() between 6 and 14 is {p}')"
   ]
  }
 ],
 "metadata": {
  "kernelspec": {
   "display_name": "Python 3",
   "language": "python",
   "name": "python3"
  },
  "language_info": {
   "codemirror_mode": {
    "name": "ipython",
    "version": 3
   },
   "file_extension": ".py",
   "mimetype": "text/x-python",
   "name": "python",
   "nbconvert_exporter": "python",
   "pygments_lexer": "ipython3",
   "version": "3.7.6"
  }
 },
 "nbformat": 4,
 "nbformat_minor": 4
}
