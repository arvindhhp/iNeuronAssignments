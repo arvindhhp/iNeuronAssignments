{
 "cells": [
  {
   "cell_type": "markdown",
   "id": "372d0fe4",
   "metadata": {},
   "source": [
    "# Question 1:\n",
    "\n",
    "### Create a function that takes three parameters where:\n",
    "###  x is the start of the range (inclusive).\n",
    "###  y is the end of the range (inclusive).\n",
    "####  n is the divisor to be checked against.\n",
    "\n",
    "### Return an ordered list with numbers in the range that are divisible by the third parameter n.\n",
    "\n",
    "### Return an empty list if there are no numbers that are divisible by n."
   ]
  },
  {
   "cell_type": "code",
   "execution_count": 1,
   "id": "1dcfc1e4",
   "metadata": {},
   "outputs": [
    {
     "name": "stdout",
     "output_type": "stream",
     "text": [
      "Enter the range of numbers and the divisor: 1 10 3\n",
      "\n",
      "List of numbers in the range 1 to 10 divisible by 3 is: [3, 6, 9]\n"
     ]
    }
   ],
   "source": [
    "def factors(x,y,n):\n",
    "    \n",
    "    fac = []\n",
    "    \n",
    "    for num in range(x, y+1):\n",
    "        if num%n == 0:\n",
    "            fac.append(num)\n",
    "            \n",
    "    return fac\n",
    "\n",
    "x, y, n = input('Enter the range of numbers and the divisor: ').split()\n",
    "\n",
    "x = int(x)\n",
    "y = int(y)\n",
    "n = int(n)\n",
    "\n",
    "print(f'\\nList of numbers in the range {x} to {y} divisible by {n} is: {factors(x,y,n)}')"
   ]
  },
  {
   "cell_type": "markdown",
   "id": "dbc3e998",
   "metadata": {},
   "source": [
    "# Question 2:\n",
    "\n",
    "### Create a function that takes in two lists and returns True if the second list follows the first list by one element, and False otherwise. In other words, determine if the second list is the first list shifted to the right by 1."
   ]
  },
  {
   "cell_type": "code",
   "execution_count": 7,
   "id": "a192517e",
   "metadata": {},
   "outputs": [
    {
     "name": "stdout",
     "output_type": "stream",
     "text": [
      "Simon says: True\n"
     ]
    }
   ],
   "source": [
    "def simon_says(list1, list2):\n",
    "    \n",
    "    flag = True\n",
    "    \n",
    "    if len(list1) != len(list2):\n",
    "        return 'Lists should be same length'\n",
    "    \n",
    "    elif len(list1) < 2:\n",
    "        return 'Lists should have at least 2 elements'\n",
    "    \n",
    "    for index in range(len(list1)-1):\n",
    "        if list1[index] != list2[index+1]:\n",
    "            flag = False\n",
    "    return flag\n",
    "            \n",
    "list1 = [1, 2, 3, 4, 5]\n",
    "list2 = [0, 1, 2, 3, 4]\n",
    "\n",
    "print(f'Simon says: {simon_says(list1, list2)}')"
   ]
  },
  {
   "cell_type": "markdown",
   "id": "2c2fd655",
   "metadata": {},
   "source": [
    "# Question 3:\n",
    "\n",
    "### A group of friends have decided to start a secret society. The name will be the first letter of each of their names, sorted in alphabetical order. Create a function that takes in a list of names and returns the name of the secret society."
   ]
  },
  {
   "cell_type": "code",
   "execution_count": 13,
   "id": "7284c018",
   "metadata": {},
   "outputs": [
    {
     "name": "stdout",
     "output_type": "stream",
     "text": [
      "Enter the list of names: Adam Sarah Malcolm\n",
      "\n",
      "Name of the secret society name is : AMS\n"
     ]
    }
   ],
   "source": [
    "def secret(lst_names):\n",
    "    \n",
    "    secret_name = ''\n",
    "    for name in lst_names:\n",
    "        secret_name += name[0].upper()\n",
    "    \n",
    "    sorted_name = ''\n",
    "    \n",
    "    for ele in sorted(list(secret_name)):\n",
    "        sorted_name += ele\n",
    "        \n",
    "    return sorted_name\n",
    "\n",
    "lst_names = input('Enter the list of names: ').split()\n",
    "\n",
    "print(f'\\nName of the secret society name is : {secret(lst_names)}')\n"
   ]
  },
  {
   "cell_type": "markdown",
   "id": "41196616",
   "metadata": {},
   "source": [
    "# Question 4:\n",
    "\n",
    "### An isogram is a word that has no duplicate letters. Create a function that takes a string and returns either True or False depending on whether or not it's an \"isogram\""
   ]
  },
  {
   "cell_type": "code",
   "execution_count": 19,
   "id": "669c60cf",
   "metadata": {},
   "outputs": [
    {
     "name": "stdout",
     "output_type": "stream",
     "text": [
      "Enter the string : PasSword\n",
      "\n",
      "PasSword is NOT an Isogram\n"
     ]
    }
   ],
   "source": [
    "def isogram(string):\n",
    "    \n",
    "    for letter in string:\n",
    "        if string.count(letter) > 1:\n",
    "            return 'is NOT an Isogram'\n",
    "    \n",
    "    return 'is an Isogram'\n",
    "\n",
    "string = input('Enter the string : ')\n",
    "\n",
    "print(f'\\n{string} {isogram(string.lower())}')"
   ]
  },
  {
   "cell_type": "markdown",
   "id": "5e68dff9",
   "metadata": {},
   "source": [
    "# Question 5:\n",
    "\n",
    "### Create a function that takes a string and returns True or False, depending on whether the characters are in order or not."
   ]
  },
  {
   "cell_type": "code",
   "execution_count": 23,
   "id": "a2f95d28",
   "metadata": {},
   "outputs": [
    {
     "name": "stdout",
     "output_type": "stream",
     "text": [
      "Enter the string : edabit\n",
      "\n",
      "Outcome is False\n"
     ]
    }
   ],
   "source": [
    "def is_in_order(string):\n",
    "    \n",
    "    if list(string) == sorted(list(string)):\n",
    "        return True\n",
    "    else:\n",
    "        return False\n",
    "    \n",
    "string = input('Enter the string : ')\n",
    "\n",
    "print(f'\\nOutcome is {is_in_order(string)}')"
   ]
  }
 ],
 "metadata": {
  "kernelspec": {
   "display_name": "Python 3",
   "language": "python",
   "name": "python3"
  },
  "language_info": {
   "codemirror_mode": {
    "name": "ipython",
    "version": 3
   },
   "file_extension": ".py",
   "mimetype": "text/x-python",
   "name": "python",
   "nbconvert_exporter": "python",
   "pygments_lexer": "ipython3",
   "version": "3.8.8"
  }
 },
 "nbformat": 4,
 "nbformat_minor": 5
}
