{
 "cells": [
  {
   "cell_type": "markdown",
   "id": "dd07768e",
   "metadata": {},
   "source": [
    "# Question 1: Write a Python Program to Display Fibonacci Series Using Recursion"
   ]
  },
  {
   "cell_type": "code",
   "execution_count": 1,
   "id": "24a6513d",
   "metadata": {},
   "outputs": [
    {
     "name": "stdout",
     "output_type": "stream",
     "text": [
      "Enter the desired number: 7\n",
      "\n",
      "First 7 numbers of the Fibonacci Sequence are as follows:\n",
      "\n",
      "[0, 1, 1, 2, 3, 5, 8]\n"
     ]
    }
   ],
   "source": [
    "fibo_series = []\n",
    "num = int(input('Enter the desired number: '))\n",
    "\n",
    "print(f'\\nFirst {num} numbers of the Fibonacci Sequence are as follows:')\n",
    "\n",
    "# Python program to display the Fibonacci sequence\n",
    "\n",
    "def recur_fibo(n):\n",
    "    if n <= 1:\n",
    "        return n\n",
    "    else:\n",
    "        return(recur_fibo(n-1) + recur_fibo(n-2))\n",
    "\n",
    "# check if the number of terms is valid\n",
    "if num <= 0:\n",
    "    print(\"Plese enter a positive integer\")\n",
    "else:\n",
    "   #print(\"Fibonacci sequence:\")\n",
    "   for i in range(num):\n",
    "        fibo_series.append(recur_fibo(i))\n",
    "    \n",
    "    \n",
    "print(f'\\n{fibo_series}')"
   ]
  },
  {
   "cell_type": "markdown",
   "id": "084455ab",
   "metadata": {},
   "source": [
    "# Question 2: Write a Python Program to calculate Factorial of a Number Using Recursion"
   ]
  },
  {
   "cell_type": "code",
   "execution_count": 2,
   "id": "31d20acd",
   "metadata": {},
   "outputs": [
    {
     "name": "stdout",
     "output_type": "stream",
     "text": [
      "Enter the desired number : 6\n",
      "The factorial of 6 is 720\n"
     ]
    }
   ],
   "source": [
    "def factorial(x):\n",
    "    \"\"\"This is a recursive function\n",
    "    to find the factorial of an integer\"\"\"\n",
    "\n",
    "    if x == 1:\n",
    "        return 1\n",
    "    else:\n",
    "        return (x * factorial(x-1))\n",
    "\n",
    "\n",
    "num = int(input('Enter the desired number : '))\n",
    "\n",
    "print(\"The factorial of\", num, \"is\", factorial(num))"
   ]
  },
  {
   "cell_type": "markdown",
   "id": "55151656",
   "metadata": {},
   "source": [
    "# Question 3: Program to Calculate Body Mass Index"
   ]
  },
  {
   "cell_type": "code",
   "execution_count": 3,
   "id": "a28666e1",
   "metadata": {},
   "outputs": [
    {
     "name": "stdout",
     "output_type": "stream",
     "text": [
      "Enter the height in (m) and weight in (kgs): 1.60 75\n",
      "\n",
      "BMI is 29.30\n"
     ]
    }
   ],
   "source": [
    "def bmi(mass, height):\n",
    "    return '%.2f'%(mass/(height*height))\n",
    "\n",
    "height, mass = input('Enter the height in (m) and weight in (kgs): ').split()\n",
    "mass = float(mass)\n",
    "height = float(height)\n",
    "\n",
    "print(f'\\nBMI is {bmi(mass, height)}')"
   ]
  },
  {
   "cell_type": "markdown",
   "id": "11654cbf",
   "metadata": {},
   "source": [
    "# Question 4: Program to Calculate Natural Logarithm of a Number"
   ]
  },
  {
   "cell_type": "code",
   "execution_count": 4,
   "id": "e536d204",
   "metadata": {},
   "outputs": [
    {
     "name": "stdout",
     "output_type": "stream",
     "text": [
      "Enter the number : 7.73\n",
      "\n",
      "Natural Logarithm of 7.73 is 2.05\n"
     ]
    }
   ],
   "source": [
    "#Using the Log Identity\n",
    "\n",
    "def ln(x):\n",
    "    n = 10000000\n",
    "    return '%.2f'%(n * ((x ** (1/n)) - 1))\n",
    "\n",
    "num = float(input('Enter the number : '))\n",
    "print(f'\\nNatural Logarithm of {num} is {ln(num)}')"
   ]
  },
  {
   "cell_type": "code",
   "execution_count": 5,
   "id": "53a571aa",
   "metadata": {},
   "outputs": [
    {
     "name": "stdout",
     "output_type": "stream",
     "text": [
      "Enter the number of natural numbers : 5\n",
      "Sum of the first 5 natural numbers is : 225\n"
     ]
    }
   ],
   "source": [
    "n = 1\n",
    "sum = 0\n",
    "num = int(input('Enter the number of natural numbers : '))\n",
    "\n",
    "while n <= num:\n",
    "    sum += n**3\n",
    "    n+=1\n",
    "    \n",
    "print(f'Sum of the first {num} natural numbers is : {sum}')"
   ]
  }
 ],
 "metadata": {
  "kernelspec": {
   "display_name": "Python 3",
   "language": "python",
   "name": "python3"
  },
  "language_info": {
   "codemirror_mode": {
    "name": "ipython",
    "version": 3
   },
   "file_extension": ".py",
   "mimetype": "text/x-python",
   "name": "python",
   "nbconvert_exporter": "python",
   "pygments_lexer": "ipython3",
   "version": "3.8.8"
  }
 },
 "nbformat": 4,
 "nbformat_minor": 5
}
