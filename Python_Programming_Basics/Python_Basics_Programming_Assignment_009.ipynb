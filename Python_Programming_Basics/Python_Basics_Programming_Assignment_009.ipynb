{
 "cells": [
  {
   "cell_type": "code",
   "execution_count": 1,
   "id": "944a3eaa",
   "metadata": {},
   "outputs": [],
   "source": [
    "#Common Function to Split the entered number to series of digits\n",
    "\n",
    "def split_digits(num):\n",
    "    \n",
    "    num_str = str(num)\n",
    "    list_digits = []\n",
    "    \n",
    "    for i in num_str:\n",
    "        list_digits.append(int(i))\n",
    "    \n",
    "    return list_digits"
   ]
  },
  {
   "cell_type": "markdown",
   "id": "ecd699c0",
   "metadata": {},
   "source": [
    "# Question 1 : Python Program to check if a given number is Disarium Number"
   ]
  },
  {
   "cell_type": "code",
   "execution_count": 2,
   "id": "82f3d108",
   "metadata": {},
   "outputs": [
    {
     "name": "stdout",
     "output_type": "stream",
     "text": [
      "Enter the nuymber to be checked: 135\n",
      "\n",
      "135 is a Disarium Number\n"
     ]
    }
   ],
   "source": [
    " def disarium_check(input):\n",
    "        \n",
    "        digits = []\n",
    "        digits = split_digits(input) #using the digit splitting method defined above\n",
    "        \n",
    "        #sum of the digits to the power of their respective position\n",
    "        \n",
    "        sum = 0\n",
    "        for j in range(len(digits)):\n",
    "            sum += digits[j]**(j+1)\n",
    "            \n",
    "        \n",
    "        #Disarium Check\n",
    "        if sum == input:\n",
    "            flag = True\n",
    "        else:\n",
    "            flag = False\n",
    "\n",
    "        return flag\n",
    "    \n",
    "#Main Program\n",
    "\n",
    "number = int(input('Enter the number to be checked: '))\n",
    "check = disarium_check(number)\n",
    "\n",
    "if check:\n",
    "    print(f'\\n{number} is a Disarium Number')\n",
    "else:\n",
    "    print(f'\\n{number} is NOT a Disarium Number')"
   ]
  },
  {
   "cell_type": "markdown",
   "id": "ce353d72",
   "metadata": {},
   "source": [
    "# Question 2: Python Program to print all Disarium Numbers between two Numbers"
   ]
  },
  {
   "cell_type": "code",
   "execution_count": 3,
   "id": "4ad73e5f",
   "metadata": {},
   "outputs": [
    {
     "name": "stdout",
     "output_type": "stream",
     "text": [
      "Enter the range of numbers to search: 0 102\n",
      "\n",
      "List of DISARIUM numbers between 0 and 102 is: [0, 1, 2, 3, 4, 5, 6, 7, 8, 9, 89]\n"
     ]
    }
   ],
   "source": [
    "num1, num2 = input('Enter the range of numbers to search: ').split()\n",
    "\n",
    "num1 = int(num1)\n",
    "num2 = int(num2)\n",
    "\n",
    "disarium_list = []\n",
    "\n",
    "for k in range(num1,num2+1):\n",
    "    check = disarium_check(k)\n",
    "    if check:\n",
    "        disarium_list.append(k)\n",
    "        \n",
    "print(f'\\nList of DISARIUM numbers between {num1} and {num2} is: {disarium_list}')"
   ]
  },
  {
   "cell_type": "markdown",
   "id": "e84e2ede",
   "metadata": {},
   "source": [
    "# Question 3: Python Program to check if a given number is Happy Number"
   ]
  },
  {
   "cell_type": "code",
   "execution_count": 4,
   "id": "f4bb10b5",
   "metadata": {},
   "outputs": [
    {
     "name": "stdout",
     "output_type": "stream",
     "text": [
      "Enter the number to be checked: 86\n",
      "86 is a HAPPY NUMBER\n"
     ]
    }
   ],
   "source": [
    "def happy_check(num, sum_list):\n",
    "    \n",
    "    digits = []\n",
    "    digits = split_digits(num) #using the digit splitting method defined above\n",
    "    sum_square = 0\n",
    "    for p in digits:\n",
    "        sum_square += p**2\n",
    "    \n",
    "    sum_list.append(sum_square)\n",
    "    \n",
    "    #Recursion to continue evaluating sum of squares only if the sum has not occurred before\n",
    "    if sum_list.count(sum_square) == 1:\n",
    "        sum_square = happy_check(sum_square, sum_list)\n",
    "    \n",
    "    if sum_square == 1:\n",
    "        flag = True\n",
    "    else:\n",
    "        flag = False\n",
    "                    \n",
    "    return flag\n",
    "\n",
    "dummy_sum_list = []\n",
    "number = int(input('Enter the number to be checked: '))\n",
    "\n",
    "if happy_check(number, dummy_sum_list):\n",
    "    print(f'{number} is a HAPPY NUMBER')\n",
    "else:\n",
    "    print(f'{number} is a SAD NUMBER')"
   ]
  },
  {
   "cell_type": "markdown",
   "id": "b3dc80e5",
   "metadata": {},
   "source": [
    "# Question 4: Python Program to print all Happy Numbers between two Numbers"
   ]
  },
  {
   "cell_type": "code",
   "execution_count": 5,
   "id": "69bf3f34",
   "metadata": {},
   "outputs": [
    {
     "name": "stdout",
     "output_type": "stream",
     "text": [
      "Enter the range of numbers to search: 0 101\n",
      "\n",
      "List of HAPPY numbers between 0 and 101 is: [1, 7, 10, 13, 19, 23, 28, 31, 32, 44, 49, 68, 70, 79, 82, 86, 91, 94, 97, 100]\n"
     ]
    }
   ],
   "source": [
    "dummy_sum_list = []\n",
    "num1, num2 = input('Enter the range of numbers to search: ').split()\n",
    "\n",
    "num1 = int(num1)\n",
    "num2 = int(num2)\n",
    "\n",
    "happy_list = []\n",
    "\n",
    "for k in range(num1, num2+1):\n",
    "    check = happy_check(k, dummy_sum_list[:])\n",
    "    if check:\n",
    "        happy_list.append(k)\n",
    "        \n",
    "print(f'\\nList of HAPPY numbers between {num1} and {num2} is: {happy_list}')"
   ]
  },
  {
   "cell_type": "markdown",
   "id": "47bf0f07",
   "metadata": {},
   "source": [
    "# Question 5: Python Program to check if a given number is Harshad Number"
   ]
  },
  {
   "cell_type": "code",
   "execution_count": 7,
   "id": "2ba2e842",
   "metadata": {},
   "outputs": [
    {
     "name": "stdout",
     "output_type": "stream",
     "text": [
      "Enter the number to be checked: 89\n",
      "89 is NOT A HARSHAD NUMBER\n"
     ]
    }
   ],
   "source": [
    "def harshad_check(num):\n",
    "    \n",
    "    digits = []\n",
    "    digits = split_digits(num) #using the digit splitting method defined above\n",
    "    \n",
    "    if num % sum(digits) == 0:\n",
    "        flag = True\n",
    "    else:\n",
    "        flag = False\n",
    "    \n",
    "    return flag\n",
    "\n",
    "number = int(input('Enter the number to be checked: '))\n",
    "\n",
    "if harshad_check(number):\n",
    "    print(f'{number} is a HARSHAD NUMBER')\n",
    "else:\n",
    "    print(f'{number} is NOT A HARSHAD NUMBER')"
   ]
  },
  {
   "cell_type": "markdown",
   "id": "d8573cf1",
   "metadata": {},
   "source": [
    "# Question 6: Python program to print Pronic Numbers between two numbers"
   ]
  },
  {
   "cell_type": "code",
   "execution_count": 27,
   "id": "11747263",
   "metadata": {},
   "outputs": [
    {
     "name": "stdout",
     "output_type": "stream",
     "text": [
      "Enter the range of numbers to search: 0 100\n",
      "\n",
      "List of Pronic numbers between 0 and 100 is: [2, 6, 12, 20, 30, 42, 56, 72, 90]\n"
     ]
    }
   ],
   "source": [
    "def factors_num(num):\n",
    "    \n",
    "    factors = []\n",
    "    \n",
    "    for i in range(1,int(num/2)+2):\n",
    "        if num % i == 0:\n",
    "            factors.append(i)\n",
    "    return factors\n",
    "            \n",
    "def pronic_check(num):\n",
    "    \n",
    "    factors = factors_num(num)\n",
    "    \n",
    "    flag = False\n",
    "    \n",
    "    for j in range(len(factors) - 1):\n",
    "        if factors[j]+1 == factors[j+1]:\n",
    "            if factors[j]*factors[j+1] == num:\n",
    "                flag = True\n",
    "    \n",
    "    return flag\n",
    "\n",
    "\n",
    "#Main Program\n",
    "\n",
    "num1, num2 = input('Enter the range of numbers to search: ').split()\n",
    "\n",
    "num1 = int(num1)\n",
    "num2 = int(num2)\n",
    "\n",
    "pronic_list = []\n",
    "\n",
    "for k in range(num1, num2+1):\n",
    "    check = pronic_check(k)\n",
    "    if check:\n",
    "        pronic_list.append(k)\n",
    "        \n",
    "print(f'\\nList of Pronic numbers between {num1} and {num2} is: {pronic_list}')"
   ]
  }
 ],
 "metadata": {
  "kernelspec": {
   "display_name": "Python 3",
   "language": "python",
   "name": "python3"
  },
  "language_info": {
   "codemirror_mode": {
    "name": "ipython",
    "version": 3
   },
   "file_extension": ".py",
   "mimetype": "text/x-python",
   "name": "python",
   "nbconvert_exporter": "python",
   "pygments_lexer": "ipython3",
   "version": "3.8.8"
  }
 },
 "nbformat": 4,
 "nbformat_minor": 5
}
