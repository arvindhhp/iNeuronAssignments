{
 "cells": [
  {
   "cell_type": "code",
   "execution_count": 1,
   "id": "d0c450a9",
   "metadata": {},
   "outputs": [],
   "source": [
    "#Common String to be used for this assignment\n",
    "\n",
    "string_assignment = \"This is 11th Assignment of ineuron's Python Basic Programming!!!\""
   ]
  },
  {
   "cell_type": "markdown",
   "id": "7ad3ce2f",
   "metadata": {},
   "source": [
    "# Question 1: Python program to find words greater than given length k"
   ]
  },
  {
   "cell_type": "code",
   "execution_count": 2,
   "id": "e028d36a",
   "metadata": {},
   "outputs": [
    {
     "name": "stdout",
     "output_type": "stream",
     "text": [
      "Enter the target length of the word: 4\n",
      "List of words in the string is : ['This', 'is', '11th', 'Assignment', 'of', \"ineuron's\", 'Python', 'Basic', 'Programming!!!']\n",
      "\n",
      "List of words in the string greater than 4 characters is :\n",
      "['Assignment', \"ineuron's\", 'Python', 'Basic', 'Programming!!!']\n"
     ]
    }
   ],
   "source": [
    "length_k = int(input('Enter the target length of the word: '))\n",
    "string_words = string_assignment.split()\n",
    "longer_words = []\n",
    "\n",
    "print(f'List of words in the string is : {string_words}')\n",
    "\n",
    "for word in string_words:\n",
    "    if len(word) > length_k:\n",
    "        longer_words.append(word)\n",
    "        \n",
    "print(f'\\nList of words in the string greater than {length_k} characters is :\\n{longer_words}')"
   ]
  },
  {
   "cell_type": "markdown",
   "id": "012ac0f4",
   "metadata": {},
   "source": [
    "# Question 2: Python program to remove i-th character from a string"
   ]
  },
  {
   "cell_type": "markdown",
   "id": "0c5b7127",
   "metadata": {},
   "source": [
    "#### Strings are immutable, so a new string has been created with i-th characters removed"
   ]
  },
  {
   "cell_type": "code",
   "execution_count": 4,
   "id": "69398f07",
   "metadata": {},
   "outputs": [
    {
     "name": "stdout",
     "output_type": "stream",
     "text": [
      "Enter the ith position of the word to be removed: 3\n",
      "\n",
      "List of words in the string with ith character removed is :\n",
      "['Thi', 'is', '11t', 'Assgnment', 'of', \"ineron's\", 'Pyton', 'Basc', 'Proramming!!!']\n"
     ]
    }
   ],
   "source": [
    "remove_i = int(input('Enter the ith position of the word to be removed: '))\n",
    "\n",
    "new_word_list = []\n",
    "\n",
    "#Doing the same for all words in the sentence defined at the starting\n",
    "\n",
    "for word in string_words:\n",
    "    new_word_list.append(str(word[:remove_i]) + str(word[remove_i+1:]))\n",
    "    \n",
    "print(f'\\nList of words in the string with ith character removed is :\\n{new_word_list}')"
   ]
  },
  {
   "cell_type": "markdown",
   "id": "05b57705",
   "metadata": {},
   "source": [
    "#### Using str.replace(), replacing just the first occurence"
   ]
  },
  {
   "cell_type": "code",
   "execution_count": 7,
   "id": "3cea0a08",
   "metadata": {},
   "outputs": [
    {
     "name": "stdout",
     "output_type": "stream",
     "text": [
      "\n",
      "List of words in the string with ith character removed using replace() is :\n",
      "['Thi', 'is', '11t', 'Assgnment', 'of', \"ineron's\", 'Pyton', 'Basc', 'Proramming!!!']\n"
     ]
    }
   ],
   "source": [
    "new_word_list_replace = []\n",
    "\n",
    "for word in string_words:\n",
    "    if len(word) >= remove_i:\n",
    "        new_word_list_replace.append(word.replace(word[remove_i],'',1))\n",
    "    else:\n",
    "        new_word_list_replace.append(word)\n",
    "    \n",
    "print(f'\\nList of words in the string with ith character removed using replace() is :\\n{new_word_list_replace}')"
   ]
  },
  {
   "cell_type": "markdown",
   "id": "9372d003",
   "metadata": {},
   "source": [
    "# Question 3: Python Program to split and Join a String"
   ]
  },
  {
   "cell_type": "code",
   "execution_count": 18,
   "id": "e1a341b8",
   "metadata": {},
   "outputs": [
    {
     "name": "stdout",
     "output_type": "stream",
     "text": [
      "The original string is:\n",
      "This is 11th Assignment of ineuron's Python Basic Programming!!!\n",
      "\n",
      "List of words in the string after splitting is:\n",
      "['This', 'is', '11th', 'Assignment', 'of', \"ineuron's\", 'Python', 'Basic', 'Programming!!!']\n",
      "\n",
      "Joined string is:\n",
      "This is 11th Assignment of ineuron's Python Basic Programming!!!\n"
     ]
    }
   ],
   "source": [
    "# Splitting the original string defined at the start\n",
    "\n",
    "print(f'The original string is:\\n{string_assignment}\\n')\n",
    "\n",
    "string_words_split = string_assignment.split()\n",
    "\n",
    "print(f'List of words in the string after splitting is:\\n{string_words_split}\\n')\n",
    "\n",
    "#Joining the split words back to a string, seprated by ' '\n",
    "\n",
    "joined_string = ' '.join(string_words_split)\n",
    "\n",
    "print(f'Joined string is:\\n{joined_string}')"
   ]
  },
  {
   "cell_type": "markdown",
   "id": "6156d59b",
   "metadata": {},
   "source": [
    "# Question 4: Python program to check for Binary String"
   ]
  },
  {
   "cell_type": "markdown",
   "id": "69745f13",
   "metadata": {},
   "source": [
    "#### Using If Condition"
   ]
  },
  {
   "cell_type": "code",
   "execution_count": 28,
   "id": "405b166f",
   "metadata": {},
   "outputs": [
    {
     "name": "stdout",
     "output_type": "stream",
     "text": [
      "Enter the desired string: 1000111110\n",
      "\n",
      "Entered string 1000111110 is a BINARY STRING\n"
     ]
    }
   ],
   "source": [
    "check_binary_string = input('Enter the desired string: ')\n",
    "\n",
    "flag = True\n",
    "\n",
    "for i in check_binary_string:\n",
    "    if i != '0' and i != '1':\n",
    "        flag = False\n",
    "        \n",
    "if flag:\n",
    "    print(f'\\nEntered string {check_binary_string} is a BINARY STRING')\n",
    "else:\n",
    "    print(f'\\nEntered string {check_binary_string} is NOT a BINARY STRING')"
   ]
  },
  {
   "cell_type": "markdown",
   "id": "aecc0596",
   "metadata": {},
   "source": [
    "#### Using Regular Expressions"
   ]
  },
  {
   "cell_type": "code",
   "execution_count": 38,
   "id": "dbf87ba4",
   "metadata": {},
   "outputs": [
    {
     "name": "stdout",
     "output_type": "stream",
     "text": [
      "Enter the desired string: hldhfjl210200011100\n",
      "\n",
      "Entered string hldhfjl210200011100 is NOT a BINARY STRING\n"
     ]
    }
   ],
   "source": [
    "import re\n",
    "\n",
    "check_binary_string_re = input('Enter the desired string: ')\n",
    "\n",
    "flag = False\n",
    "\n",
    "for i in check_binary_string_re:\n",
    "    if re.search('[0-1]',i):\n",
    "        flag = True\n",
    "    else:\n",
    "        flag = False\n",
    "        break\n",
    "\n",
    "if flag:\n",
    "    print(f'\\nEntered string {check_binary_string_re} is a BINARY STRING')\n",
    "else:\n",
    "    print(f'\\nEntered string {check_binary_string_re} is NOT a BINARY STRING')\n"
   ]
  },
  {
   "cell_type": "markdown",
   "id": "04bbcc28",
   "metadata": {},
   "source": [
    "# Question 5: Python program to find uncommon words from two Strings"
   ]
  },
  {
   "cell_type": "code",
   "execution_count": 46,
   "id": "d90c2c95",
   "metadata": {},
   "outputs": [
    {
     "name": "stdout",
     "output_type": "stream",
     "text": [
      "List of uncommon words between sentences\n",
      "\n",
      "This is 11th Assignment of ineuron's Python Basic Programming!!!\n",
      "\n",
      "and\n",
      "\n",
      "ineuron's 11th Assignment is all about String Operations\n",
      "\n",
      "['This', 'of', 'Python', 'Basic', 'Programming!!!', 'all', 'about', 'String', 'Operations']\n"
     ]
    }
   ],
   "source": [
    "string_assignment = \"This is 11th Assignment of ineuron's Python Basic Programming!!!\"\n",
    "\n",
    "new_string_assignment = \"ineuron's 11th Assignment is all about String Operations\"\n",
    "\n",
    "new_string_assignment_words = new_string_assignment.split()\n",
    "string_assignment_words = string_assignment.split()\n",
    "\n",
    "\n",
    "uncommon_words = []\n",
    "\n",
    "for word in string_assignment_words:\n",
    "    if word not in new_string_assignment:\n",
    "        uncommon_words.append(word)\n",
    "        \n",
    "\n",
    "for word in new_string_assignment_words:\n",
    "    if word not in string_assignment:\n",
    "        uncommon_words.append(word)\n",
    "        \n",
    "print(f'List of uncommon words between sentences\\n\\n{string_assignment}\\n\\nand\\n\\n{new_string_assignment}\\n\\n{uncommon_words}')"
   ]
  },
  {
   "cell_type": "markdown",
   "id": "67152147",
   "metadata": {},
   "source": [
    "# Question 6: Python program to find all DUPLICATE characters in a string"
   ]
  },
  {
   "cell_type": "code",
   "execution_count": 48,
   "id": "6be8bec0",
   "metadata": {},
   "outputs": [
    {
     "name": "stdout",
     "output_type": "stream",
     "text": [
      "List of duplicate characters in the string \"aaahdfuorhoire666uuu!@###$\" is \n",
      "\n",
      "{'a', '#', 'o', 'h', 'u', 'r', '6'}\n"
     ]
    }
   ],
   "source": [
    "string_duplicate_characters = 'aaahdfuorhoire666uuu!@###$'\n",
    "\n",
    "duplicate_characters = set()\n",
    "\n",
    "for character in string_duplicate_characters:\n",
    "    if string_duplicate_characters.count(character) > 1:\n",
    "        duplicate_characters.add(character)\n",
    "        \n",
    "print(f'List of duplicate characters in the string \"{string_duplicate_characters}\" is \\n\\n{duplicate_characters}')"
   ]
  },
  {
   "cell_type": "markdown",
   "id": "8a914779",
   "metadata": {},
   "source": [
    "# Question 7: Python Program to check if a string contains any special character"
   ]
  },
  {
   "cell_type": "code",
   "execution_count": 2,
   "id": "2f24c638",
   "metadata": {},
   "outputs": [
    {
     "name": "stdout",
     "output_type": "stream",
     "text": [
      "Enter a string: @ Hello\n",
      "Entered string has a special character\n"
     ]
    }
   ],
   "source": [
    "# Using Regular Expressions\n",
    "\n",
    "import re\n",
    "\n",
    "string_special_check = input('Enter a string: ')\n",
    "\n",
    "if re.match('\\W',string_special_check):\n",
    "    print('Entered string has a special character')\n",
    "else:\n",
    "    print('Enteres string does not have a special character')"
   ]
  }
 ],
 "metadata": {
  "kernelspec": {
   "display_name": "Python 3",
   "language": "python",
   "name": "python3"
  },
  "language_info": {
   "codemirror_mode": {
    "name": "ipython",
    "version": 3
   },
   "file_extension": ".py",
   "mimetype": "text/x-python",
   "name": "python",
   "nbconvert_exporter": "python",
   "pygments_lexer": "ipython3",
   "version": "3.8.8"
  }
 },
 "nbformat": 4,
 "nbformat_minor": 5
}
