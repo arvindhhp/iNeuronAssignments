{
 "cells": [
  {
   "cell_type": "markdown",
   "metadata": {},
   "source": [
    "## Question 1: Python Program to calculate the Factorial of a Number"
   ]
  },
  {
   "cell_type": "code",
   "execution_count": 1,
   "metadata": {},
   "outputs": [
    {
     "name": "stdout",
     "output_type": "stream",
     "text": [
      "Enter the desired number: 7\n",
      "\n",
      "Factorial of 7 is 5040\n"
     ]
    }
   ],
   "source": [
    "num = int(input('Enter the desired number: '))\n",
    "\n",
    "factorial=1\n",
    "\n",
    "if num == 0 or num == 1:\n",
    "    factorial=1\n",
    "\n",
    "elif num >1:\n",
    "    for i in range(1,num+1):\n",
    "        factorial*=(i)\n",
    "        \n",
    "else:\n",
    "    factorial=0\n",
    "    \n",
    "if factorial:\n",
    "    print(f'\\nFactorial of {num} is {factorial}')\n",
    "else:\n",
    "    print(f'{num} does not have a factorial')"
   ]
  },
  {
   "cell_type": "markdown",
   "metadata": {},
   "source": [
    "## Question 2: Python Program to display Multiplication Table"
   ]
  },
  {
   "cell_type": "code",
   "execution_count": 2,
   "metadata": {},
   "outputs": [
    {
     "name": "stdout",
     "output_type": "stream",
     "text": [
      "Enter the desired number: 9\n",
      "\n",
      "Multiplication Table for 9 is as follows:\n",
      "9 * 1 = 9\n",
      "9 * 2 = 18\n",
      "9 * 3 = 27\n",
      "9 * 4 = 36\n",
      "9 * 5 = 45\n",
      "9 * 6 = 54\n",
      "9 * 7 = 63\n",
      "9 * 8 = 72\n",
      "9 * 9 = 81\n",
      "9 * 10 = 90\n"
     ]
    }
   ],
   "source": [
    "#Write Multiplication Table till 10th multiple\n",
    "\n",
    "num = int(input('Enter the desired number: '))\n",
    "\n",
    "print(f'\\nMultiplication Table for {num} is as follows:')\n",
    "\n",
    "for i in range(1,11):\n",
    "    print(f'{num} * {i} = {num*i}')"
   ]
  },
  {
   "cell_type": "markdown",
   "metadata": {},
   "source": [
    "## Question 3: Python Program to generate a Fibonacci sequence"
   ]
  },
  {
   "cell_type": "code",
   "execution_count": 3,
   "metadata": {},
   "outputs": [
    {
     "name": "stdout",
     "output_type": "stream",
     "text": [
      "Enter the desired number: 13\n",
      "\n",
      "First 13 numbers of the Fibonacci Sequence are as follows:\n",
      "\n",
      "[0, 1, 1, 2, 3, 5, 8, 13, 21, 34, 55, 89, 144]\n"
     ]
    }
   ],
   "source": [
    "num = int(input('Enter the desired number: '))\n",
    "\n",
    "print(f'\\nFirst {num} numbers of the Fibonacci Sequence are as follows:')\n",
    "\n",
    "fibo_series=[0,1]\n",
    "\n",
    "for i in range(num-2):\n",
    "        temp=fibo_series[-1]+fibo_series[-2]\n",
    "        fibo_series.append(temp)    \n",
    "    \n",
    "print(f'\\n{fibo_series}')"
   ]
  },
  {
   "cell_type": "markdown",
   "metadata": {},
   "source": [
    "## Question 4: Python Program to check Armstrong Number"
   ]
  },
  {
   "cell_type": "code",
   "execution_count": 4,
   "metadata": {},
   "outputs": [
    {
     "name": "stdout",
     "output_type": "stream",
     "text": [
      "Enter the number to be checked for Armstrong: 407\n",
      "Enter the order of Armstrong number to be checked: 3\n",
      "\n",
      "407 is an Armstrong Number of order 3\n"
     ]
    }
   ],
   "source": [
    "num = int(input('Enter the number to be checked for Armstrong: '))\n",
    "order = int(input('Enter the order of Armstrong number to be checked: '))\n",
    "\n",
    "armstrong = 0\n",
    "temp_num=num\n",
    "\n",
    "while temp_num !=0:\n",
    "    temp = temp_num % 10\n",
    "    armstrong+=(temp**order)\n",
    "    temp_num=int(temp_num/10)\n",
    "    \n",
    "if armstrong == num:\n",
    "    print(f'\\n{num} is an Armstrong Number of order {order}')\n",
    "else:\n",
    "    print(f'\\n{num} is not an Armstrong Number of order {order}')"
   ]
  },
  {
   "cell_type": "markdown",
   "metadata": {},
   "source": [
    "## Question 5: Python Program to find Armstrong Numbers in a given interval"
   ]
  },
  {
   "cell_type": "code",
   "execution_count": 5,
   "metadata": {},
   "outputs": [
    {
     "name": "stdout",
     "output_type": "stream",
     "text": [
      "Enter the range of numbers to be checked for Armstrong separated by a WHITESPACE: 1 1500\n",
      "Enter the order of Armstrong number to be checked: 3\n",
      "\n",
      "The list of Armstrong numbers between 1 and 1500 are:\n",
      "[1, 153, 370, 371, 407]\n"
     ]
    }
   ],
   "source": [
    "num1,num2 = input('Enter the range of numbers to be checked for Armstrong separated by a WHITESPACE: ').split()\n",
    "order = int(input('Enter the order of Armstrong number to be checked: '))\n",
    "\n",
    "num1,num2 = int(num1), int(num2)\n",
    "\n",
    "list_arm=[]\n",
    "\n",
    "for temp_num in range(num1,num2+1):\n",
    "    \n",
    "    armstrong = 0\n",
    "    temp_arm=temp_num\n",
    "\n",
    "    while temp_num !=0:\n",
    "        temp = temp_num % 10\n",
    "        armstrong+=(temp**order)\n",
    "        temp_num=int(temp_num/10)\n",
    "\n",
    "    if armstrong == temp_arm:\n",
    "        list_arm.append(temp_arm)\n",
    "    else:\n",
    "        pass\n",
    "\n",
    "print(f'\\nThe list of Armstrong numbers between {num1} and {num2} are:\\n{list_arm}')\n"
   ]
  },
  {
   "cell_type": "markdown",
   "metadata": {},
   "source": [
    "## Question 6: Python Program to find sum of natural numbers"
   ]
  },
  {
   "cell_type": "code",
   "execution_count": 6,
   "metadata": {},
   "outputs": [
    {
     "name": "stdout",
     "output_type": "stream",
     "text": [
      "Enter the target natural number: 15\n",
      "\n",
      "Sum of Natural Numbers till 15 is 120\n"
     ]
    }
   ],
   "source": [
    "num = int(input('Enter the target natural number: '))\n",
    "\n",
    "sum_num=0\n",
    "\n",
    "if num == 1:\n",
    "    sum_num = 1\n",
    "\n",
    "elif num >1:\n",
    "    for i in range(1,num+1):\n",
    "        sum_num+=(i)\n",
    "        \n",
    "else:\n",
    "    sum_num=0\n",
    "    \n",
    "if sum_num:\n",
    "    print(f'\\nSum of Natural Numbers till {num} is {sum_num}')\n",
    "else:\n",
    "    print(f'{num} is not a natural number')"
   ]
  }
 ],
 "metadata": {
  "kernelspec": {
   "display_name": "Python 3",
   "language": "python",
   "name": "python3"
  },
  "language_info": {
   "codemirror_mode": {
    "name": "ipython",
    "version": 3
   },
   "file_extension": ".py",
   "mimetype": "text/x-python",
   "name": "python",
   "nbconvert_exporter": "python",
   "pygments_lexer": "ipython3",
   "version": "3.7.6"
  }
 },
 "nbformat": 4,
 "nbformat_minor": 4
}
