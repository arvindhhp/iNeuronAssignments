{
 "cells": [
  {
   "cell_type": "code",
   "execution_count": 1,
   "id": "c33b0ad7",
   "metadata": {},
   "outputs": [],
   "source": [
    "#Common dictionary for this assignment\n",
    "\n",
    "rollsroyce_xwb = {'LPC_Stages':1, 'IPC_Stages':8,'HPC_Stages':6,'LPT_Stages':6, 'IPT_Stages':2,'HPT_Stages':1}\n",
    "\n",
    "xwb_details = {'Spools' : 3, 'weight_kg' : 7200, 'max_thrust_lbf' : 84000}"
   ]
  },
  {
   "cell_type": "markdown",
   "id": "a5d0e673",
   "metadata": {},
   "source": [
    "# Question 1: Python program to Extract Unique values from dictionary values"
   ]
  },
  {
   "cell_type": "code",
   "execution_count": 2,
   "id": "74dba7fe",
   "metadata": {},
   "outputs": [
    {
     "name": "stdout",
     "output_type": "stream",
     "text": [
      "The dictionary is : {'LPC_Stages': 1, 'IPC_Stages': 8, 'HPC_Stages': 6, 'LPT_Stages': 6, 'IPT_Stages': 2, 'HPT_Stages': 1}\n",
      "\n",
      "\n",
      "Unique values in this dictionary are : [1, 8, 6, 2]\n"
     ]
    }
   ],
   "source": [
    "unique = []\n",
    "\n",
    "for val in rollsroyce_xwb.values():\n",
    "    if val not in unique:\n",
    "        unique.append(val)\n",
    "\n",
    "print(f'The dictionary is : {rollsroyce_xwb}\\n\\n')\n",
    "print(f'Unique values in this dictionary are : {unique}')"
   ]
  },
  {
   "cell_type": "markdown",
   "id": "be423fa9",
   "metadata": {},
   "source": [
    "# Question 2: Python program to find the sum of all items in a dictionary"
   ]
  },
  {
   "cell_type": "code",
   "execution_count": 3,
   "id": "11f8c3e5",
   "metadata": {},
   "outputs": [
    {
     "name": "stdout",
     "output_type": "stream",
     "text": [
      "The dictionary is : {'LPC_Stages': 1, 'IPC_Stages': 8, 'HPC_Stages': 6, 'LPT_Stages': 6, 'IPT_Stages': 2, 'HPT_Stages': 1}\n",
      "\n",
      "\n",
      "Sum of the values in this dictionary are : 24\n"
     ]
    }
   ],
   "source": [
    "val_sum = 0\n",
    "\n",
    "for val in rollsroyce_xwb.values():\n",
    "    if type(val) == int or type(val) == float:\n",
    "        val_sum += val\n",
    "        \n",
    "print(f'The dictionary is : {rollsroyce_xwb}\\n\\n')\n",
    "print(f'Sum of the values in this dictionary are : {val_sum}')"
   ]
  },
  {
   "cell_type": "markdown",
   "id": "13a8ed32",
   "metadata": {},
   "source": [
    "# Question 3: Python program to Merging two Dictionaries"
   ]
  },
  {
   "cell_type": "code",
   "execution_count": 4,
   "id": "8f53b972",
   "metadata": {},
   "outputs": [
    {
     "name": "stdout",
     "output_type": "stream",
     "text": [
      "Original rollsroyce_xwb dictionary is : \n",
      "{'LPC_Stages': 1, 'IPC_Stages': 8, 'HPC_Stages': 6, 'LPT_Stages': 6, 'IPT_Stages': 2, 'HPT_Stages': 1}\n",
      "\n",
      "Original xwb_details dictionary is : \n",
      "{'Spools': 3, 'weight_kg': 7200, 'max_thrust_lbf': 84000}\n",
      "\n",
      "\n",
      "Merged rollsroyce_xwb dictionary is : \n",
      "{'LPC_Stages': 1, 'IPC_Stages': 8, 'HPC_Stages': 6, 'LPT_Stages': 6, 'IPT_Stages': 2, 'HPT_Stages': 1, 'Spools': 3, 'weight_kg': 7200, 'max_thrust_lbf': 84000}\n"
     ]
    }
   ],
   "source": [
    "#Merging xwb_details with rollsroyce_xwb\n",
    "\n",
    "print(f'Original rollsroyce_xwb dictionary is : \\n{rollsroyce_xwb}')\n",
    "print(f'\\nOriginal xwb_details dictionary is : \\n{xwb_details}')\n",
    "            \n",
    "for key in xwb_details:\n",
    "    rollsroyce_xwb[key] = xwb_details[key]\n",
    "\n",
    "print(f'\\n\\nMerged rollsroyce_xwb dictionary is : \\n{rollsroyce_xwb}')"
   ]
  },
  {
   "cell_type": "markdown",
   "id": "ad19a3cf",
   "metadata": {},
   "source": [
    "# Question 4: Python program to convert key-values list to flat dictionary"
   ]
  },
  {
   "cell_type": "markdown",
   "id": "a4463988",
   "metadata": {},
   "source": [
    "#### Using Recursion"
   ]
  },
  {
   "cell_type": "code",
   "execution_count": 5,
   "id": "f02acc35",
   "metadata": {},
   "outputs": [
    {
     "name": "stdout",
     "output_type": "stream",
     "text": [
      "Nested Dictionary is \n",
      "\n",
      "{'a': {'b': {'c': 1}}, 'd': {'e': {'f': 2}}, 'g': {'h': {'i': 3}}}\n",
      "\n",
      "\n",
      "Falttened dictionary is \n",
      "\n",
      "{'a_b_c': 1, 'd_e_f': 2, 'g_h_i': 3}\n"
     ]
    }
   ],
   "source": [
    "nested_dict = {'a':{'b':{'c':1}},'d':{'e':{'f':2}}, 'g':{'h':{'i':3}}}\n",
    "\n",
    "def flatten_dict(dic, flat_dict_key,flat_dict = {}):\n",
    "    for key,val in dic.items():      \n",
    "        if type(val) == dict:\n",
    "            flat_dict_key += key +'_'\n",
    "            x = flatten_dict(val,flat_dict_key, flat_dict)\n",
    "            if type(val.values()) != dict:\n",
    "                flat_dict_key = ''\n",
    "        else:\n",
    "            return_string = flat_dict_key[:] + key\n",
    "            flat_dict[return_string] = val\n",
    "        \n",
    "    return flat_dict\n",
    "\n",
    "print(f'Nested Dictionary is \\n\\n{nested_dict}')\n",
    "print(f'\\n\\nFalttened dictionary is \\n\\n{flatten_dict(nested_dict,\"\")}')"
   ]
  },
  {
   "cell_type": "markdown",
   "id": "3d659ff0",
   "metadata": {},
   "source": [
    "# Question 5: Python program to insertion at the beginning in OrderedDict"
   ]
  },
  {
   "cell_type": "code",
   "execution_count": 6,
   "id": "97188a66",
   "metadata": {},
   "outputs": [
    {
     "name": "stdout",
     "output_type": "stream",
     "text": [
      "Updated Ordered Dictionary with Insertion at the start:\n",
      "\n",
      "OrderedDict([('Thrust', 84000), ('LPC_Stages', 1), ('IPC_Stages', 8), ('HPC_Stages', 6)])\n"
     ]
    }
   ],
   "source": [
    "from collections import OrderedDict\n",
    "\n",
    "trent_xwb = OrderedDict(LPC_Stages = 1, IPC_Stages = 8, HPC_Stages = 6)\n",
    "\n",
    "#Addition of a new element\n",
    "trent_xwb['Thrust'] = 84000\n",
    "\n",
    "#Moving the last element to the first position\n",
    "trent_xwb.move_to_end('Thrust' , last = False)\n",
    "\n",
    "print(f'Updated Ordered Dictionary with Insertion at the start:\\n\\n{trent_xwb}')"
   ]
  },
  {
   "cell_type": "markdown",
   "id": "4044a8d4",
   "metadata": {},
   "source": [
    "# Question 6: Python program to check order of character in string using OrderedDict()"
   ]
  },
  {
   "cell_type": "code",
   "execution_count": 7,
   "id": "45dc0063",
   "metadata": {},
   "outputs": [
    {
     "name": "stdout",
     "output_type": "stream",
     "text": [
      "Enter the desired string to be checked: aeronautical\n",
      "Enter the pattern to be checked: arl\n",
      "\n",
      "\n",
      "Pattern match : Succeeded\n"
     ]
    }
   ],
   "source": [
    "#Since using Ordered Dict, all the repeated characters in the input string will be replaced with single repetition\n",
    "\n",
    "def checkOrder(input_, pattern): \n",
    "      \n",
    "    # create empty OrderedDict \n",
    "    # output will be like {'a': None,'b': None, 'c': None} \n",
    "    dict = OrderedDict.fromkeys(input_) \n",
    "  \n",
    "    # traverse generated OrderedDict parallel with \n",
    "    # pattern string to check if order of characters \n",
    "    # are same or not \n",
    "    ptrlen = 0\n",
    "    for key,value in dict.items(): \n",
    "        if (key == pattern[ptrlen]): \n",
    "            ptrlen = ptrlen + 1\n",
    "          \n",
    "        # check if we have traverse complete \n",
    "        # pattern string \n",
    "        if (ptrlen == (len(pattern))): \n",
    "            return True\n",
    "  \n",
    "    # if we come out from for loop that means \n",
    "    # order was mismatched \n",
    "    return False\n",
    "  \n",
    "# Driver program \n",
    "input_ = input('Enter the desired string to be checked: ')\n",
    "pattern = input('Enter the pattern to be checked: ')\n",
    "\n",
    "if checkOrder(input_,pattern):\n",
    "    print('\\n\\nPattern match : Succeeded')\n",
    "else:\n",
    "    print('\\n\\nPattern match : Failed')"
   ]
  },
  {
   "cell_type": "markdown",
   "id": "637d9084",
   "metadata": {},
   "source": [
    "# Question 7: Python program to sort Python Dictionaries by Key or Value"
   ]
  },
  {
   "cell_type": "code",
   "execution_count": 8,
   "id": "47d4bda7",
   "metadata": {},
   "outputs": [
    {
     "name": "stdout",
     "output_type": "stream",
     "text": [
      "Enter the sorting type (key or value) : value\n",
      "Value Sorted dictionary is:\n",
      "\n",
      "OrderedDict([('LPC_Stages', 1), ('HPC_Stages', 6), ('IPC_Stages', 8), ('Thrust', 84000)])\n"
     ]
    }
   ],
   "source": [
    "def sort_keys(input_dict):\n",
    "    for key,values in sorted(input_dict.items()):\n",
    "        input_dict.move_to_end(key)\n",
    "    \n",
    "    return input_dict\n",
    "\n",
    "def sort_values(input_dict):\n",
    "    for key,values in sorted(input_dict.items(), key = lambda item : item[1]):\n",
    "        input_dict.move_to_end(key)\n",
    "    \n",
    "    return input_dict\n",
    "\n",
    "sort = input('Enter the sorting type (key or value) : ')\n",
    "\n",
    "if sort == 'key':\n",
    "    print(f'Key Sorted dictionary is:\\n\\n{sort_keys(trent_xwb)}')\n",
    "elif sort == 'value':\n",
    "    print(f'Value Sorted dictionary is:\\n\\n{sort_values(trent_xwb)}')"
   ]
  }
 ],
 "metadata": {
  "kernelspec": {
   "display_name": "Python 3",
   "language": "python",
   "name": "python3"
  },
  "language_info": {
   "codemirror_mode": {
    "name": "ipython",
    "version": 3
   },
   "file_extension": ".py",
   "mimetype": "text/x-python",
   "name": "python",
   "nbconvert_exporter": "python",
   "pygments_lexer": "ipython3",
   "version": "3.8.8"
  }
 },
 "nbformat": 4,
 "nbformat_minor": 5
}
