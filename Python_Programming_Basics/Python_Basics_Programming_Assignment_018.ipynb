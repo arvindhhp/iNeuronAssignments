{
 "cells": [
  {
   "cell_type": "markdown",
   "id": "0b44d43c",
   "metadata": {},
   "source": [
    "# Question 1:\n",
    "\n",
    "### Create a function that takes a list of non-negative integers and strings and return a new list without the strings."
   ]
  },
  {
   "cell_type": "code",
   "execution_count": 1,
   "id": "d7329fc8",
   "metadata": {},
   "outputs": [
    {
     "name": "stdout",
     "output_type": "stream",
     "text": [
      "Original String is [1, 2, 'a', 'b'], String removed list : [1, 2]\n",
      "\n",
      "Original String is [1, 'a', 'b', 0, 15], String removed list : [1, 0, 15]\n",
      "\n",
      "Original String is [1, 2, 'aasf', '1', '123', 123], String removed list : [1, 2, 123]\n",
      "\n"
     ]
    }
   ],
   "source": [
    "def remove_str(lst):\n",
    "    \n",
    "    str_set = set()\n",
    "    for ele in lst:\n",
    "        if type(ele) is str:\n",
    "            str_set.add(ele)\n",
    "    \n",
    "    for ele in str_set:\n",
    "        lst.remove(ele)\n",
    "        \n",
    "    return lst\n",
    "\n",
    "orig_lists = [[1, 2, 'a', 'b'], [1, 'a', 'b', 0, 15], [1, 2, 'aasf', '1', '123', 123]]\n",
    "\n",
    "for lst in orig_lists:\n",
    "    print(f'Original String is {lst}, String removed list : {remove_str(lst)}\\n')"
   ]
  },
  {
   "cell_type": "markdown",
   "id": "64a88055",
   "metadata": {},
   "source": [
    "# Question 2:\n",
    "\n",
    "### The &quot;Reverser&quot; takes a string as input and returns that string in reverse order, with the opposite case."
   ]
  },
  {
   "cell_type": "code",
   "execution_count": 2,
   "id": "bf4c1acf",
   "metadata": {},
   "outputs": [
    {
     "name": "stdout",
     "output_type": "stream",
     "text": [
      "Original string is Hello World, Reversed String is: DLROw OLLEh\n",
      "\n",
      "Original string is ReVeRsE, Reversed String is: eSrEvEr\n",
      "\n",
      "Original string is Radar, Reversed String is: RADAr\n",
      "\n"
     ]
    }
   ],
   "source": [
    "def Reverser(str):\n",
    "    \n",
    "    str_case = ''\n",
    "    temp = ''\n",
    "    \n",
    "    for i in str:\n",
    "        if i.isupper():\n",
    "            str_case+=i.lower()\n",
    "            \n",
    "        elif i.islower():\n",
    "            str_case+=i.upper()\n",
    "        \n",
    "        else:\n",
    "            str_case+=i\n",
    "            \n",
    "    rev_str = str_case[::-1]\n",
    "    \n",
    "    return rev_str\n",
    "\n",
    "strings = ['Hello World', 'ReVeRsE', 'Radar']\n",
    "\n",
    "for string in strings:\n",
    "    print(f'Original string is {string}, Reversed String is: {Reverser(string)}\\n')"
   ]
  },
  {
   "cell_type": "markdown",
   "id": "2344eea6",
   "metadata": {},
   "source": [
    "# Question 3:\n",
    "\n",
    "### With Python 3, you can assign variables from lists in a much more succinct way. Create variables first, middle and last from the given list using destructuring assignment. Your task is to unpack the list writeyourcodehere into three variables, being first, middle, and last, with middle being everything in between the first and last element. Then print all three variables."
   ]
  },
  {
   "cell_type": "code",
   "execution_count": 3,
   "id": "e493f3df",
   "metadata": {},
   "outputs": [
    {
     "name": "stdout",
     "output_type": "stream",
     "text": [
      "Enter the iterable: 1 2 3 4 5 6\n",
      "\n",
      "Entered iterable is ['1', '2', '3', '4', '5', '6']\n",
      "\n",
      "Unpacked values are: first : 1, middle : ['2', '3', '4', '5'], last : 6\n"
     ]
    }
   ],
   "source": [
    "def unpack(iterable):\n",
    "    first, *middle, last = iterable\n",
    "    return first, middle, last\n",
    "\n",
    "iterable = input('Enter the iterable: ').split()\n",
    "\n",
    "print(f'\\nEntered iterable is {iterable}')\n",
    "\n",
    "first, middle, last = unpack(iterable)\n",
    "\n",
    "print(f'\\nUnpacked values are: first : {first}, middle : {middle}, last : {last}')"
   ]
  },
  {
   "cell_type": "markdown",
   "id": "6c92096a",
   "metadata": {},
   "source": [
    "# Question 4:\n",
    "\n",
    "### Write a function that calculates the factorial of a number recursively."
   ]
  },
  {
   "cell_type": "code",
   "execution_count": 4,
   "id": "6712cd1c",
   "metadata": {},
   "outputs": [
    {
     "name": "stdout",
     "output_type": "stream",
     "text": [
      "Enter the desired number: 5\n",
      "\n",
      "Factorial of 5 is : 120\n"
     ]
    }
   ],
   "source": [
    "def factorial(num):\n",
    "    if num == 1 or num == 0:\n",
    "        return 1\n",
    "    else:\n",
    "        return num*factorial(num-1)\n",
    "    \n",
    "number = int(input('Enter the desired number: '))\n",
    "\n",
    "print(f'\\nFactorial of {number} is : {factorial(number)}')"
   ]
  },
  {
   "cell_type": "markdown",
   "id": "15a96537",
   "metadata": {},
   "source": [
    "# Question 5:\n",
    "\n",
    "### Write a function that moves all elements of one type to the end of the list."
   ]
  },
  {
   "cell_type": "code",
   "execution_count": 16,
   "id": "294c9531",
   "metadata": {},
   "outputs": [
    {
     "name": "stdout",
     "output_type": "stream",
     "text": [
      "Enter the iterable: a a a b\n",
      "Enter the element to be moved: a\n",
      "Modified iterable is : ['b', 'a', 'a', 'a']\n"
     ]
    }
   ],
   "source": [
    "def move_ele(lst, element):\n",
    "    count = lst.count(element)\n",
    "    lst = [k for k in lst if k != element]\n",
    "    \n",
    "    for _ in range(count):\n",
    "        lst.append(element)\n",
    "    \n",
    "    return lst\n",
    "\n",
    "lst = input('Enter the iterable: ').split()\n",
    "element = input('Enter the element to be moved: ')\n",
    "\n",
    "print(f'Modified iterable is : {move_ele(lst,element)}')"
   ]
  }
 ],
 "metadata": {
  "kernelspec": {
   "display_name": "Python 3",
   "language": "python",
   "name": "python3"
  },
  "language_info": {
   "codemirror_mode": {
    "name": "ipython",
    "version": 3
   },
   "file_extension": ".py",
   "mimetype": "text/x-python",
   "name": "python",
   "nbconvert_exporter": "python",
   "pygments_lexer": "ipython3",
   "version": "3.8.8"
  }
 },
 "nbformat": 4,
 "nbformat_minor": 5
}
