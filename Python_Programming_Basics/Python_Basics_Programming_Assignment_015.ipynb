{
 "cells": [
  {
   "cell_type": "markdown",
   "id": "68e0358f",
   "metadata": {},
   "source": [
    "# Question 1:\n",
    "\n",
    "Please write a program using generator to print the numbers which can be divisible by 5 and 7 between 0 and n in comma separated form while n is input by console."
   ]
  },
  {
   "cell_type": "code",
   "execution_count": 7,
   "id": "9b65f316",
   "metadata": {},
   "outputs": [
    {
     "name": "stdout",
     "output_type": "stream",
     "text": [
      "Enter the max number: 100\n",
      "0,35,70,"
     ]
    }
   ],
   "source": [
    "def div_5nd7_(n):\n",
    "    for i in range(n):\n",
    "        if i%5 == 0 and i%7 == 0:\n",
    "            yield i\n",
    "            \n",
    "n = int(input('Enter the max number: '))\n",
    "func = div_5nd7_(n)\n",
    "\n",
    "for multiples in func:\n",
    "    print(multiples, end=',')"
   ]
  },
  {
   "cell_type": "markdown",
   "id": "500e06c5",
   "metadata": {},
   "source": [
    "# Question 2:\n",
    "\n",
    "Please write a program using generator to print the even numbers between 0 and n in comma separated form while n is input by console."
   ]
  },
  {
   "cell_type": "code",
   "execution_count": 9,
   "id": "af9ba567",
   "metadata": {},
   "outputs": [
    {
     "name": "stdout",
     "output_type": "stream",
     "text": [
      "Enter the max number: 10\n",
      "0,2,4,6,8,10,"
     ]
    }
   ],
   "source": [
    "def even(n):\n",
    "    for i in range(n+1):\n",
    "        if i%2 == 0:\n",
    "            yield i\n",
    "            \n",
    "n = int(input('Enter the max number: '))\n",
    "func = even(n)\n",
    "\n",
    "for multiples in func:\n",
    "    print(multiples, end=',')"
   ]
  },
  {
   "cell_type": "markdown",
   "id": "f26245e1",
   "metadata": {},
   "source": [
    "# Question 3:\n",
    "\n",
    "The Fibonacci Sequence is computed based on the following formula:\n",
    "f(n)=0 if n=0\n",
    "f(n)=1 if n=1\n",
    "\n",
    "Else\n",
    "f(n)=f(n-1)+f(n-2)\n",
    "\n",
    "Please write a program using list comprehension to print the Fibonacci Sequence in comma separated form with a given n input by console."
   ]
  },
  {
   "cell_type": "code",
   "execution_count": 17,
   "id": "90dc73fa",
   "metadata": {},
   "outputs": [
    {
     "name": "stdout",
     "output_type": "stream",
     "text": [
      "Enter the maximum index of the fibonacci series: 7\n",
      "0,1,1,2,3,5,8,13,"
     ]
    }
   ],
   "source": [
    "def fibo(n):\n",
    "    if n in [0,1]:\n",
    "        return n\n",
    "    else:\n",
    "        return fibo(n-1)+fibo(n-2)\n",
    "\n",
    "\n",
    "max_index = int(input('Enter the maximum index of the fibonacci series: '))\n",
    "fibo_seq = [fibo(i) for i in range(max_index + 1)]\n",
    "\n",
    "for element in fibo_seq:\n",
    "    print(element, end=',')"
   ]
  },
  {
   "cell_type": "markdown",
   "id": "bf888fe6",
   "metadata": {},
   "source": [
    "# Question 4:\n",
    "\n",
    "Assuming that we have some email addresses in the &quot;username@companyname.com&quot; format, please write program to print the user name of a given email address. Both user names and company names are composed of letters only."
   ]
  },
  {
   "cell_type": "code",
   "execution_count": 4,
   "id": "4f1138c1",
   "metadata": {},
   "outputs": [
    {
     "name": "stdout",
     "output_type": "stream",
     "text": [
      "Enter the email ID with the domain: john@google.com\n",
      "User Name is : john\n"
     ]
    }
   ],
   "source": [
    "#Function to extract the usernmae from email ID\n",
    "\n",
    "import re\n",
    "\n",
    "def username(email):\n",
    "    return re.findall('.*@',email)[0][:-1]\n",
    "\n",
    "email = input('Enter the email ID with the domain: ')\n",
    "print(f'User Name is : {username(email)}')"
   ]
  },
  {
   "cell_type": "markdown",
   "id": "5bbd737e",
   "metadata": {},
   "source": [
    "# Question 5:\n",
    "\n",
    "Define a class named Shape and its subclass Square. The Square class has an init function which takes a length as argument. Both classes have a area function which can print the area of the shape where Shape&#39;s area is 0 by default."
   ]
  },
  {
   "cell_type": "code",
   "execution_count": 16,
   "id": "a97e7202",
   "metadata": {},
   "outputs": [
    {
     "name": "stdout",
     "output_type": "stream",
     "text": [
      "Default Area of the shape is : 0\n",
      "Area of the Square is : 25\n"
     ]
    }
   ],
   "source": [
    "class Shape:\n",
    "    \n",
    "    def __init__(self):\n",
    "        self.ar = self.area()\n",
    "        \n",
    "    def area(self):\n",
    "        return 0\n",
    "\n",
    "class Square(Shape):\n",
    "    \n",
    "    def __init__(self, length):\n",
    "        self.length = length\n",
    "        super().__init__()\n",
    "    \n",
    "    def area(self):\n",
    "        return self.length**2\n",
    "    \n",
    "shape_instance = Shape()\n",
    "squar_instance = Square(5)\n",
    "\n",
    "print(f'Default Area of the shape is : {shape_instance.ar}')\n",
    "print(f'Area of the Square is : {squar_instance.ar}')"
   ]
  }
 ],
 "metadata": {
  "kernelspec": {
   "display_name": "Python 3",
   "language": "python",
   "name": "python3"
  },
  "language_info": {
   "codemirror_mode": {
    "name": "ipython",
    "version": 3
   },
   "file_extension": ".py",
   "mimetype": "text/x-python",
   "name": "python",
   "nbconvert_exporter": "python",
   "pygments_lexer": "ipython3",
   "version": "3.8.8"
  }
 },
 "nbformat": 4,
 "nbformat_minor": 5
}
