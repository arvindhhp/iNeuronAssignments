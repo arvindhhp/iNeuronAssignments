{
 "cells": [
  {
   "cell_type": "markdown",
   "id": "a578ccd4",
   "metadata": {},
   "source": [
    "# Question 1: Python Program to find SUM of an Array"
   ]
  },
  {
   "cell_type": "code",
   "execution_count": 5,
   "id": "cef0d6ef",
   "metadata": {},
   "outputs": [
    {
     "name": "stdout",
     "output_type": "stream",
     "text": [
      "Enter the number of elements in the array: 5\n",
      "Enter the 0th element: 1\n",
      "Enter the 1th element: 2\n",
      "Enter the 2th element: 3\n",
      "Enter the 3th element: 4\n",
      "Enter the 4th element: 5\n",
      "\n",
      "Entered array is [1, 2, 3, 4, 5]\n",
      "\n",
      "Sum of the elements is 15\n"
     ]
    }
   ],
   "source": [
    "array = []\n",
    "\n",
    "num_elements = int(input('Enter the number of elements in the array: '))\n",
    "\n",
    "for i in range(num_elements):\n",
    "    array.append(int(input(f'Enter the {i}th element: ')))\n",
    "    \n",
    "print(f'\\nEntered array is {array}')\n",
    "print(f'\\nSum of the elements is {sum(array)}')"
   ]
  },
  {
   "cell_type": "markdown",
   "id": "3f90f228",
   "metadata": {},
   "source": [
    "# Question 2: Python Program to find the GREATEST ELEMENT of an Array"
   ]
  },
  {
   "cell_type": "code",
   "execution_count": 7,
   "id": "81db999b",
   "metadata": {},
   "outputs": [
    {
     "name": "stdout",
     "output_type": "stream",
     "text": [
      "Enter the number of elements in the array: 7\n",
      "Enter the 0th element: 8\n",
      "Enter the 1th element: 4\n",
      "Enter the 2th element: 13\n",
      "Enter the 3th element: -7\n",
      "Enter the 4th element: 0\n",
      "Enter the 5th element: 9\n",
      "Enter the 6th element: -4\n",
      "\n",
      "Entered array is [8, 4, 13, -7, 0, 9, -4]\n",
      "\n",
      "Largest Element in the array is 13\n"
     ]
    }
   ],
   "source": [
    "array = []\n",
    "\n",
    "num_elements = int(input('Enter the number of elements in the array: '))\n",
    "\n",
    "for i in range(num_elements):\n",
    "    array.append(int(input(f'Enter the {i}th element: ')))\n",
    "    \n",
    "print(f'\\nEntered array is {array}')\n",
    "print(f'\\nLargest Element in the array is {max(array)}')"
   ]
  },
  {
   "cell_type": "markdown",
   "id": "a79bfabf",
   "metadata": {},
   "source": [
    "# Question 3: Python Program to perform Array Rotation"
   ]
  },
  {
   "cell_type": "code",
   "execution_count": 26,
   "id": "849901d9",
   "metadata": {},
   "outputs": [
    {
     "name": "stdout",
     "output_type": "stream",
     "text": [
      "Enter the number of elements in the array: 7\n",
      "Enter the 0th element: 1\n",
      "Enter the 1th element: 2\n",
      "Enter the 2th element: 8\n",
      "Enter the 3th element: r\n",
      "Enter the 4th element: t\n",
      "Enter the 5th element: $\n",
      "Enter the 6th element: ^\n",
      "Enter the direction of rotation and required shift: l 4\n",
      "\n",
      "Input Array is : ['1', '2', '8', 'r', 't', '$', '^']\n",
      "\n",
      "Rotated Array is : ['t', '$', '^', '1', '2', '8', 'r']\n"
     ]
    }
   ],
   "source": [
    "#Array Rotation Function\n",
    "def rot_array(array, direction = 'l', shift = 1):\n",
    "    \n",
    "    len_array = len(array)\n",
    "    \n",
    "    if direction == 'l':\n",
    "        temp_array = array[:shift]\n",
    "        for i in range(shift, len_array):\n",
    "            array[i-shift] = array[i]\n",
    "        \n",
    "        for j in range(shift):\n",
    "            array[len_array - shift + j] = temp_array[j]\n",
    "    \n",
    "    elif direction == 'r':\n",
    "        temp_array = array[len_array-shift:]\n",
    "        for i in range(len_array-shift):\n",
    "            array[i+shift] = array[i]\n",
    "        \n",
    "        for j in range(shift):\n",
    "            array[j] = temp_array[j]\n",
    "            \n",
    "    return array\n",
    "\n",
    "input_array = []\n",
    "\n",
    "num_elements = int(input('Enter the number of elements in the array: '))\n",
    "\n",
    "for i in range(num_elements):\n",
    "    input_array.append(input(f'Enter the {i}th element: '))\n",
    "\n",
    "input_array_orig = input_array[:]\n",
    "\n",
    "rot_dir, rot_shift = input('Enter the direction of rotation and required shift: ').split()\n",
    "rot_shift = int(rot_shift)\n",
    "\n",
    "#Calling the Array Rotation Function\n",
    "rotated_array = rot_array(input_array, rot_dir, rot_shift)\n",
    "\n",
    "print(f'\\nInput Array is : {input_array_orig}')\n",
    "print(f'\\nRotated Array is : {rotated_array}')"
   ]
  },
  {
   "cell_type": "markdown",
   "id": "7db37e37",
   "metadata": {},
   "source": [
    "# Question 4: Python Program to split an array and interchange the split positions"
   ]
  },
  {
   "cell_type": "code",
   "execution_count": 34,
   "id": "ecfaae7b",
   "metadata": {},
   "outputs": [
    {
     "name": "stdout",
     "output_type": "stream",
     "text": [
      "Enter the number of elements in the array: 5\n",
      "Enter the desired splitting position: 2\n",
      "\n",
      "\n",
      "Enter the 0th element: 1\n",
      "Enter the 1th element: A\n",
      "Enter the 2th element: #\n",
      "Enter the 3th element: $\n",
      "Enter the 4th element: 5\n",
      "\n",
      "Input Array is : ['1', 'A', '#', '$', '5']\n",
      "\n",
      "Rotated Array is : ['#', '$', '5', '1', 'A']\n"
     ]
    }
   ],
   "source": [
    "def binary_split_replace(array, position):\n",
    "    \n",
    "    left_split = array[:position]\n",
    "    right_split = array[position:]\n",
    "    \n",
    "    for i in range(len(array)-position):\n",
    "        array[i] = right_split[i]\n",
    "    \n",
    "    k = 0    \n",
    "    for j in range(len(array)-position, len(array)):\n",
    "        array[j] = left_split[k]\n",
    "        k+=1\n",
    "        \n",
    "    return array\n",
    "\n",
    "input_array = []\n",
    "\n",
    "num_elements = int(input('Enter the number of elements in the array: '))\n",
    "split_pos = int(input('Enter the desired splitting position: '))\n",
    "\n",
    "print('\\n')\n",
    "\n",
    "for i in range(num_elements):\n",
    "    input_array.append(input(f'Enter the {i}th element: '))\n",
    "\n",
    "input_array_orig = input_array[:]\n",
    "\n",
    "#Calling the Array Split and Replace Function\n",
    "split_replace_array = binary_split_replace(input_array, split_pos)\n",
    "\n",
    "print(f'\\nInput Array is : {input_array_orig}')\n",
    "print(f'\\nRotated Array is : {split_replace_array}')"
   ]
  },
  {
   "cell_type": "markdown",
   "id": "9bc759f1",
   "metadata": {},
   "source": [
    "# Question 5: Python program to check if a array is Monotonic"
   ]
  },
  {
   "cell_type": "code",
   "execution_count": 56,
   "id": "2f435b26",
   "metadata": {},
   "outputs": [
    {
     "name": "stdout",
     "output_type": "stream",
     "text": [
      "Enter the number of elements in the array: 3\n",
      "Enter the 0th element: 3\n",
      "Enter the 1th element: 8\n",
      "Enter the 2th element: -5\n",
      "\n",
      "Entered array is NOT MONOTONIC\n"
     ]
    }
   ],
   "source": [
    "def monotonic(array):\n",
    "    \n",
    "    is_monotonic = False\n",
    "    counter1 = 0\n",
    "    counter2 = 0\n",
    "    \n",
    "    for i in range(len(array)-1):\n",
    "        if array[i] <= array[i+1]:\n",
    "            counter1+=0\n",
    "        else:\n",
    "            counter1+=1\n",
    "        \n",
    "    for i in range(len(array)-1):\n",
    "        if array[i] >= array[i+1]:\n",
    "            counter2+=0 \n",
    "        else:\n",
    "            counter2+=1\n",
    "    \n",
    "    if counter1 == 0 or counter2 == 0 :\n",
    "        is_monotonic = True\n",
    "        \n",
    "    return is_monotonic\n",
    "\n",
    "input_array = []\n",
    "\n",
    "num_elements = int(input('Enter the number of elements in the array: '))\n",
    "for i in range(num_elements):\n",
    "    input_array.append(input(f'Enter the {i}th element: '))\n",
    "\n",
    "monotonic_check = monotonic(input_array)\n",
    "\n",
    "if monotonic_check:\n",
    "    print('\\nEntered array is MONOTONIC')\n",
    "else:\n",
    "    print('\\nEntered array is NOT MONOTONIC')"
   ]
  }
 ],
 "metadata": {
  "kernelspec": {
   "display_name": "Python 3",
   "language": "python",
   "name": "python3"
  },
  "language_info": {
   "codemirror_mode": {
    "name": "ipython",
    "version": 3
   },
   "file_extension": ".py",
   "mimetype": "text/x-python",
   "name": "python",
   "nbconvert_exporter": "python",
   "pygments_lexer": "ipython3",
   "version": "3.8.8"
  }
 },
 "nbformat": 4,
 "nbformat_minor": 5
}
