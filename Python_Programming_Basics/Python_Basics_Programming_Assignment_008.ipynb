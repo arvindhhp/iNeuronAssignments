{
 "cells": [
  {
   "cell_type": "code",
   "execution_count": 14,
   "id": "577cc6c3",
   "metadata": {},
   "outputs": [],
   "source": [
    "#Common Function to Create a n-Dimmensional Matrix to be used for all Codes\n",
    "\n",
    "def matrix_creation():\n",
    "    n_rows = int(input('Enter the number of rows: '))\n",
    "    n_cols = int(input('Enter the number of columns: '))\n",
    "\n",
    "    matrix = []\n",
    "\n",
    "\n",
    "    print('\\nEnter the rows of data')\n",
    "    for i in range(n_rows):\n",
    "        row = []\n",
    "        for j in range(n_cols):\n",
    "            temp = int(input(f'Enter the value for Matrix {i}, {j} :'))\n",
    "            row.append(temp)\n",
    "        matrix.append(row)\n",
    "        \n",
    "    return matrix"
   ]
  },
  {
   "cell_type": "code",
   "execution_count": 48,
   "id": "808bdd8f",
   "metadata": {},
   "outputs": [
    {
     "name": "stdout",
     "output_type": "stream",
     "text": [
      "Enter the data corresponding to Matrix 1\n",
      "\n",
      "Enter the number of rows: 2\n",
      "Enter the number of columns: 2\n",
      "\n",
      "Enter the rows of data\n",
      "Enter the value for Matrix 0, 0 :5\n",
      "Enter the value for Matrix 0, 1 :4\n",
      "Enter the value for Matrix 1, 0 :8\n",
      "Enter the value for Matrix 1, 1 :6\n",
      "\n",
      "Enter the data corresponding to Matrix 2\n",
      "\n",
      "Enter the number of rows: 2\n",
      "Enter the number of columns: 2\n",
      "\n",
      "Enter the rows of data\n",
      "Enter the value for Matrix 0, 0 :5\n",
      "Enter the value for Matrix 0, 1 :7\n",
      "Enter the value for Matrix 1, 0 :1\n",
      "Enter the value for Matrix 1, 1 :5\n",
      "\n",
      "Matrix 1 is\n",
      "[[5, 4], [8, 6]]\n",
      "\n",
      "Matrix 2 is\n",
      "[[5, 7], [1, 5]]\n"
     ]
    }
   ],
   "source": [
    "#Common Matrices input for performing all Operations in this Assignment\n",
    "\n",
    "print('Enter the data corresponding to Matrix 1\\n')\n",
    "matrix1 = matrix_creation()\n",
    "\n",
    "print('\\nEnter the data corresponding to Matrix 2\\n')\n",
    "matrix2 = matrix_creation()\n",
    "\n",
    "print(f'\\nMatrix 1 is\\n{matrix1}')\n",
    "print(f'\\nMatrix 2 is\\n{matrix2}')"
   ]
  },
  {
   "cell_type": "markdown",
   "id": "e15fbcde",
   "metadata": {},
   "source": [
    "# Question 1: Python Program to ADD Two Matrices"
   ]
  },
  {
   "cell_type": "code",
   "execution_count": 49,
   "id": "0e325250",
   "metadata": {},
   "outputs": [
    {
     "name": "stdout",
     "output_type": "stream",
     "text": [
      "Sum of the Matrices is:\n",
      "[[10, 11], [9, 11]]\n"
     ]
    }
   ],
   "source": [
    "matrix_sum = [[0,0],[0,0]]\n",
    "\n",
    "for i in range(len(matrix1)):\n",
    "    for j in range(len(matrix1[0])):\n",
    "        matrix_sum[i][j] = matrix1[i][j] + matrix2[i][j]\n",
    "\n",
    "print(f'Sum of the Matrices is:\\n{matrix_sum}')"
   ]
  },
  {
   "cell_type": "markdown",
   "id": "4292db51",
   "metadata": {},
   "source": [
    "# Question 2: Python Program to Multiply Two Matrices"
   ]
  },
  {
   "cell_type": "code",
   "execution_count": 50,
   "id": "8803b87a",
   "metadata": {},
   "outputs": [
    {
     "name": "stdout",
     "output_type": "stream",
     "text": [
      "Product of the Matrices is:\n",
      "[[29, 55], [46, 86]]\n"
     ]
    }
   ],
   "source": [
    "matrix_product = [[sum(a * b for a, b in zip(A_row, B_col)) for B_col in zip(*matrix2)] for A_row in matrix1]\n",
    "\n",
    "print(f'Product of the Matrices is:\\n{matrix_product}')"
   ]
  },
  {
   "cell_type": "markdown",
   "id": "cf8d33c4",
   "metadata": {},
   "source": [
    "# Question 3: Python Program to TRANSPOSE Two Matrices"
   ]
  },
  {
   "cell_type": "code",
   "execution_count": 51,
   "id": "60fbe522",
   "metadata": {},
   "outputs": [
    {
     "name": "stdout",
     "output_type": "stream",
     "text": [
      "Sum of the Matrices is:\n",
      "[[5, 8], [4, 6]]\n"
     ]
    }
   ],
   "source": [
    "matrix_transpose = [[0,0],[0,0]]\n",
    "\n",
    "for i in range(len(matrix1)):\n",
    "    for j in range(len(matrix1[0])):\n",
    "        matrix_transpose[i][j] = matrix1[j][i]\n",
    "\n",
    "print(f'Sum of the Matrices is:\\n{matrix_transpose}')"
   ]
  },
  {
   "cell_type": "markdown",
   "id": "5045981a",
   "metadata": {},
   "source": [
    "# Question 4: Python Program to Sort Words in Alpahetical Order"
   ]
  },
  {
   "cell_type": "code",
   "execution_count": 7,
   "id": "7278228c",
   "metadata": {},
   "outputs": [
    {
     "name": "stdout",
     "output_type": "stream",
     "text": [
      "Enter a sentence:\n",
      "Let us sort a list of words in Alphabetical order\n",
      "\n",
      "\n",
      "Actual List of words is: ['Let', 'us', 'sort', 'a', 'list', 'of', 'words', 'in', 'Alphabetical', 'order']\n",
      "Sorted List of words is: ['Alphabetical', 'Let', 'a', 'in', 'list', 'of', 'order', 'sort', 'us', 'words']\n"
     ]
    }
   ],
   "source": [
    "sentence = input('Enter a sentence:\\n')\n",
    "\n",
    "words = sentence.split()\n",
    "\n",
    "sorted_words = sorted(words)\n",
    "\n",
    "print('\\n')\n",
    "print(f'Actual List of words is: {words}')\n",
    "print(f'Sorted List of words is: {sorted_words}')"
   ]
  },
  {
   "cell_type": "markdown",
   "id": "0d6b68e8",
   "metadata": {},
   "source": [
    "# Question 5: Python Program to Remove Punctuations from a string"
   ]
  },
  {
   "cell_type": "code",
   "execution_count": 43,
   "id": "fb4be2c7",
   "metadata": {},
   "outputs": [
    {
     "name": "stdout",
     "output_type": "stream",
     "text": [
      "Enter a sentence with punctuations:\n",
      "Hello !!! How are you ??\n",
      "\n",
      "Sentence without any punctuation is:\n",
      "Hello  How are you \n"
     ]
    }
   ],
   "source": [
    "import re\n",
    "\n",
    "sentence = input('Enter a sentence with punctuations:\\n')\n",
    "\n",
    "reg_ex = re.findall(('\\w| '),sentence)\n",
    "punctuation_free  = ''\n",
    "\n",
    "for i in reg_ex:\n",
    "    punctuation_free += i\n",
    "    \n",
    "print(f'\\nSentence without any punctuation is:\\n{punctuation_free}')"
   ]
  }
 ],
 "metadata": {
  "kernelspec": {
   "display_name": "Python 3",
   "language": "python",
   "name": "python3"
  },
  "language_info": {
   "codemirror_mode": {
    "name": "ipython",
    "version": 3
   },
   "file_extension": ".py",
   "mimetype": "text/x-python",
   "name": "python",
   "nbconvert_exporter": "python",
   "pygments_lexer": "ipython3",
   "version": "3.8.8"
  }
 },
 "nbformat": 4,
 "nbformat_minor": 5
}
