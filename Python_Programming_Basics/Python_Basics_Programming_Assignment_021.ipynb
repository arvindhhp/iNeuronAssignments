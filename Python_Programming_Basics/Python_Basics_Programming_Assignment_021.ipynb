{
 "cells": [
  {
   "cell_type": "markdown",
   "id": "e1a96deb",
   "metadata": {},
   "source": [
    "# Question 1:\n",
    "\n",
    "### Write a function that takes a list and a number as arguments. Add the number to the end of the list, then remove the first element of the list. The function should then return the updated list"
   ]
  },
  {
   "cell_type": "code",
   "execution_count": 3,
   "id": "7aa16e51",
   "metadata": {},
   "outputs": [
    {
     "name": "stdout",
     "output_type": "stream",
     "text": [
      "Updated List is : [6, 7, 8, 9, 1]\n",
      "\n",
      "Updated List is : [6, 3, 23, 17, 10, 10]\n",
      "\n",
      "Updated List is : [10, 20, 42, 6]\n",
      "\n",
      "Updated List is : No list has been selected\n",
      "\n"
     ]
    }
   ],
   "source": [
    "def lst_mod(lst, item):\n",
    "    \n",
    "    if lst == []:\n",
    "        return 'No list has been selected'\n",
    "    \n",
    "    else:\n",
    "        lst.remove(lst[0])\n",
    "        lst.append(item)\n",
    "        \n",
    "    return lst\n",
    "\n",
    "lists_items = [([5, 6, 7, 8, 9], 1), ([7, 6, 3, 23, 17, 10], 10), ([1, 10, 20, 42], 6), ([], 6)]\n",
    "\n",
    "for items in lists_items:\n",
    "    print(f'Updated List is : {lst_mod(items[0], items[1])}\\n')"
   ]
  },
  {
   "cell_type": "markdown",
   "id": "1d75f821",
   "metadata": {},
   "source": [
    "# Question 2:\n",
    "\n",
    "### Create the function that takes a list of dictionaries and returns the sum of people's budgets."
   ]
  },
  {
   "cell_type": "code",
   "execution_count": 11,
   "id": "a86366cd",
   "metadata": {},
   "outputs": [
    {
     "name": "stdout",
     "output_type": "stream",
     "text": [
      "Total Buget is 65700\n"
     ]
    }
   ],
   "source": [
    "def get_budgets(details):\n",
    "    \n",
    "    tot_budget = 0\n",
    "    \n",
    "    for item in details:\n",
    "        tot_budget+=item['budget']\n",
    "        \n",
    "    return tot_budget\n",
    "\n",
    "list_dic = [{'name':'John', 'age': 21, 'budget': 23000}, {'name':'Steve', 'age': 32, 'budget': 40000},\n",
    "            {'name':'Martin', 'age': 16, 'budget': 2700}]\n",
    "\n",
    "print(f'Total Buget is {get_budgets(list_dic)}')"
   ]
  },
  {
   "cell_type": "markdown",
   "id": "9d2ae439",
   "metadata": {},
   "source": [
    "# Question 3:\n",
    "\n",
    "### Create a function that takes a string and returns a string with its letters in alphabetical order."
   ]
  },
  {
   "cell_type": "code",
   "execution_count": 31,
   "id": "7318e3fa",
   "metadata": {},
   "outputs": [
    {
     "name": "stdout",
     "output_type": "stream",
     "text": [
      "Enter the string : javascript\n",
      "Alphabetically ordered string is : aacijprstv\n"
     ]
    }
   ],
   "source": [
    "def sort_string(string):\n",
    "    \n",
    "    sorted_list = sorted(list(string))\n",
    "    \n",
    "    sorted_string = ''\n",
    "    \n",
    "    for letter in sorted_list:\n",
    "        sorted_string += letter\n",
    "        \n",
    "    return sorted_string\n",
    "\n",
    "string = input('Enter the string : ')\n",
    "\n",
    "print(f'Alphabetically ordered string is : {sort_string(string)}')"
   ]
  },
  {
   "cell_type": "markdown",
   "id": "24dfd10f",
   "metadata": {},
   "source": [
    "# Question 4:\n",
    "\n",
    "### Create a function that accepts the principal p, the term in years t, the interest rate r, and the number of compounding periods per year n. The function returns the value at the end of term rounded to the nearest cent."
   ]
  },
  {
   "cell_type": "code",
   "execution_count": 40,
   "id": "1eb19ba5",
   "metadata": {},
   "outputs": [
    {
     "name": "stdout",
     "output_type": "stream",
     "text": [
      "Enter the Principle (doolalrs), Time (years), Interest (ratio) and Componding Interval: 100000 20 0.15 365\n",
      "Compounded amount is : 2007316.26\n"
     ]
    }
   ],
   "source": [
    "def compound_interest(prc, t, i, prd):\n",
    "    return round(prc*((1+(i/prd))**(t*prd)), 2)\n",
    "9\n",
    "prc, t, i, prd = input('Enter the Principle (doolalrs), Time (years), Interest (ratio) and Componding Interval: ').split()\n",
    "\n",
    "prc = float(prc)\n",
    "t = float(t)\n",
    "i = float(i)\n",
    "prd = float(prd)\n",
    "\n",
    "print(f'Compounded amount is : {compound_interest(prc, t, i, prd)}')"
   ]
  },
  {
   "cell_type": "markdown",
   "id": "f7992412",
   "metadata": {},
   "source": [
    "# Question 5:\n",
    "\n",
    "### Write a function that takes a list of elements and returns only the integers."
   ]
  },
  {
   "cell_type": "code",
   "execution_count": 41,
   "id": "a6af8088",
   "metadata": {},
   "outputs": [
    {
     "name": "stdout",
     "output_type": "stream",
     "text": [
      "Filtered integer list is: [1, 2, 3, 4, 4]\n"
     ]
    }
   ],
   "source": [
    "def filter_int(lst):\n",
    "    \n",
    "    non_int = []\n",
    "    \n",
    "    for ele in lst:\n",
    "        if type(ele) != int:\n",
    "            non_int.append(ele)            \n",
    "    \n",
    "    for ele in non_int:\n",
    "        lst.remove(ele)\n",
    "    \n",
    "    return lst\n",
    "\n",
    "input_list = [1, 2, 3, 4, 'a', 'a', 'c', 'b', 4]\n",
    "\n",
    "print(f'Filtered integer list is: {filter_int(input_list)}')"
   ]
  }
 ],
 "metadata": {
  "kernelspec": {
   "display_name": "Python 3",
   "language": "python",
   "name": "python3"
  },
  "language_info": {
   "codemirror_mode": {
    "name": "ipython",
    "version": 3
   },
   "file_extension": ".py",
   "mimetype": "text/x-python",
   "name": "python",
   "nbconvert_exporter": "python",
   "pygments_lexer": "ipython3",
   "version": "3.8.8"
  }
 },
 "nbformat": 4,
 "nbformat_minor": 5
}
