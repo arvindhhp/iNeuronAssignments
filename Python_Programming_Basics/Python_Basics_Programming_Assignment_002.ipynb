{
 "cells": [
  {
   "cell_type": "markdown",
   "metadata": {},
   "source": [
    "## Question 1: Python Program to convert Kilometers to Miles\n",
    "\n",
    "Program to get user input of distance in Kilometers and output the same distance in miles. (1 km = 0.612 miles)"
   ]
  },
  {
   "cell_type": "code",
   "execution_count": 1,
   "metadata": {},
   "outputs": [
    {
     "name": "stdout",
     "output_type": "stream",
     "text": [
      "Enter the distance in kms : 19\n",
      "\n",
      "The desired distance in miles is : 11.628 miles\n"
     ]
    }
   ],
   "source": [
    "#User Input of distance in kms\n",
    "dis_km=int(input('Enter the distance in kms : '))\n",
    "\n",
    "dis_mile=dis_km*0.612 #kms to miles conversion\n",
    "\n",
    "print(f'\\nThe desired distance in miles is : {dis_mile} miles')"
   ]
  },
  {
   "cell_type": "markdown",
   "metadata": {},
   "source": [
    "## Question 2: Python Program to convert Celcius to Farenheit\n",
    "\n",
    "Program to get user input of temperature in Celcius and output the same temperature in Farenheit. \n",
    "\n",
    "#### Temp in F = (Temp_degC)*(9/5)+32"
   ]
  },
  {
   "cell_type": "code",
   "execution_count": 2,
   "metadata": {},
   "outputs": [
    {
     "name": "stdout",
     "output_type": "stream",
     "text": [
      "Enter the temperature in deg Celcius : 46\n",
      "\n",
      "The desired temperature in Farenheit is : 114.8 deg Farenheit\n"
     ]
    }
   ],
   "source": [
    "#User Input of temperature in Celcius\n",
    "temp_Celcius=int(input('Enter the temperature in deg Celcius : '))\n",
    "\n",
    "temp_Farenheit = (temp_Celcius * (9/5)) + 32  #celcius to farenheit conversion\n",
    "\n",
    "print(f'\\nThe desired temperature in Farenheit is : {temp_Farenheit} deg Farenheit')"
   ]
  },
  {
   "cell_type": "markdown",
   "metadata": {},
   "source": [
    "## Question 3: Python Program to display Calendar\n",
    "\n",
    "Program to display the calendar of the entered month and year"
   ]
  },
  {
   "cell_type": "code",
   "execution_count": 3,
   "metadata": {},
   "outputs": [
    {
     "name": "stdout",
     "output_type": "stream",
     "text": [
      "Enter the desired Month Number : 12\n",
      "Enter the desired Year : 1992\n",
      "\n",
      "\n",
      "   December 1992\n",
      "Mo Tu We Th Fr Sa Su\n",
      "    1  2  3  4  5  6\n",
      " 7  8  9 10 11 12 13\n",
      "14 15 16 17 18 19 20\n",
      "21 22 23 24 25 26 27\n",
      "28 29 30 31\n",
      "\n"
     ]
    }
   ],
   "source": [
    "import calendar\n",
    "\n",
    "mon_=int(input('Enter the desired Month Number : '))\n",
    "yyyy_=int(input('Enter the desired Year : '))\n",
    "\n",
    "print('\\n')\n",
    "\n",
    "print(calendar.month(yyyy_,mon_))"
   ]
  },
  {
   "cell_type": "markdown",
   "metadata": {},
   "source": [
    "## Question 4: Python Program to solve a Quadratic Equation a*(x^2) + b*(x) + c = 0"
   ]
  },
  {
   "cell_type": "code",
   "execution_count": 4,
   "metadata": {},
   "outputs": [
    {
     "name": "stdout",
     "output_type": "stream",
     "text": [
      "Enter the quadratic coefficient of the equation: 4\n",
      "Enter the first order coefficient of the equation: 9\n",
      "Enter the constant of the equation: 3\n",
      "\n",
      "\n",
      "Entered equation is: 4.0 x2 + 9.0x + 3.0\n",
      "Roots of the equation are: -0.4069296691827464 and -9.718070330817254\n"
     ]
    }
   ],
   "source": [
    "second_order = float(input('Enter the quadratic coefficient of the equation: '))\n",
    "first_order = float(input('Enter the first order coefficient of the equation: '))\n",
    "constant_ = float(input('Enter the constant of the equation: '))\n",
    "\n",
    "first_root = ((-1)*first_order + ((first_order**2) - (4*second_order*constant_))**(0.5))/(2*second_order)\n",
    "second_root = (-1)*first_order - ((first_order**2) - (4*second_order*constant_))**(0.5)/(2*second_order)\n",
    "\n",
    "print('\\n')\n",
    "\n",
    "print(f'Entered equation is: {second_order} x2 + {first_order}x + {constant_}')\n",
    "print(f'Roots of the equation are: {first_root} and {second_root}')"
   ]
  },
  {
   "cell_type": "markdown",
   "metadata": {},
   "source": [
    "## Question 5: Python Program to swap two variables without a temporary variable"
   ]
  },
  {
   "cell_type": "code",
   "execution_count": 5,
   "metadata": {},
   "outputs": [
    {
     "name": "stdout",
     "output_type": "stream",
     "text": [
      "Enter the variable a : 13\n",
      "Enter the variable b : 19\n",
      "Current value of a is 13 and b is 19\n",
      "After swapping, value of a is 19 and b is 13\n"
     ]
    }
   ],
   "source": [
    "#Swapping without using a temporary variable\n",
    "\n",
    "a = int(input('Enter the variable a : '))\n",
    "b = int(input('Enter the variable b : '))\n",
    "\n",
    "print(f'Current value of a is {a} and b is {b}')\n",
    "\n",
    "#Swapping\n",
    "\n",
    "a=a+b\n",
    "b=a-b\n",
    "a=a-b\n",
    "\n",
    "print(f'After swapping, value of a is {a} and b is {b}')"
   ]
  }
 ],
 "metadata": {
  "kernelspec": {
   "display_name": "Python 3",
   "language": "python",
   "name": "python3"
  },
  "language_info": {
   "codemirror_mode": {
    "name": "ipython",
    "version": 3
   },
   "file_extension": ".py",
   "mimetype": "text/x-python",
   "name": "python",
   "nbconvert_exporter": "python",
   "pygments_lexer": "ipython3",
   "version": "3.7.6"
  }
 },
 "nbformat": 4,
 "nbformat_minor": 4
}
