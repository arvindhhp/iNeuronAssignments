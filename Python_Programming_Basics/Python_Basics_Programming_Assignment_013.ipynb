{
 "cells": [
  {
   "cell_type": "markdown",
   "id": "7abc5c69",
   "metadata": {},
   "source": [
    "# Question 1\n",
    "\n",
    "Write a program that calculates and prints the value according to the given formula:\n",
    "\n",
    "Q = Square root of [(2 * C * D)/H]\n",
    "\n",
    "Following are the fixed values of C and H:\n",
    "\n",
    "C is 50. H is 30.\n",
    "\n",
    "D is the variable whose values should be input to your program in a comma-separated sequence"
   ]
  },
  {
   "cell_type": "code",
   "execution_count": 1,
   "id": "698e760d",
   "metadata": {},
   "outputs": [
    {
     "name": "stdout",
     "output_type": "stream",
     "text": [
      "Enter the series of D values separated by comma :120,150,180\n",
      "Evaluated Qs are : [20, 22, 24]\n",
      "\n",
      "Desired Output\n",
      "\n",
      "\n",
      "20,22,24\n"
     ]
    }
   ],
   "source": [
    "def eval_Q(D, C = 50, H = 30, Q = []):\n",
    "    \n",
    "    for num in D:\n",
    "        temp = (2 * C * float(num) / H)**0.5\n",
    "        Q.append(int(temp))\n",
    "    return Q\n",
    "\n",
    "D_string = input('Enter the series of D values separated by comma :').split(',')\n",
    "\n",
    "Q_values = eval_Q(D_string)\n",
    "\n",
    "print(f'Evaluated Qs are : {Q_values}')\n",
    "print('\\nDesired Output\\n\\n')\n",
    "print(*Q_values, sep = ',')\n"
   ]
  },
  {
   "cell_type": "markdown",
   "id": "edabc9b0",
   "metadata": {},
   "source": [
    "# Question 2\n",
    "\n",
    "Write a program which takes 2 digits, X,Y as input and generates a 2-dimensional array. The element value in the i-th row and j-the column of the array should be i*j."
   ]
  },
  {
   "cell_type": "code",
   "execution_count": 2,
   "id": "681604b4",
   "metadata": {},
   "outputs": [
    {
     "name": "stdout",
     "output_type": "stream",
     "text": [
      "Enter the number of rows and number of columns : 3 5\n",
      "[[0, 0, 0, 0, 0], [0, 1, 2, 3, 4], [0, 2, 4, 6, 8]]\n"
     ]
    }
   ],
   "source": [
    "matrix = []\n",
    "\n",
    "i, j = input('Enter the number of rows and number of columns : ').split()\n",
    "\n",
    "i = int(i)\n",
    "j = int(j)\n",
    "\n",
    "for num1 in range(i):\n",
    "    row = []\n",
    "    for num2 in range(j):\n",
    "        row.append(num1*num2)\n",
    "    matrix.append(row)\n",
    "    \n",
    "print(matrix)"
   ]
  },
  {
   "cell_type": "markdown",
   "id": "b6d8505e",
   "metadata": {},
   "source": [
    "# Question 3: \n",
    "\n",
    "Write a program that accepts a comma separated sequence of words as input and prints the words in a comma-separated sequence after sorting them alphabetically."
   ]
  },
  {
   "cell_type": "code",
   "execution_count": 3,
   "id": "b78bf23f",
   "metadata": {},
   "outputs": [
    {
     "name": "stdout",
     "output_type": "stream",
     "text": [
      "Enter the list of words that need to be sorted\n",
      "without,hello,bag,world\n",
      "\n",
      "\n",
      "List of the entered words : \n",
      "without,hello,bag,world\n",
      "\n",
      "\n",
      "List of the sorted words :\n",
      "bag,hello,without,world\n"
     ]
    }
   ],
   "source": [
    "list_words = input('Enter the list of words that need to be sorted\\n').split(',')\n",
    "\n",
    "sorted_words = ','.join(sorted(list_words))\n",
    "\n",
    "print(f'\\n\\nList of the entered words : ')\n",
    "print(*list_words, sep = ',')\n",
    "\n",
    "print(f'\\n\\nList of the sorted words :\\n{sorted_words}')"
   ]
  },
  {
   "cell_type": "markdown",
   "id": "9d5abb17",
   "metadata": {},
   "source": [
    "# Question 4:\n",
    "\n",
    "Write a program that accepts a sequence of whitespace separated words as input and prints the words after removing all duplicate words and sorting them alphanumerically."
   ]
  },
  {
   "cell_type": "code",
   "execution_count": 4,
   "id": "033a57c4",
   "metadata": {},
   "outputs": [
    {
     "name": "stdout",
     "output_type": "stream",
     "text": [
      "Enter the list of words that need to be sorted\n",
      "hello world and practice makes perfect and hello world again\n",
      "\n",
      "\n",
      "List of words entered is:\n",
      "['hello', 'world', 'and', 'practice', 'makes', 'perfect', 'and', 'hello', 'world', 'again']\n",
      "\n",
      "\n",
      "List of sorted words without repetition is\n",
      "\n",
      "again and hello makes perfect practice world\n"
     ]
    }
   ],
   "source": [
    "list_words = input('Enter the list of words that need to be sorted\\n').split()\n",
    "\n",
    "list_words_set = set(list_words)\n",
    "\n",
    "sorted_list_words = sorted(list(list_words_set))\n",
    "\n",
    "print(f'\\n\\nList of words entered is:\\n{list_words}')\n",
    "\n",
    "print(f'\\n\\nList of sorted words without repetition is\\n')\n",
    "print(*sorted_list_words)"
   ]
  },
  {
   "cell_type": "markdown",
   "id": "f15bd04f",
   "metadata": {},
   "source": [
    "# Question 5:\n",
    "\n",
    "Write a program that accepts a sentence and calculate the number of letters and digits."
   ]
  },
  {
   "cell_type": "code",
   "execution_count": 5,
   "id": "66504066",
   "metadata": {},
   "outputs": [
    {
     "name": "stdout",
     "output_type": "stream",
     "text": [
      "Enter the sentence to be analysed: hello world! 123\n",
      "LETTERS 10\n",
      "DIGITS 3\n"
     ]
    }
   ],
   "source": [
    "import re\n",
    "\n",
    "sentence = input('Enter the sentence to be analysed: ')\n",
    "\n",
    "num_digits = 0\n",
    "num_char = 0\n",
    "\n",
    "for char in sentence:\n",
    "    if re.match('[0-9]', char):\n",
    "        num_digits += 1\n",
    "        \n",
    "    if re.match('[A-Za-z]', char):\n",
    "        num_char += 1\n",
    "\n",
    "print(f'LETTERS {num_char}')\n",
    "print(f'DIGITS {num_digits}')      "
   ]
  },
  {
   "cell_type": "markdown",
   "id": "7f5facbd",
   "metadata": {},
   "source": [
    "# Question 6:\n",
    "\n",
    "A website requires the users to input username and password to register. Write a program to check the validity of password input by users.\n",
    "\n",
    "Following are the criteria for checking the password:\n",
    "\n",
    "1. At least 1 letter between [a-z]\n",
    "\n",
    "2. At least 1 number between [0-9]\n",
    "\n",
    "1. At least 1 letter between [A-Z]\n",
    "\n",
    "3. At least 1 character from [$#@]\n",
    "\n",
    "4. Minimum length of transaction password: 6\n",
    "\n",
    "5. Maximum length of transaction password: 12\n",
    "\n",
    "Your program should accept a sequence of comma separated passwords and will check them according to the above criteria. Passwords that match the criteria are to be printed, each separated by a comma.\n"
   ]
  },
  {
   "cell_type": "code",
   "execution_count": 6,
   "id": "a817d509",
   "metadata": {},
   "outputs": [
    {
     "name": "stdout",
     "output_type": "stream",
     "text": [
      "Enter the series of passwords to be checked : ABd1234@1,a F1#,2w3E*,2We3345\n",
      "\n",
      "List of accepted passwords is:\n",
      "\n",
      "ABd1234@1\n"
     ]
    }
   ],
   "source": [
    "import re\n",
    "\n",
    "password_list = input('Enter the series of passwords to be checked : ').split(',')\n",
    "\n",
    "accepted_passwords = []\n",
    "\n",
    "for password in password_list:\n",
    "    if re.search('[a-z]' , password) and re.search('[A-Z]' , password) and re.search('[0-9]' , password):\n",
    "        if re.search('[$|#|@]' , password) and len(password) >= 6 and len(password) <= 12:\n",
    "            accepted_passwords.append(password)\n",
    "\n",
    "print(f'\\nList of accepted passwords is:\\n')\n",
    "print(*accepted_passwords , sep = ',')"
   ]
  }
 ],
 "metadata": {
  "kernelspec": {
   "display_name": "Python 3",
   "language": "python",
   "name": "python3"
  },
  "language_info": {
   "codemirror_mode": {
    "name": "ipython",
    "version": 3
   },
   "file_extension": ".py",
   "mimetype": "text/x-python",
   "name": "python",
   "nbconvert_exporter": "python",
   "pygments_lexer": "ipython3",
   "version": "3.8.8"
  }
 },
 "nbformat": 4,
 "nbformat_minor": 5
}
