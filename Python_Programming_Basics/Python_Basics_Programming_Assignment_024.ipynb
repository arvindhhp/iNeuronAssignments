{
 "cells": [
  {
   "cell_type": "markdown",
   "id": "f590b702",
   "metadata": {},
   "source": [
    "# Question 1:\n",
    "\n",
    "### Create a function that takes an integer and returns a list from 1 to the given number, where:\n",
    "\n",
    "### 1. If the number can be divided evenly by 4, amplify it by 10 (i.e. return 10 times the number).\n",
    "### 2. If the number cannot be divided evenly by 4, simply return the number."
   ]
  },
  {
   "cell_type": "code",
   "execution_count": 7,
   "id": "92253aa7",
   "metadata": {},
   "outputs": [
    {
     "name": "stdout",
     "output_type": "stream",
     "text": [
      "Enter the number: 25\n",
      "List is : [1, 2, 3, 40, 5, 6, 7, 80, 9, 10, 11, 120, 13, 14, 15, 160, 17, 18, 19, 200, 21, 22, 23, 240, 25]\n"
     ]
    }
   ],
   "source": [
    "def amplify(num):\n",
    "    \n",
    "    div_four = [10*k if k%4 == 0 else k for k in range(1, num+1)]\n",
    "    \n",
    "    return div_four\n",
    "\n",
    "num = int(input('Enter the number: '))\n",
    "            \n",
    "print(f'List is : {amplify(num)}')            "
   ]
  },
  {
   "cell_type": "markdown",
   "id": "200a399b",
   "metadata": {},
   "source": [
    "# Question 2:\n",
    "\n",
    "### Create a function that takes a list of numbers and return the number that is unique."
   ]
  },
  {
   "cell_type": "code",
   "execution_count": 13,
   "id": "81a45237",
   "metadata": {},
   "outputs": [
    {
     "name": "stdout",
     "output_type": "stream",
     "text": [
      "Unique items are: 7\n"
     ]
    }
   ],
   "source": [
    "def unique(list_):\n",
    "    \n",
    "    unq_items = []\n",
    "    \n",
    "    for ele in list_:\n",
    "        if list_.count(ele) == 1:\n",
    "            unq_items.append(ele)\n",
    "            \n",
    "    if len(unq_items) == 1:\n",
    "        return unq_items[0]\n",
    "    \n",
    "    else:\n",
    "        return unq_items\n",
    "    \n",
    "list_ = [3, 3, 3, 7, 3, 3]\n",
    "\n",
    "print(f'Unique items are: {unique(list_)}')"
   ]
  },
  {
   "cell_type": "markdown",
   "id": "3d18d56c",
   "metadata": {},
   "source": [
    "# Question 3:\n",
    "\n",
    "### Your task is to create a Circle constructor that creates a circle with a radius provided by an argument. The circles constructed must have two getters getArea() (PIr^2) and getPerimeter() (2PI*r) which give both respective areas and perimeter (circumference)."
   ]
  },
  {
   "cell_type": "code",
   "execution_count": 18,
   "id": "d5f2bded",
   "metadata": {},
   "outputs": [
    {
     "name": "stdout",
     "output_type": "stream",
     "text": [
      "Radius : 11, Area : 380, Perimeter : 69\n",
      "\n",
      "Radius : 4.44, Area : 61, Perimeter : 27\n",
      "\n"
     ]
    }
   ],
   "source": [
    "class Circle:\n",
    "    def __init__(self, radius):\n",
    "        self.radius = radius\n",
    "        self.area = 3.1416*(self.radius**2)\n",
    "        self.perimeter = 2*3.1416*self.radius\n",
    "        \n",
    "    def getArea(self):\n",
    "        return int(self.area)\n",
    "    \n",
    "    def getPerimeter(self):\n",
    "        return int(self.perimeter)\n",
    "    \n",
    "circy_11 = Circle(11)\n",
    "circy_4p44 = Circle(4.44)\n",
    "\n",
    "print(f'Radius : {circy_11.radius}, Area : {circy_11.getArea()}, Perimeter : {circy_11.getPerimeter()}\\n' )\n",
    "print(f'Radius : {circy_4p44.radius}, Area : {circy_4p44.getArea()}, Perimeter : {circy_4p44.getPerimeter()}\\n' )"
   ]
  },
  {
   "cell_type": "markdown",
   "id": "d6ae1550",
   "metadata": {},
   "source": [
    "# Question 4:\n",
    "\n",
    "### Create a function that takes a list of strings and return a list, sorted from shortest to longest."
   ]
  },
  {
   "cell_type": "code",
   "execution_count": 28,
   "id": "da07ad93",
   "metadata": {},
   "outputs": [
    {
     "name": "stdout",
     "output_type": "stream",
     "text": [
      "Enter the list of strings: Turing Einstein Jung\n",
      "\n",
      "Sorted list of strings : ['Jung', 'Turing', 'Einstein']\n"
     ]
    }
   ],
   "source": [
    "#All test cases contain lists with strings of different lengths\n",
    "\n",
    "def sort_by_length(list_):\n",
    "    \n",
    "    lengths = dict()\n",
    "    sorted_list = []\n",
    "    \n",
    "    for index, word in enumerate(list_):\n",
    "        lengths[len(word)]=(index, word)\n",
    "        \n",
    "    for key in sorted(lengths):\n",
    "        sorted_list.append(lengths[key][1])\n",
    "        \n",
    "    return sorted_list\n",
    "\n",
    "list_ = input('Enter the list of strings: ').split()\n",
    "\n",
    "print(f'\\nSorted list of strings : {sort_by_length(list_)}')"
   ]
  },
  {
   "cell_type": "markdown",
   "id": "7eb12fef",
   "metadata": {},
   "source": [
    "# Question 5:\n",
    "\n",
    "### Create a function that validates whether three given integers form a Pythagorean triplet. The sum of the squares of the two smallest integers must equal the square of the largest number to be validated."
   ]
  },
  {
   "cell_type": "code",
   "execution_count": 31,
   "id": "46d4045b",
   "metadata": {},
   "outputs": [
    {
     "name": "stdout",
     "output_type": "stream",
     "text": [
      "Enter the Triplet: 13 5 12\n",
      "Is Triplet : True\n"
     ]
    }
   ],
   "source": [
    "def is_triplet(list_):\n",
    "    \n",
    "    sorted_list = sorted(list_)\n",
    "    \n",
    "    if sorted_list[0]**2 + sorted_list[1]**2 == sorted_list[2]**2:\n",
    "        return True\n",
    "    \n",
    "    else:\n",
    "        return False\n",
    "\n",
    "triplet = input('Enter the Triplet: ').split()\n",
    "\n",
    "print(f'Is Triplet : {is_triplet(int(num) for num in triplet)}')"
   ]
  }
 ],
 "metadata": {
  "kernelspec": {
   "display_name": "Python 3",
   "language": "python",
   "name": "python3"
  },
  "language_info": {
   "codemirror_mode": {
    "name": "ipython",
    "version": 3
   },
   "file_extension": ".py",
   "mimetype": "text/x-python",
   "name": "python",
   "nbconvert_exporter": "python",
   "pygments_lexer": "ipython3",
   "version": "3.8.8"
  }
 },
 "nbformat": 4,
 "nbformat_minor": 5
}
