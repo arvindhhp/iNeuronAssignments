{
 "cells": [
  {
   "cell_type": "markdown",
   "id": "d1e72400",
   "metadata": {},
   "source": [
    "# Question 1:\n",
    "\n",
    "### Create a function that takes three arguments a, b, c and returns the sum of the numbers that are evenly divided by c from the range a, b inclusive."
   ]
  },
  {
   "cell_type": "code",
   "execution_count": 29,
   "id": "083e3023",
   "metadata": {},
   "outputs": [
    {
     "name": "stdout",
     "output_type": "stream",
     "text": [
      "Enter the number of combinations to try: 3\n",
      "\n",
      "\n",
      "Enter the range and numbers a, b and target c: 1 10 20\n",
      "Sum of numbers divisible by 20 between 1 and 10 is 0\n",
      "\n",
      "Enter the range and numbers a, b and target c: 1 10 2\n",
      "Sum of numbers divisible by 2 between 1 and 10 is 30\n",
      "\n",
      "Enter the range and numbers a, b and target c: 1 10 3\n",
      "Sum of numbers divisible by 3 between 1 and 10 is 18\n",
      "\n"
     ]
    }
   ],
   "source": [
    "def evenly_divisible(a,b,c):\n",
    "    \n",
    "    sum_fac = 0\n",
    "    \n",
    "    for i in range(a,b+1):\n",
    "        if i%c == 0:\n",
    "            sum_fac+=i\n",
    "    \n",
    "    return sum_fac\n",
    "\n",
    "comb = int(input('Enter the number of combinations to try: '))\n",
    "print('\\n')\n",
    "\n",
    "for k in range(comb):\n",
    "    a,b,c = input('Enter the range and numbers a, b and target c: ').split()\n",
    "    print(f'Sum of numbers divisible by {int(c)} between {int(a)} and {int(b)} is {evenly_divisible(int(a),int(b),int(c))}\\n')\n"
   ]
  },
  {
   "cell_type": "markdown",
   "id": "a531e1bb",
   "metadata": {},
   "source": [
    "# Question 2:\n",
    "\n",
    "### Create a function that returns True if a given inequality expression is correct and False otherwise."
   ]
  },
  {
   "cell_type": "code",
   "execution_count": 42,
   "id": "b3df2ef4",
   "metadata": {},
   "outputs": [
    {
     "name": "stdout",
     "output_type": "stream",
     "text": [
      "Enter the number of expressions: 3\n",
      "\n",
      "\n",
      "Enter the expression: 3 < 7 < 11\n",
      "Result is: True\n",
      "\n",
      "Enter the expression: 13 > 44 > 33 > 1\n",
      "Result is: False\n",
      "\n",
      "Enter the expression: 1 < 2 < 6 < 9 > 3\n",
      "Result is: True\n",
      "\n"
     ]
    }
   ],
   "source": [
    "def eval_expression(expression):\n",
    "    return eval(expression)\n",
    "\n",
    "num_expressions = int(input('Enter the number of expressions: '))\n",
    "\n",
    "print('\\n')\n",
    "\n",
    "for i in range(num_expressions):\n",
    "    expression = input('Enter the expression: ')\n",
    "    print(f'Result is: {eval_expression(expression)}\\n')"
   ]
  },
  {
   "cell_type": "markdown",
   "id": "35408bcb",
   "metadata": {},
   "source": [
    "# Question 3:\n",
    "\n",
    "### Create a function that replaces all the vowels in a string with a specified character."
   ]
  },
  {
   "cell_type": "code",
   "execution_count": 5,
   "id": "f7ef2e22",
   "metadata": {},
   "outputs": [
    {
     "name": "stdout",
     "output_type": "stream",
     "text": [
      "Enter the number of strings to be modified: 3\n",
      "\n",
      "\n",
      "Enter the string to be modified: the aardvark\n",
      "Enter the string for replacement: #\n",
      "Replaced string is : th# ##rdv#rk\n",
      "\n",
      "Enter the string to be modified: minnie mouse\n",
      "Enter the string for replacement: ?\n",
      "Replaced string is : m?nn?? m??s?\n",
      "\n",
      "Enter the string to be modified: shakespeare\n",
      "Enter the string for replacement: *\n",
      "Replaced string is : sh*k*sp**r*\n",
      "\n"
     ]
    }
   ],
   "source": [
    "def string_replace(string, to_replace, for_replacement):\n",
    "    \n",
    "    for ele in to_replace:\n",
    "        string = string.replace(ele, for_replacement)\n",
    "    \n",
    "    return string\n",
    "\n",
    "num_str = int(input('Enter the number of strings to be modified: '))\n",
    "\n",
    "print('\\n')\n",
    "\n",
    "string_to_be_replaced = 'AEIOUaeiou'\n",
    "\n",
    "for k in range(num_str):\n",
    "    string = input('Enter the string to be modified: ')\n",
    "    replacement = input('Enter the string for replacement: ')\n",
    "    print(f'Replaced string is : {string_replace(string, string_to_be_replaced, replacement)}\\n')\n"
   ]
  },
  {
   "cell_type": "markdown",
   "id": "fcf3457a",
   "metadata": {},
   "source": [
    "# Question 4:\n",
    "\n",
    "### Write a function that calculates the factorial of a number recursively."
   ]
  },
  {
   "cell_type": "code",
   "execution_count": 4,
   "id": "eb9f8b94",
   "metadata": {},
   "outputs": [
    {
     "name": "stdout",
     "output_type": "stream",
     "text": [
      "Enter the desired number: 5\n",
      "\n",
      "Factorial of 5 is : 120\n"
     ]
    }
   ],
   "source": [
    "def factorial(num):\n",
    "    if num == 1 or num == 0:\n",
    "        return 1\n",
    "    else:\n",
    "        return num*factorial(num-1)\n",
    "    \n",
    "number = int(input('Enter the desired number: '))\n",
    "\n",
    "print(f'\\nFactorial of {number} is : {factorial(number)}')"
   ]
  },
  {
   "cell_type": "markdown",
   "id": "a4d6a5c5",
   "metadata": {},
   "source": [
    "# Question 5:\n",
    "\n",
    "### Create a function that computes the hamming distance between two strings."
   ]
  },
  {
   "cell_type": "code",
   "execution_count": 9,
   "id": "e1dc2660",
   "metadata": {},
   "outputs": [
    {
     "name": "stdout",
     "output_type": "stream",
     "text": [
      "Enter the strings: abcde bcdef\n",
      "\n",
      "The Hamming Distance is: 5\n"
     ]
    }
   ],
   "source": [
    "def hamming(str1, str2):\n",
    "    \n",
    "    ham = 0\n",
    "    \n",
    "    if len(str1) != len(str2):\n",
    "        return 'Strings are of unequal length'\n",
    "    else:\n",
    "        for k in range(len(str1)):\n",
    "            if str1[k] != str2[k]:\n",
    "                ham+=1\n",
    "    \n",
    "    return ham\n",
    "\n",
    "str1, str2 = input('Enter the strings: ').split()\n",
    "\n",
    "print(f'\\nThe Hamming Distance is: {hamming(str1, str2)}')"
   ]
  }
 ],
 "metadata": {
  "kernelspec": {
   "display_name": "Python 3",
   "language": "python",
   "name": "python3"
  },
  "language_info": {
   "codemirror_mode": {
    "name": "ipython",
    "version": 3
   },
   "file_extension": ".py",
   "mimetype": "text/x-python",
   "name": "python",
   "nbconvert_exporter": "python",
   "pygments_lexer": "ipython3",
   "version": "3.8.8"
  }
 },
 "nbformat": 4,
 "nbformat_minor": 5
}
