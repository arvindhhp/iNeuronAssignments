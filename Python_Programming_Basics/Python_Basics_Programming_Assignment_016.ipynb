{
 "cells": [
  {
   "cell_type": "markdown",
   "id": "aee1383a",
   "metadata": {},
   "source": [
    "# Question 1:\n",
    "\n",
    "## Write a function that stutters a word as if someone is struggling to read it. The first two letters are repeated twice with an ellipsis ... and space after each, and then the word is pronounced with a question mark ?."
   ]
  },
  {
   "cell_type": "code",
   "execution_count": 1,
   "id": "96f68d11",
   "metadata": {},
   "outputs": [
    {
     "name": "stdout",
     "output_type": "stream",
     "text": [
      "Enter the list of words : incredible enthusiastic outstanding\n",
      "\n",
      "\n",
      "in... in... incredible?\n",
      "en... en... enthusiastic?\n",
      "ou... ou... outstanding?\n"
     ]
    }
   ],
   "source": [
    "def stutter(word):\n",
    "    return word[0:2] + '... ' + word[0:2] + '... ' + word + '?'\n",
    "\n",
    "words = input('Enter the list of words : ').split()\n",
    "\n",
    "print('\\n')\n",
    "\n",
    "for word in words:\n",
    "    print(stutter(word))"
   ]
  },
  {
   "cell_type": "markdown",
   "id": "58c0aa84",
   "metadata": {},
   "source": [
    "# Question 2:\n",
    "\n",
    "## Create a function that takes an angle in radians and returns the corresponding angle in degrees rounded to one decimal place."
   ]
  },
  {
   "cell_type": "code",
   "execution_count": 2,
   "id": "fa5d6e47",
   "metadata": {},
   "outputs": [
    {
     "name": "stdout",
     "output_type": "stream",
     "text": [
      "Enter the angles in radians : 1 20 50\n",
      "\n",
      "\n",
      "Angle in degrees rounded to 1 decimal is : 57.3\n",
      "Angle in degrees rounded to 1 decimal is : 1145.9\n",
      "Angle in degrees rounded to 1 decimal is : 2864.8\n"
     ]
    }
   ],
   "source": [
    "def todeg(radians):\n",
    "    return round(radians*57.296,1)\n",
    "\n",
    "angles = input('Enter the angles in radians : ').split()\n",
    "\n",
    "print('\\n')\n",
    "\n",
    "for radians in angles:\n",
    "    print(f'Angle in degrees rounded to 1 decimal is : {todeg(float(radians))}')\n"
   ]
  },
  {
   "cell_type": "markdown",
   "id": "178540e7",
   "metadata": {},
   "source": [
    "# Question 3:\n",
    "\n",
    "## In this challenge, establish if a given integer num is a Curzon number. If 1 plus 2 elevated to num is exactly divisible by 1 plus 2 multiplied by num, then num is a Curzon number.\n",
    "\n",
    "## Given a non-negative integer num, implement a function that returns True if num is a Curzon number, or False otherwise."
   ]
  },
  {
   "cell_type": "code",
   "execution_count": 3,
   "id": "2a073478",
   "metadata": {},
   "outputs": [
    {
     "name": "stdout",
     "output_type": "stream",
     "text": [
      "Enter the list of numbers : 5 10 14\n",
      "\n",
      "\n",
      "Is 5 a Cruzons number : True\n",
      "Is 10 a Cruzons number : False\n",
      "Is 14 a Cruzons number : True\n"
     ]
    }
   ],
   "source": [
    "def curzons(number):\n",
    "    flag = False\n",
    "    \n",
    "    if number <= 0 or type(number) is not int:\n",
    "        return 'Number should be a postive integer'\n",
    "    else:\n",
    "        curz = 2**(number) + 1\n",
    "        check = 2*(number) + 1\n",
    "        \n",
    "        if curz % check == 0:\n",
    "            flag = True\n",
    "            return flag\n",
    "        \n",
    "        else:\n",
    "            return flag\n",
    "\n",
    "numbers = input('Enter the list of numbers : ').split()\n",
    "\n",
    "print('\\n')\n",
    "\n",
    "for number in numbers:\n",
    "    print(f'Is {int(number)} a Cruzons number : {curzons(int(number))}')"
   ]
  },
  {
   "cell_type": "markdown",
   "id": "90c08d49",
   "metadata": {},
   "source": [
    "# Question 4:\n",
    "\n",
    "## Given the side length x find the area of a hexagon."
   ]
  },
  {
   "cell_type": "code",
   "execution_count": 4,
   "id": "ed92b434",
   "metadata": {},
   "outputs": [
    {
     "name": "stdout",
     "output_type": "stream",
     "text": [
      "Enter the side of hexagons 1 2 3\n",
      "\n",
      "\n",
      "Area of Hexagon 1 is 2.6\n",
      "Area of Hexagon 2 is 10.4\n",
      "Area of Hexagon 3 is 23.4\n"
     ]
    }
   ],
   "source": [
    "def areahex(side):\n",
    "    return round(3*(3**0.5)*(side**2)/2,1)\n",
    "\n",
    "sides = input('Enter the side of hexagons ').split()\n",
    "\n",
    "counter = 1\n",
    "\n",
    "print('\\n')\n",
    "\n",
    "for side in sides:\n",
    "    print(f'Area of Hexagon {counter} is {areahex(float(side))}')\n",
    "    counter+=1"
   ]
  },
  {
   "cell_type": "markdown",
   "id": "857e870a",
   "metadata": {},
   "source": [
    "# Question 5:\n",
    "\n",
    "## Create a function that returns a base-2 (binary) representation of a base-10 (decimal) string number."
   ]
  },
  {
   "cell_type": "code",
   "execution_count": 5,
   "id": "1187f2da",
   "metadata": {},
   "outputs": [
    {
     "name": "stdout",
     "output_type": "stream",
     "text": [
      "Enter the decimal numbers : 1 5 10\n",
      "Binary of 1 is 1\n",
      "Binary of 5 is 101\n",
      "Binary of 10 is 1010\n"
     ]
    }
   ],
   "source": [
    "binary = []\n",
    "\n",
    "def converttonum(lst):\n",
    "    lst.reverse()\n",
    "    binary_string = ''\n",
    "    for index in range(len(lst)):\n",
    "        binary_string+=str(lst[index])\n",
    "    return int(binary_string)\n",
    "        \n",
    "        \n",
    "def dectobin(decimal, binary):\n",
    "    if int(decimal/2) == 0:\n",
    "        binary.append(decimal%2)\n",
    "        binary = converttonum(binary)\n",
    "        return binary\n",
    "    \n",
    "    else:\n",
    "        binary.append(decimal%2)\n",
    "        return dectobin(int(decimal/2), binary)\n",
    "\n",
    "decimals = input('Enter the decimal numbers : ').split()\n",
    "\n",
    "for decimal in decimals:\n",
    "    print(f'Binary of {int(decimal)} is {dectobin(int(decimal),[])}')"
   ]
  }
 ],
 "metadata": {
  "kernelspec": {
   "display_name": "Python 3",
   "language": "python",
   "name": "python3"
  },
  "language_info": {
   "codemirror_mode": {
    "name": "ipython",
    "version": 3
   },
   "file_extension": ".py",
   "mimetype": "text/x-python",
   "name": "python",
   "nbconvert_exporter": "python",
   "pygments_lexer": "ipython3",
   "version": "3.8.8"
  }
 },
 "nbformat": 4,
 "nbformat_minor": 5
}
