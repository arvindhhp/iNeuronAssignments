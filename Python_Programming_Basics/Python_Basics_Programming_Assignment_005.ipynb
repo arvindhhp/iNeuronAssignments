{
 "cells": [
  {
   "cell_type": "markdown",
   "metadata": {},
   "source": [
    "# Question 1: Python Program to Calculate LCM of two numbers"
   ]
  },
  {
   "cell_type": "code",
   "execution_count": 1,
   "metadata": {},
   "outputs": [
    {
     "name": "stdout",
     "output_type": "stream",
     "text": [
      "Enter two numbers: 23 12\n",
      "\n",
      "LCM of 23 and 12 is : 276\n"
     ]
    }
   ],
   "source": [
    "num1, num2 = input('Enter two numbers: ').split()\n",
    "num1 = int(num1)\n",
    "num2 = int(num2)\n",
    "\n",
    "greater = 0\n",
    "\n",
    "if num1>num2:\n",
    "    greater = num1\n",
    "else:\n",
    "    greater = num2\n",
    "    \n",
    "\n",
    "flag = True\n",
    "LCM=0\n",
    "\n",
    "while flag:\n",
    "    \n",
    "    if (greater % num1 == 0) and (greater % num2 == 0):\n",
    "        LCM = greater\n",
    "        flag = False\n",
    "        \n",
    "    else:\n",
    "        greater+=1\n",
    "\n",
    "print(f'\\nLCM of {num1} and {num2} is : {LCM}')"
   ]
  },
  {
   "cell_type": "markdown",
   "metadata": {},
   "source": [
    "# Question 2: Python Program to Calculate HCF of two numbers"
   ]
  },
  {
   "cell_type": "code",
   "execution_count": 2,
   "metadata": {},
   "outputs": [
    {
     "name": "stdout",
     "output_type": "stream",
     "text": [
      "Enter two numbers: 88 99\n",
      "\n",
      "HCF of 88 and 99 is : 11\n"
     ]
    }
   ],
   "source": [
    "num1, num2 = input('Enter two numbers: ').split()\n",
    "num1 = int(num1)\n",
    "num2 = int(num2)\n",
    "\n",
    "greater = 0\n",
    "lesser = 0\n",
    "\n",
    "if num1>num2:\n",
    "    greater = num1\n",
    "    lesser = num2\n",
    "else:\n",
    "    greater = num2\n",
    "    lesser = num1\n",
    "    \n",
    "\n",
    "HCF=1\n",
    "\n",
    "for num in range(2,lesser+1):\n",
    "    if (lesser % num == 0) and (greater % num ==0):\n",
    "        HCF = num\n",
    "\n",
    "print(f'\\nHCF of {num1} and {num2} is : {HCF}')"
   ]
  },
  {
   "cell_type": "markdown",
   "metadata": {},
   "source": [
    "# Question 3: Converting Decimal Num to Binary, Octal and Hexadecimal"
   ]
  },
  {
   "cell_type": "code",
   "execution_count": 3,
   "metadata": {},
   "outputs": [
    {
     "name": "stdout",
     "output_type": "stream",
     "text": [
      "Enter the Decimal Number to be converted: 31\n",
      "\n",
      "Binary of 31 is : 11111\n",
      "Octal of 31 is : 37\n",
      "Hexadecimal of 31 is : 1F\n"
     ]
    }
   ],
   "source": [
    "input_num = int(input(\"Enter the Decimal Number to be converted: \"))\n",
    "\n",
    "\n",
    "binary = \"\"\n",
    "octal = \"\"\n",
    "hexa = \"\"\n",
    "\n",
    "#binary conversion\n",
    "\n",
    "num = input_num\n",
    "\n",
    "while num > 0:\n",
    "    temp = num % 2\n",
    "    num = int(num / 2)\n",
    "    binary += str(temp)\n",
    "    \n",
    "binary = binary[::-1]\n",
    "\n",
    "#Octal conversion\n",
    "\n",
    "num = input_num\n",
    "\n",
    "while num > 0:\n",
    "    temp = num % 8\n",
    "    num = int(num / 8)\n",
    "    octal += str(temp)\n",
    "    \n",
    "octal = octal[::-1]\n",
    "\n",
    "#Hexadecimal conversion\n",
    "\n",
    "num = input_num\n",
    "\n",
    "while num > 0:\n",
    "    temp = num % 16\n",
    "    \n",
    "    #Assigning A to F for decimal remainders in [10,15]\n",
    "    if temp == 10:\n",
    "        temp = 'A'\n",
    "    elif temp == 11:\n",
    "        temp = 'B'\n",
    "    elif temp == 12:\n",
    "        temp = 'C'\n",
    "    elif temp == 13:\n",
    "        temp = 'D'\n",
    "    elif temp == 14:\n",
    "        temp = 'E'\n",
    "    elif temp == 15:\n",
    "        temp = 'F'\n",
    "    \n",
    "    num = int(num/16)\n",
    "    hexa += str(temp)\n",
    "    \n",
    "hexa = hexa[::-1]\n",
    "\n",
    "\n",
    "print(f'\\nBinary of {input_num} is : {binary}')\n",
    "print(f'Octal of {input_num} is : {octal}')\n",
    "print(f'Hexadecimal of {input_num} is : {hexa}')"
   ]
  },
  {
   "cell_type": "markdown",
   "metadata": {},
   "source": [
    "# Question 4: Python Program to find ASCII Value of a Character"
   ]
  },
  {
   "cell_type": "code",
   "execution_count": 4,
   "metadata": {},
   "outputs": [
    {
     "name": "stdout",
     "output_type": "stream",
     "text": [
      "Enter the desired Chracter: &\n",
      "ASCII Value of '&' is 38\n"
     ]
    }
   ],
   "source": [
    "input_char = input(\"Enter the desired Chracter: \")\n",
    "\n",
    "ascii_value = ord(input_char)\n",
    "\n",
    "print(f\"ASCII Value of '{input_char}' is {ascii_value}\")"
   ]
  },
  {
   "cell_type": "markdown",
   "metadata": {},
   "source": [
    "# Question 5: Python Program to build a Basic Calculator"
   ]
  },
  {
   "cell_type": "code",
   "execution_count": 5,
   "metadata": {},
   "outputs": [
    {
     "name": "stdout",
     "output_type": "stream",
     "text": [
      "Enter the operands and operator: 21 35 /\n",
      "\n",
      "Division of 21.0 and 35.0 results in 0.6\n"
     ]
    }
   ],
   "source": [
    "num1, num2, operator = input('Enter the operands and operator: ').split()\n",
    "\n",
    "num1 = float(num1)\n",
    "num2 = float(num2)\n",
    "\n",
    "result = 0\n",
    "operation = ''\n",
    "\n",
    "if operator == '+':\n",
    "    result = num1 + num2\n",
    "    operation = 'Addition'\n",
    "\n",
    "elif operator == '-':\n",
    "    result = num1 - num2\n",
    "    operation = 'Subtraction'\n",
    "\n",
    "elif operator == '*':\n",
    "    result = num1 * num2\n",
    "    operation = 'Multiplication'\n",
    "\n",
    "elif operator == '/':\n",
    "    result = (num1 / num2)\n",
    "    operation = 'Division'\n",
    "    \n",
    "else:\n",
    "    result = 'Invalid Result'\n",
    "    operation = 'Incorrect Operator'\n",
    "    \n",
    "print(f'\\n{operation} of {num1} and {num2} results in {result}')"
   ]
  }
 ],
 "metadata": {
  "kernelspec": {
   "display_name": "Python 3",
   "language": "python",
   "name": "python3"
  },
  "language_info": {
   "codemirror_mode": {
    "name": "ipython",
    "version": 3
   },
   "file_extension": ".py",
   "mimetype": "text/x-python",
   "name": "python",
   "nbconvert_exporter": "python",
   "pygments_lexer": "ipython3",
   "version": "3.7.6"
  }
 },
 "nbformat": 4,
 "nbformat_minor": 4
}
