{
 "cells": [
  {
   "cell_type": "markdown",
   "id": "68e0358f",
   "metadata": {},
   "source": [
    "# Question 1:\n",
    "\n",
    "Define a class with a generator which can iterate the numbers, which are divisible by 7, between a given range 0 and n."
   ]
  },
  {
   "cell_type": "code",
   "execution_count": 1,
   "id": "9b65f316",
   "metadata": {},
   "outputs": [
    {
     "name": "stdout",
     "output_type": "stream",
     "text": [
      "Enter the max limit : 100\n",
      "List of numbers divisible by 7 between 0 and 100 is:\n",
      "\n",
      "[7, 14, 21, 28, 35, 42, 49, 56, 63, 70, 77, 84, 91, 98]\n"
     ]
    }
   ],
   "source": [
    "class Seven():\n",
    "    \n",
    "    def __init__(self, number):\n",
    "        self.number = number\n",
    "        self.multiples = []\n",
    "    \n",
    "    def div_by_7(self):\n",
    "        for i in range(self.number):\n",
    "            \n",
    "            #0 has not been considered as a multiple of 7\n",
    "            if i % 7 == 0 and i != 0: \n",
    "                self.multiples.append(i)\n",
    "            yield i\n",
    "            \n",
    "number = int(input('Enter the max limit : '))\n",
    "instance = Seven(number)\n",
    "yield_ = instance.div_by_7()\n",
    "\n",
    "#Defining this for loop to extract all the multiples at once by running the generator mutiple times\n",
    "#Removing this for loop would make the user call the next() manually multiple times\n",
    "\n",
    "for item in yield_:\n",
    "    pass\n",
    "    \n",
    "print(f'List of numbers divisible by 7 between 0 and {number} is:\\n\\n{instance.multiples}')"
   ]
  },
  {
   "cell_type": "markdown",
   "id": "500e06c5",
   "metadata": {},
   "source": [
    "# Question 2:\n",
    "\n",
    "Write a program to compute the frequency of the words from the input."
   ]
  },
  {
   "cell_type": "code",
   "execution_count": 2,
   "id": "af9ba567",
   "metadata": {},
   "outputs": [
    {
     "name": "stdout",
     "output_type": "stream",
     "text": [
      "Enter the desired sentence\n",
      "New to Python or choosing between Python 2 and Python 3? Read Python 2 or Python 3.\n",
      "\n",
      "Desired Output\n",
      "\n",
      "2:2\n",
      "3.:1\n",
      "3?:1\n",
      "New:1\n",
      "Python:5\n",
      "Read:1\n",
      "and:1\n",
      "between:1\n",
      "choosing:1\n",
      "or:2\n",
      "to:1\n"
     ]
    }
   ],
   "source": [
    "import re\n",
    "from collections import OrderedDict\n",
    "\n",
    "sentence = input('Enter the desired sentence\\n')\n",
    "        \n",
    "words = sentence.split()\n",
    "\n",
    "sorted_words = sorted(words)\n",
    "count_words = OrderedDict()\n",
    "\n",
    "for word in sorted_words:\n",
    "    count_words[word] = sorted_words.count(word)\n",
    "\n",
    "print('\\nDesired Output\\n')\n",
    "\n",
    "for key,values in count_words.items():\n",
    "    print(f'{key}:{values}')"
   ]
  },
  {
   "cell_type": "markdown",
   "id": "f26245e1",
   "metadata": {},
   "source": [
    "# Question 3:\n",
    "\n",
    "Define a class Person and its two child classes: Male and Female. All classes have a method &quot;getGender&quot; which can print &quot;Male&quot; for Male class and &quot;Female&quot; for Female class."
   ]
  },
  {
   "cell_type": "code",
   "execution_count": 3,
   "id": "90dc73fa",
   "metadata": {},
   "outputs": [
    {
     "name": "stdout",
     "output_type": "stream",
     "text": [
      "Enter the gender, M or F: F\n",
      "\n",
      "\n",
      "Female\n"
     ]
    }
   ],
   "source": [
    "class Person():\n",
    "    def __init__(self):\n",
    "        pass\n",
    "    \n",
    "    def getGender(self):\n",
    "        return 'Call the specific Child Class Method'\n",
    "\n",
    "#Inheriting child class Male from super Person\n",
    "\n",
    "class Male(Person):\n",
    "    def __init__(self):\n",
    "        pass\n",
    "    \n",
    "    #Method over-riding\n",
    "    def getGender(self):\n",
    "        return 'Male'\n",
    "\n",
    "#Inheriting child class Female from super Person\n",
    "\n",
    "class Female(Person):\n",
    "    def __init__(self):\n",
    "        pass\n",
    "    \n",
    "    #Method over-riding\n",
    "    def getGender(self):\n",
    "        return 'Female'\n",
    "    \n",
    "#Main Program\n",
    "\n",
    "gender = input('Enter the gender, M or F: ')\n",
    "\n",
    "print('\\n')\n",
    "\n",
    "if gender == 'M':\n",
    "    random_person = Male()\n",
    "    print(random_person.getGender())\n",
    "    \n",
    "elif gender == 'F':\n",
    "    random_person = Female()\n",
    "    print(random_person.getGender())"
   ]
  },
  {
   "cell_type": "markdown",
   "id": "78e99ce6",
   "metadata": {},
   "source": [
    "# Question 4:\n",
    "\n",
    "write a program to generate all sentences where subject is in [&quot;I&quot;, &quot;You&quot;] and\n",
    "verb is in [&quot;Play&quot;, &quot;Love&quot;] and the object is in [&quot;Hockey&quot;,&quot;Football&quot;]."
   ]
  },
  {
   "cell_type": "code",
   "execution_count": 4,
   "id": "c928cf00",
   "metadata": {},
   "outputs": [
    {
     "name": "stdout",
     "output_type": "stream",
     "text": [
      "List of senences generated are\n",
      "\n",
      "\n",
      "I Play Hockey\n",
      "I Play Football\n",
      "I Love Hockey\n",
      "I Love Football\n",
      "You Play Hockey\n",
      "You Play Football\n",
      "You Love Hockey\n",
      "You Love Football\n"
     ]
    }
   ],
   "source": [
    "subjects = ['I' , 'You']\n",
    "verbs = ['Play' , 'Love']\n",
    "objects = ['Hockey' , 'Football']\n",
    "sentences = []\n",
    "\n",
    "for sub in subjects:\n",
    "    for ver in verbs:\n",
    "        for obj in objects:\n",
    "            sentences.append(sub+' '+ver+' '+obj)\n",
    "            \n",
    "print('List of senences generated are\\n\\n')\n",
    "\n",
    "for sentence in sentences:\n",
    "    print(sentence)"
   ]
  },
  {
   "cell_type": "markdown",
   "id": "20346f7c",
   "metadata": {},
   "source": [
    "# Question 5:\n",
    "\n",
    "Write a program to compress and decompress the string &quot;hello world!hello world!hello world!hello world!&quot;."
   ]
  },
  {
   "cell_type": "code",
   "execution_count": 5,
   "id": "77c3ad5e",
   "metadata": {},
   "outputs": [
    {
     "name": "stdout",
     "output_type": "stream",
     "text": [
      "b'\\x1f\\x8b\\x08\\x00\\xa1\\x97\\xfd`\\x02\\xff\\xcbH\\xcd\\xc9\\xc9W(\\xcf/\\xcaIQ\\xcc \\x82\\r\\x00\\xd3\\xe6\\xcf\\xae0\\x00\\x00\\x00'\n",
      "\n",
      "\n",
      "b'hello world!hello world!hello world!hello world!'\n"
     ]
    }
   ],
   "source": [
    "# import gzip and compress\n",
    "\n",
    "import gzip\n",
    "s = b\"hello world!hello world!hello world!hello world!\"\n",
    "comp_s = gzip.compress(s)\n",
    "print(comp_s)\n",
    "\n",
    "print('\\n')\n",
    "\n",
    "# using gzip.decompress(s) method\n",
    "decomp_t = gzip.decompress(comp_s)\n",
    "print(decomp_t)"
   ]
  },
  {
   "cell_type": "markdown",
   "id": "862e53fb",
   "metadata": {},
   "source": [
    "# Question 6:\n",
    "\n",
    "Write a binary search function which searches an item in a sorted list. The function should return the index of element to be searched in the list."
   ]
  },
  {
   "cell_type": "code",
   "execution_count": 7,
   "id": "fb31ae05",
   "metadata": {},
   "outputs": [
    {
     "name": "stdout",
     "output_type": "stream",
     "text": [
      "Enter a comma separated sequence of numbers to be searched in: 3,5,9.4,6.2,4.89,13.13,230,0,20\n",
      "Enter the number to be seached for: 13.13\n",
      "13.13 found at index 5\n"
     ]
    }
   ],
   "source": [
    "def binary_search(input_numbers, search_num, max_index, min_index):\n",
    "    \n",
    "    try:\n",
    "        if search_num == input_numbers[int((max_index + min_index) / 2)]:\n",
    "            print(f'{search_num} found at index {int((max_index + min_index) / 2)}')\n",
    "\n",
    "        elif search_num > input_numbers[int((max_index + min_index) / 2)]:\n",
    "            min_index = ((max_index + min_index) / 2)\n",
    "            binary_search(input_numbers, search_num, max_index, min_index)\n",
    "\n",
    "        elif search_num < input_numbers[int((max_index + min_index) / 2)]:\n",
    "            max_index = ((max_index + min_index) / 2)\n",
    "            binary_search(input_numbers, search_num, max_index, min_index)\n",
    "            \n",
    "    except RecursionError:\n",
    "        print(f'{search_num} NOT FOUND')\n",
    "        \n",
    "input_numbers = input('Enter a comma separated sequence of numbers to be searched in: ').split(',')\n",
    "\n",
    "for index in range(len(input_numbers)):\n",
    "    input_numbers[index] = float(input_numbers[index])\n",
    "    \n",
    "search_num = float(input('Enter the number to be seached for: '))\n",
    "\n",
    "x = binary_search(input_numbers, search_num, len(input_numbers) - 1, 0)"
   ]
  }
 ],
 "metadata": {
  "kernelspec": {
   "display_name": "Python 3",
   "language": "python",
   "name": "python3"
  },
  "language_info": {
   "codemirror_mode": {
    "name": "ipython",
    "version": 3
   },
   "file_extension": ".py",
   "mimetype": "text/x-python",
   "name": "python",
   "nbconvert_exporter": "python",
   "pygments_lexer": "ipython3",
   "version": "3.8.8"
  }
 },
 "nbformat": 4,
 "nbformat_minor": 5
}
