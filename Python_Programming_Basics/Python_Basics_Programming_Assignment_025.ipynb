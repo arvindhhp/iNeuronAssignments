{
 "cells": [
  {
   "cell_type": "markdown",
   "id": "0b830bcc",
   "metadata": {},
   "source": [
    "# Question 1:\n",
    "\n",
    "### Create a function that takes three integer arguments (a, b, c) and returns the amount of integers which are of equal value."
   ]
  },
  {
   "cell_type": "code",
   "execution_count": 12,
   "id": "517275f5",
   "metadata": {},
   "outputs": [
    {
     "name": "stdout",
     "output_type": "stream",
     "text": [
      "Equal : 3\n"
     ]
    }
   ],
   "source": [
    "#generic function which can work for any number of input numbers, not just 3\n",
    "#assumption, only 1 of the entered list of numbers repeats, multiple number repetitions are not considered\n",
    "\n",
    "def equal(*args):\n",
    "    \n",
    "    list_ = []\n",
    "    \n",
    "    for arg in args:\n",
    "        list_.append(arg)\n",
    "        \n",
    "    unique = dict()\n",
    "    \n",
    "    for k in list_:\n",
    "        unique[k] = list_.count(k)\n",
    "        \n",
    "    \n",
    "    if len(unique) == len(list_):\n",
    "        return 0\n",
    "    \n",
    "    else:\n",
    "        for key in unique:\n",
    "            if unique[key] != 1:\n",
    "                return unique[key]\n",
    "            \n",
    "a, b, c = 1, 1, 1\n",
    "    \n",
    "print(f'Equal : {equal(a, b, c)}')"
   ]
  },
  {
   "cell_type": "markdown",
   "id": "28689a0a",
   "metadata": {},
   "source": [
    "# Question 2:\n",
    "\n",
    "### Write a function that converts a dictionary into a list of keys-values tuples."
   ]
  },
  {
   "cell_type": "code",
   "execution_count": 21,
   "id": "280f622c",
   "metadata": {},
   "outputs": [
    {
     "name": "stdout",
     "output_type": "stream",
     "text": [
      "List of tuples is : [('dislikes', 2), ('followers', 10), ('likes', 2)]\n"
     ]
    }
   ],
   "source": [
    "def dict_to_list(dic):\n",
    "    \n",
    "    sort_list = []\n",
    "    \n",
    "    for tup in sorted(dic.items()):\n",
    "        sort_list.append(tup)\n",
    "        \n",
    "    return sort_list\n",
    "\n",
    "dic = {\"likes\":2, \"dislikes\":2, \"followers\":10 }\n",
    "\n",
    "print(f'List of tuples is : {dict_to_list(dic)}')"
   ]
  },
  {
   "cell_type": "markdown",
   "id": "ada3fb87",
   "metadata": {},
   "source": [
    "# Question 3:\n",
    "\n",
    "### Write a function that creates a dictionary with each (key, value) pair being the (lower case, upper case) versions of a letter, respectively."
   ]
  },
  {
   "cell_type": "code",
   "execution_count": 24,
   "id": "21f266ba",
   "metadata": {},
   "outputs": [
    {
     "name": "stdout",
     "output_type": "stream",
     "text": [
      "Enter the list of lettera v y z\n",
      "\n",
      "\n",
      "The dictionary is : {'a': 'A', 'v': 'V', 'y': 'Y', 'z': 'Z'}\n"
     ]
    }
   ],
   "source": [
    "def mapping(keys):\n",
    "    \n",
    "    dic = dict()\n",
    "    \n",
    "    for ele in keys:\n",
    "        dic[ele.lower()] = ele.upper()\n",
    "        \n",
    "    return dic\n",
    "\n",
    "keys = input('Enter the list of letter').split()\n",
    "\n",
    "print('\\n')\n",
    "\n",
    "print(f'The dictionary is : {mapping(keys)}')"
   ]
  },
  {
   "cell_type": "markdown",
   "id": "114cfc62",
   "metadata": {},
   "source": [
    "# Question 4:\n",
    "\n",
    "### Write a function, that replaces all vowels in a string with a specified vowel."
   ]
  },
  {
   "cell_type": "code",
   "execution_count": 52,
   "id": "0954dc71",
   "metadata": {
    "scrolled": true
   },
   "outputs": [
    {
     "name": "stdout",
     "output_type": "stream",
     "text": [
      "Enter the string and the replacing vowel: stuffed jalapeno poppers,e\n",
      "\n",
      "Replaced string is : steffed jelepene peppers\n"
     ]
    }
   ],
   "source": [
    "def vow_replace(string, vow):\n",
    "    \n",
    "    vowels = 'aAeEiIoOuU'\n",
    "    \n",
    "    for letter in vowels:\n",
    "        string = string.replace(letter, vow)\n",
    "        \n",
    "    return string\n",
    "\n",
    "string, vow = input('Enter the string and the replacing vowel: ').split(',')\n",
    "\n",
    "print(f'\\nReplaced string is : {vow_replace(string, vow)}')"
   ]
  },
  {
   "cell_type": "markdown",
   "id": "9f0cbb03",
   "metadata": {},
   "source": [
    "# Question 5:\n",
    "\n",
    "### Create a function that takes a string as input and capitalizes a letter if its ASCII code is even and returns its lower case version if its ASCII code is odd."
   ]
  },
  {
   "cell_type": "code",
   "execution_count": 54,
   "id": "c0953da8",
   "metadata": {},
   "outputs": [
    {
     "name": "stdout",
     "output_type": "stream",
     "text": [
      "Enter the string : Oh what a beautiful morning\n",
      "\n",
      "ASCII Capitalized String is : oH wHaT a BeauTiFuL moRNiNg\n"
     ]
    }
   ],
   "source": [
    "def ascii_capitalize(string):\n",
    "    \n",
    "    for letter in string:\n",
    "        if ord(letter) % 2 == 0:\n",
    "            string = string.replace(letter, letter.upper())\n",
    "        else:\n",
    "            string = string.replace(letter, letter.lower())\n",
    "            \n",
    "    return string\n",
    "            \n",
    "string = input('Enter the string : ')\n",
    "\n",
    "print(f'\\nASCII Capitalized String is : {ascii_capitalize(string)}')"
   ]
  }
 ],
 "metadata": {
  "kernelspec": {
   "display_name": "Python 3",
   "language": "python",
   "name": "python3"
  },
  "language_info": {
   "codemirror_mode": {
    "name": "ipython",
    "version": 3
   },
   "file_extension": ".py",
   "mimetype": "text/x-python",
   "name": "python",
   "nbconvert_exporter": "python",
   "pygments_lexer": "ipython3",
   "version": "3.8.8"
  }
 },
 "nbformat": 4,
 "nbformat_minor": 5
}
