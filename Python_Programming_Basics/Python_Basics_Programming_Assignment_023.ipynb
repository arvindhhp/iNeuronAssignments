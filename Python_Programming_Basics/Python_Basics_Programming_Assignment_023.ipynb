{
 "cells": [
  {
   "cell_type": "markdown",
   "id": "ee2dcdf5",
   "metadata": {},
   "source": [
    "# Question 1:\n",
    "\n",
    "### Create a function that takes a number as an argument and returns True or False depending on whether the number is symmetrical or not. A number is symmetrical when it is the same as its reverse."
   ]
  },
  {
   "cell_type": "code",
   "execution_count": 4,
   "id": "a33540de",
   "metadata": {},
   "outputs": [
    {
     "name": "stdout",
     "output_type": "stream",
     "text": [
      "Enter the numbers to be compared: 7227 12567 44444444 9939 1112111\n",
      "\n",
      "\n",
      "Is 7227 symmetrical : True\n",
      "\n",
      "Is 12567 symmetrical : False\n",
      "\n",
      "Is 44444444 symmetrical : True\n",
      "\n",
      "Is 9939 symmetrical : False\n",
      "\n",
      "Is 1112111 symmetrical : True\n",
      "\n"
     ]
    }
   ],
   "source": [
    "def is_symmetrical(string):\n",
    "    \n",
    "    if string == string[::-1]:\n",
    "        return True\n",
    "    \n",
    "    else:\n",
    "        return False\n",
    "    \n",
    "nums = input('Enter the numbers to be compared: ').split()\n",
    "\n",
    "print('\\n')\n",
    "\n",
    "for num in nums:\n",
    "    print(f'Is {int(num)} symmetrical : {is_symmetrical(num)}\\n')"
   ]
  },
  {
   "cell_type": "markdown",
   "id": "370dd2c8",
   "metadata": {},
   "source": [
    "# Question 2:\n",
    "\n",
    "### Given a string of numbers separated by a comma and space, return the product of the numbers."
   ]
  },
  {
   "cell_type": "code",
   "execution_count": 14,
   "id": "24610fa6",
   "metadata": {},
   "outputs": [
    {
     "name": "stdout",
     "output_type": "stream",
     "text": [
      "Enter the string of numbers : \"1, 2, 3, -4\"\n",
      "Product of numbers is : -24\n"
     ]
    }
   ],
   "source": [
    "def multiply_nums(string):\n",
    "    \n",
    "    start_indices = [1]\n",
    "    end_indices = []\n",
    "    \n",
    "    for index, letter in enumerate(string):\n",
    "        if letter == \",\":\n",
    "            start_indices.append(index+2)\n",
    "            end_indices.append(index-1)\n",
    "    \n",
    "    end_indices.append(len(string)-2)\n",
    "    \n",
    "    prod = 1\n",
    "    \n",
    "    for i, j in zip(start_indices, end_indices):\n",
    "        prod = prod*int(string[i:j+1])\n",
    "    \n",
    "    return prod\n",
    "\n",
    "string = input('Enter the string of numbers : ')\n",
    "\n",
    "print(f'Product of numbers is : {multiply_nums(string)}')"
   ]
  },
  {
   "cell_type": "markdown",
   "id": "62709dc8",
   "metadata": {},
   "source": [
    "# Question 3:\n",
    "\n",
    "### Create a function that squares every digit of a number."
   ]
  },
  {
   "cell_type": "code",
   "execution_count": 20,
   "id": "a284c181",
   "metadata": {},
   "outputs": [
    {
     "name": "stdout",
     "output_type": "stream",
     "text": [
      "Enter the numbers : 9119 2483 3212\n",
      "\n",
      "\n",
      "Squared Digits : 811181\n",
      "\n",
      "Squared Digits : 416649\n",
      "\n",
      "Squared Digits : 9414\n",
      "\n"
     ]
    }
   ],
   "source": [
    "def square_digits(num):\n",
    "    \n",
    "    sq_string = ''\n",
    "    \n",
    "    for k in str(num):\n",
    "        sq_string += str((int(k))**2)\n",
    "    \n",
    "    return int(sq_string)\n",
    "\n",
    "numbers = input('Enter the numbers : ').split()\n",
    "\n",
    "print('\\n')\n",
    "\n",
    "for num in numbers:\n",
    "    print(f'Squared Digits : {square_digits(int(num))}\\n')"
   ]
  },
  {
   "cell_type": "markdown",
   "id": "554223e3",
   "metadata": {},
   "source": [
    "# Question 4:\n",
    "\n",
    "### Create a function that sorts a list and removes all duplicate items from it."
   ]
  },
  {
   "cell_type": "code",
   "execution_count": 27,
   "id": "83fa0b51",
   "metadata": {},
   "outputs": [
    {
     "name": "stdout",
     "output_type": "stream",
     "text": [
      "\n",
      "Sorted List without duplicates : [0, 1, 2, 3, 4, 7]\n"
     ]
    }
   ],
   "source": [
    "def setify(list_):\n",
    "    return sorted(list(set(list_)))\n",
    "\n",
    "list_ = [1, 2, 4, 4, 3, 0, 1, 7]\n",
    "\n",
    "print(f'\\nSorted List without duplicates : {setify(list_)}')"
   ]
  },
  {
   "cell_type": "markdown",
   "id": "4adf33fb",
   "metadata": {},
   "source": [
    "# Question 5:\n",
    "\n",
    "### Create a function that returns the mean of all digits."
   ]
  },
  {
   "cell_type": "code",
   "execution_count": 30,
   "id": "6ba1905e",
   "metadata": {},
   "outputs": [
    {
     "name": "stdout",
     "output_type": "stream",
     "text": [
      "Enter the number: 12345\n",
      "\n",
      "Mean of digits is : 3\n"
     ]
    }
   ],
   "source": [
    "def mean_digits(number):\n",
    "    \n",
    "    sum_ = 0\n",
    "    \n",
    "    for dig in str(number):\n",
    "        sum_ += int(dig)\n",
    "        \n",
    "    return int(sum_/len(str(number)))\n",
    "\n",
    "number = input('Enter the number: ')\n",
    "\n",
    "print(f'\\nMean of digits is : {mean_digits(number)}')"
   ]
  }
 ],
 "metadata": {
  "kernelspec": {
   "display_name": "Python 3",
   "language": "python",
   "name": "python3"
  },
  "language_info": {
   "codemirror_mode": {
    "name": "ipython",
    "version": 3
   },
   "file_extension": ".py",
   "mimetype": "text/x-python",
   "name": "python",
   "nbconvert_exporter": "python",
   "pygments_lexer": "ipython3",
   "version": "3.8.8"
  }
 },
 "nbformat": 4,
 "nbformat_minor": 5
}
