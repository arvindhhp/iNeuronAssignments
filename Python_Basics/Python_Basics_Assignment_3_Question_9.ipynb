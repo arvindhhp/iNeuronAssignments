{
 "cells": [
  {
   "cell_type": "markdown",
   "metadata": {},
   "source": [
    "# Python Basics Assignment 3, Question 9\n",
    "global and local varibale example"
   ]
  },
  {
   "cell_type": "markdown",
   "metadata": {},
   "source": [
    "Usage of the keyword ‘global’ ahead of the variable name makes the function variable to refer the global variable itself"
   ]
  },
  {
   "cell_type": "code",
   "execution_count": 25,
   "metadata": {
    "scrolled": true
   },
   "outputs": [],
   "source": [
    "#Global Variable x is defined and assigned a value at the start of the code\n",
    "admin='Arvind'"
   ]
  },
  {
   "cell_type": "code",
   "execution_count": 29,
   "metadata": {},
   "outputs": [],
   "source": [
    "#Function Definition to differentiate Local Variable Scope  and Global Variable\n",
    "def all_admins():\n",
    "    global admin #Usage of global keyword\n",
    "    #The function will refer to the global variable 'admin' throughout\n",
    "    admin='Hari' #Variable definition ambiguous to the global variable, this updates the value of the global variable itself\n",
    "    global_admin = admin\n",
    "            \n",
    "    #The output shows the global value ‘Hari’ is assigned to global_admin\n",
    "    #global variable global_admin has been modified\n",
    "    print(f'The Local Admin is {admin}')\n",
    "    print(f'The global admin in {global_admin}')\n"
   ]
  },
  {
   "cell_type": "code",
   "execution_count": 30,
   "metadata": {},
   "outputs": [
    {
     "name": "stdout",
     "output_type": "stream",
     "text": [
      "The Local Admin is Hari\n",
      "The global admin in Hari\n",
      "The global variable has been updated within the function becasuse of usage of the keyword \"global\"\n",
      "The current value in the global varibale \"admin\" is : Hari\n"
     ]
    }
   ],
   "source": [
    "#Main Code\n",
    "all_admins()\n",
    "print('The global variable has been updated within the function becasuse of usage of the keyword \"global\"')\n",
    "print(f'The current value in the global varibale \"admin\" is : {admin}')\n"
   ]
  },
  {
   "cell_type": "markdown",
   "metadata": {},
   "source": [
    "To access global variables within a local scope which has same name as the global variable, we use globals()\n",
    "Following blocks are repetition of the previous statements\n",
    "Only difference is, here the global and local varaibles have same name, diff values and global variable is not affected"
   ]
  },
  {
   "cell_type": "code",
   "execution_count": 31,
   "metadata": {},
   "outputs": [],
   "source": [
    "#Global Variable x is defined and assigned a value at the start of the code\n",
    "admin_1='Arvind'"
   ]
  },
  {
   "cell_type": "code",
   "execution_count": 32,
   "metadata": {},
   "outputs": [],
   "source": [
    "#Function Definition to differentiate Local Variable Scope  and Global Variable\n",
    "def all_admins_1():\n",
    "    global_admin_1 = globals()['admin_1'] #Assigning the global value of admin_1 to another local variable\n",
    "    admin_1='Hari' #Variable definition ambiguous to the global variable, creation of a local variable\n",
    "        \n",
    "    #The output shows the global value ‘Arvind’ is assigned to global_admin\n",
    "    print(f'The Local Admin is {admin_1}')\n",
    "    print(f'The global admin in {global_admin_1}')\n"
   ]
  },
  {
   "cell_type": "code",
   "execution_count": 33,
   "metadata": {},
   "outputs": [
    {
     "name": "stdout",
     "output_type": "stream",
     "text": [
      "The Local Admin is Hari\n",
      "The global admin in Arvind\n",
      "The global variable has not been updated within the function, thanks to globals()\n",
      "The current value in the global varibale \"admin\" is : Arvind\n"
     ]
    }
   ],
   "source": [
    "#Main Code\n",
    "all_admins_1()\n",
    "print('The global variable has not been updated within the function, thanks to globals()')\n",
    "print(f'The current value in the global varibale \"admin\" is : {admin_1}')"
   ]
  }
 ],
 "metadata": {
  "kernelspec": {
   "display_name": "Python 3",
   "language": "python",
   "name": "python3"
  },
  "language_info": {
   "codemirror_mode": {
    "name": "ipython",
    "version": 3
   },
   "file_extension": ".py",
   "mimetype": "text/x-python",
   "name": "python",
   "nbconvert_exporter": "python",
   "pygments_lexer": "ipython3",
   "version": "3.7.6"
  }
 },
 "nbformat": 4,
 "nbformat_minor": 4
}
