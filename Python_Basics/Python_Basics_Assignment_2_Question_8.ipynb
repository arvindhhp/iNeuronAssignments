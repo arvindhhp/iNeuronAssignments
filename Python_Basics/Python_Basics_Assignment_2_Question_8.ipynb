{
 "cells": [
  {
   "cell_type": "markdown",
   "metadata": {},
   "source": [
    "# Python Basics Assignment 2, Question 8\n",
    "if-elif-else example"
   ]
  },
  {
   "cell_type": "markdown",
   "metadata": {},
   "source": [
    "A code that prints Hello if 1 is stored in spam, \n",
    "prints Howdy if 2 is stored in spam, \n",
    "and prints Greetings! if anything else is stored in spam.\n"
   ]
  },
  {
   "cell_type": "code",
   "execution_count": 10,
   "metadata": {
    "scrolled": true
   },
   "outputs": [
    {
     "name": "stdout",
     "output_type": "stream",
     "text": [
      "Enter the integer value to be stored in the variable spam : 2\n",
      "Howdy\n"
     ]
    }
   ],
   "source": [
    "spam=int(input('Enter the integer value to be stored in the variable spam : '))\n",
    "\n",
    "if (spam)==1:\n",
    "\tprint('Hello')\n",
    "elif (spam)==2:\n",
    "\tprint('Howdy')\n",
    "else:\n",
    "\tprint('Greetings!')"
   ]
  }
 ],
 "metadata": {
  "kernelspec": {
   "display_name": "Python 3",
   "language": "python",
   "name": "python3"
  },
  "language_info": {
   "codemirror_mode": {
    "name": "ipython",
    "version": 3
   },
   "file_extension": ".py",
   "mimetype": "text/x-python",
   "name": "python",
   "nbconvert_exporter": "python",
   "pygments_lexer": "ipython3",
   "version": "3.7.6"
  }
 },
 "nbformat": 4,
 "nbformat_minor": 4
}
