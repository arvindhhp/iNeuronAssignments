{
 "cells": [
  {
   "cell_type": "markdown",
   "metadata": {},
   "source": [
    "# Python Basics Assignment 2, Question 6\n",
    "Explain the difference between Assignment Operator (=) and Equals To Comparison Operator (==)"
   ]
  },
  {
   "cell_type": "code",
   "execution_count": 2,
   "metadata": {},
   "outputs": [
    {
     "name": "stdout",
     "output_type": "stream",
     "text": [
      "Variable ‘var’ has the correct value\n"
     ]
    }
   ],
   "source": [
    "#Checking if the value stored in the variable is equal to 5 or not\n",
    "#Variable value assignment using assignment operator (=)\n",
    "var=5\n",
    "#if condition to compare if the variable ‘var’ has 5 in it or not using comparison operator (==)\n",
    "if var==5:\n",
    "\tprint('Variable ‘var’ has the correct value')\n",
    "else:\n",
    "\tprint('Variable ‘var’ has the incorrect value')"
   ]
  }
 ],
 "metadata": {
  "kernelspec": {
   "display_name": "Python 3",
   "language": "python",
   "name": "python3"
  },
  "language_info": {
   "codemirror_mode": {
    "name": "ipython",
    "version": 3
   },
   "file_extension": ".py",
   "mimetype": "text/x-python",
   "name": "python",
   "nbconvert_exporter": "python",
   "pygments_lexer": "ipython3",
   "version": "3.7.6"
  }
 },
 "nbformat": 4,
 "nbformat_minor": 4
}
