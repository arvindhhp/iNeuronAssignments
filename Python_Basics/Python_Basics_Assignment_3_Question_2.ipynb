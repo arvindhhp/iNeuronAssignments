{
 "cells": [
  {
   "cell_type": "markdown",
   "metadata": {},
   "source": [
    "# Python Basics Assignment 3, Question 2\n",
    "function definiton and function call"
   ]
  },
  {
   "cell_type": "markdown",
   "metadata": {},
   "source": [
    "Following example defines a function to take 3 integers, a, b and c as inputs, evaluates a^(b+c) and returns the value of a^(b+c) when called"
   ]
  },
  {
   "cell_type": "code",
   "execution_count": 10,
   "metadata": {
    "scrolled": true
   },
   "outputs": [],
   "source": [
    "#Function Definition\n",
    "#a, b and c are the parameters that the function definition exp_function() takes as inputs at the time of execution\n",
    "def exp_function(a,b,c):\n",
    "\toutput= a**(b+c)\n",
    "\treturn output \t#return statement returns the value specified at the time of function call"
   ]
  },
  {
   "cell_type": "code",
   "execution_count": 11,
   "metadata": {},
   "outputs": [
    {
     "name": "stdout",
     "output_type": "stream",
     "text": [
      "Enter three integers delimited by single whitespace ‘ ‘ : 3 4 5\n",
      "The desired output returned by the function is 19683\n"
     ]
    }
   ],
   "source": [
    "#Main section of the code\n",
    "x,y,z=input('Enter three integers delimited by single whitespace ‘ ‘ : ').split()\n",
    "x=int(x)\n",
    "y=int(y)\n",
    "z=int(z)\n",
    "\n",
    "#Function Call, this is the part of the main code where the function is called and it gets executed\n",
    "#x, y and z are supplied as the input arguments to the functions which will replace the positional arguments defined in the function definition\n",
    "desired_output=exp_function(x,y,z)\n",
    "print(f'The desired output returned by the function is {desired_output}')\n"
   ]
  }
 ],
 "metadata": {
  "kernelspec": {
   "display_name": "Python 3",
   "language": "python",
   "name": "python3"
  },
  "language_info": {
   "codemirror_mode": {
    "name": "ipython",
    "version": 3
   },
   "file_extension": ".py",
   "mimetype": "text/x-python",
   "name": "python",
   "nbconvert_exporter": "python",
   "pygments_lexer": "ipython3",
   "version": "3.7.6"
  }
 },
 "nbformat": 4,
 "nbformat_minor": 4
}
